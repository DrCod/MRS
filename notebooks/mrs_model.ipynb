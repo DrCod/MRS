{
 "cells": [
  {
   "cell_type": "code",
   "execution_count": 1,
   "metadata": {},
   "outputs": [
    {
     "name": "stderr",
     "output_type": "stream",
     "text": [
      "Using TensorFlow backend.\n"
     ]
    }
   ],
   "source": [
    "import os\n",
    "import numpy as np\n",
    "from keras.models import Sequential\n",
    "from keras.layers import Dense,Activation, Flatten\n",
    "from keras.layers import Conv2D, MaxPooling2D,SeparableConv2D,Conv1D, MaxPooling1D,SeparableConv1D\n",
    "from keras.layers import Dense\n",
    "from keras.wrappers.scikit_learn import KerasClassifier\n",
    "from sklearn.model_selection import cross_val_score\n",
    "from sklearn.model_selection import KFold\n",
    "from sklearn.model_selection import train_test_split\n",
    "%matplotlib inline\n",
    "import matplotlib.pyplot as plt\n",
    "from keras.callbacks import EarlyStopping"
   ]
  },
  {
   "cell_type": "code",
   "execution_count": 2,
   "metadata": {},
   "outputs": [],
   "source": [
    "DATASETS_DIR = \"../datasets_text/\"\n",
    "BASE_DIR =\"../\""
   ]
  },
  {
   "cell_type": "code",
   "execution_count": 74,
   "metadata": {},
   "outputs": [],
   "source": [
    "## ALL IMPORTANT FUNCTIONS\n",
    "##--basis sets generation functioin\n",
    "def generate_basis_sets(basis_path):\n",
    "    generated_basis_sets =np.zeros((2048,22),dtype=complex)\n",
    "    for i,m in enumerate(os.listdir(basis_path)):\n",
    "        with open(os.path.join(METABOLITES_DIR,m)) as f:\n",
    "            j=0\n",
    "            for line in f.readlines()[22:]:\n",
    "                line =line.strip()\n",
    "                if line:\n",
    "                    data =line.split()\n",
    "                    m_real,m_imag = data[0],data[1]\n",
    "                    m_sig =complex(float(m_real),float(m_imag))\n",
    "                    generated_basis_sets[j,i] =m_sig\n",
    "                j=j+1\n",
    "        f.close()\n",
    "    return np.asarray(generated_basis_sets)\n",
    "\n",
    "##--mrs signals generation function\n",
    "def generate_data(data_list):\n",
    "    generated_data =np.zeros((2048,28),dtype=complex)\n",
    "    for i,fname in enumerate(data_list):\n",
    "        with open(os.path.join(DATASETS_DIR,fname)) as f:\n",
    "            j=0\n",
    "            for line in f:\n",
    "                line = line.strip()\n",
    "                if line:\n",
    "                    data = line.split()\n",
    "                    real_part = data[0]\n",
    "                    imag_part =data[1]\n",
    "                    complex_signal = complex(float(real_part),float(imag_part))\n",
    "                    generated_data[j,i]=complex_signal\n",
    "                j = j+1\n",
    "        f.close()\n",
    "    return generated_data\n",
    "\n",
    "##--fourier transformation function\n",
    "def td_2_fd(samples):\n",
    "    f_domain = []\n",
    "    for a in np.arange(samples.shape[1]):\n",
    "        fft_data =np.fft.fft(samples[:,a])\n",
    "        f_domain.append(fft_data)\n",
    "    return np.asarray(f_domain)\n",
    "\n",
    "##-- normalization function of the amplitudes\n",
    "def normalize_ffts(ffts):\n",
    "    for i in np.arange(ffts.shape[1]):\n",
    "        ffts[:,i] -= ffts[:,i].mean()\n",
    "        ffts[:,i] /= ffts.std()\n",
    "    return ffts\n",
    "\n",
    "## generating fake concentrations of my simulated datasets\n",
    "def fake_concentrations():\n",
    "    concentrations = np.zeros((22,28), dtype=float)\n",
    "    for i in np.arange(22):\n",
    "        for j in np.arange(28):\n",
    "            concentrations[i,j] = np.random.choice(10)\n",
    "    return concentrations"
   ]
  },
  {
   "cell_type": "code",
   "execution_count": 4,
   "metadata": {},
   "outputs": [
    {
     "data": {
      "text/plain": [
       "(2048, 22)"
      ]
     },
     "execution_count": 4,
     "metadata": {},
     "output_type": "execute_result"
    }
   ],
   "source": [
    "# metabolite basis sets\n",
    "METABOLITES_DIR =\"../basis_sets/\"\n",
    "bm = generate_basis_sets(METABOLITES_DIR)\n",
    "bm_ffts  = td_2_fd(bm)\n",
    "bm_ffts = bm_ffts.T\n",
    "Y = normalize_ffts(bm_ffts)\n",
    "Y.shape"
   ]
  },
  {
   "cell_type": "code",
   "execution_count": 5,
   "metadata": {},
   "outputs": [
    {
     "name": "stderr",
     "output_type": "stream",
     "text": [
      "/home/dronny/anaconda3/envs/tensorflow/lib/python3.6/site-packages/numpy/core/numeric.py:492: ComplexWarning: Casting complex values to real discards the imaginary part\n",
      "  return array(a, dtype, copy=False, order=order)\n"
     ]
    },
    {
     "data": {
      "text/plain": [
       "[<matplotlib.lines.Line2D at 0x7f5946d88780>,\n",
       " <matplotlib.lines.Line2D at 0x7f5946d88978>,\n",
       " <matplotlib.lines.Line2D at 0x7f5946d88ac8>,\n",
       " <matplotlib.lines.Line2D at 0x7f5946d88c18>]"
      ]
     },
     "execution_count": 5,
     "metadata": {},
     "output_type": "execute_result"
    },
    {
     "data": {
      "image/png": "[encoded data removed]",
      "text/plain": [
       "<Figure size 432x288 with 1 Axes>"
      ]
     },
     "metadata": {
      "needs_background": "light"
     },
     "output_type": "display_data"
    }
   ],
   "source": [
    "plt.plot(Y[:,1:5])"
   ]
  },
  {
   "cell_type": "code",
   "execution_count": 6,
   "metadata": {},
   "outputs": [
    {
     "data": {
      "text/plain": [
       "(2048, 28)"
      ]
     },
     "execution_count": 6,
     "metadata": {},
     "output_type": "execute_result"
    }
   ],
   "source": [
    "# mrs signal samples\n",
    "datasets = os.listdir(DATASETS_DIR)\n",
    "del datasets[1]\n",
    "samples = generate_data(datasets)\n",
    "samples_ffts  = td_2_fd(samples)\n",
    "samples_ffts = samples_ffts.T\n",
    "X = normalize_ffts(samples_ffts)\n",
    "X.shape"
   ]
  },
  {
   "cell_type": "code",
   "execution_count": 7,
   "metadata": {},
   "outputs": [
    {
     "data": {
      "text/plain": [
       "[<matplotlib.lines.Line2D at 0x7f5944c5d470>,\n",
       " <matplotlib.lines.Line2D at 0x7f5944c5d5c0>,\n",
       " <matplotlib.lines.Line2D at 0x7f5944c5d710>,\n",
       " <matplotlib.lines.Line2D at 0x7f5944c5d860>]"
      ]
     },
     "execution_count": 7,
     "metadata": {},
     "output_type": "execute_result"
    },
    {
     "data": {
      "image/png": "[encoded data removed]",
      "text/plain": [
       "<Figure size 432x288 with 1 Axes>"
      ]
     },
     "metadata": {
      "needs_background": "light"
     },
     "output_type": "display_data"
    }
   ],
   "source": [
    "plt.plot(X[:,1:5])"
   ]
  },
  {
   "cell_type": "code",
   "execution_count": 128,
   "metadata": {},
   "outputs": [],
   "source": [
    "from keras import backend as K\n",
    "K.set_image_dim_ordering('th')\n",
    "\n",
    "def get_model():\n",
    "    model = Sequential()\n",
    "    model.add(Conv1D(16, (2,),input_shape=(2048,1)))\n",
    "    model.add(Activation('relu'))\n",
    "    model.add(MaxPooling1D(pool_size=2))\n",
    "    \n",
    "    model.add(Conv1D(32, (3,)))\n",
    "    model.add(Activation('relu'))\n",
    "    model.add(MaxPooling1D(pool_size=2))\n",
    "    \n",
    "    model.add(Conv1D(64, (3,)))\n",
    "    model.add(Activation('relu'))\n",
    "    model.add(MaxPooling1D(pool_size=2))\n",
    "    \n",
    "    model.add(Conv1D(128, (3,)))\n",
    "    model.add(Activation('relu'))\n",
    "    model.add(MaxPooling1D(pool_size=2))\n",
    "    \n",
    "    model.add(Flatten())\n",
    "    model.add(Dense(22))\n",
    "    \n",
    "    model.compile(loss='mean_squared_error',\n",
    "                optimizer='Adam',\n",
    "                metrics=['accuracy'])\n",
    "    return model"
   ]
  },
  {
   "cell_type": "code",
   "execution_count": 135,
   "metadata": {},
   "outputs": [],
   "source": [
    "def get_model_2():\n",
    "    model_2 = Sequential()\n",
    "    model_2.add(SeparableConv1D(16, (2,),input_shape=(2048,1)))\n",
    "    model_2.add(Activation('relu'))\n",
    "    model_2.add(MaxPooling1D(pool_size=2))\n",
    "    \n",
    "    model_2.add(SeparableConv1D(32, (3,)))\n",
    "    model_2.add(Activation('relu'))\n",
    "    model_2.add(MaxPooling1D(pool_size=2))\n",
    "    \n",
    "    model_2.add(SeparableConv1D(64, (3,)))\n",
    "    model_2.add(Activation('relu'))\n",
    "    model_2.add(MaxPooling1D(pool_size=2))\n",
    "    \n",
    "    model_2.add(SeparableConv1D(128, (3,)))\n",
    "    model_2.add(Activation('relu'))\n",
    "    model_2.add(MaxPooling1D(pool_size=2))\n",
    "    \n",
    "    model_2.add(Flatten())\n",
    "    model_2.add(Dense(22))\n",
    "    \n",
    "    model_2.compile(loss='mean_squared_error',\n",
    "                optimizer='Adam',\n",
    "                metrics=['accuracy'])\n",
    "    return model_2"
   ]
  },
  {
   "cell_type": "code",
   "execution_count": 131,
   "metadata": {},
   "outputs": [
    {
     "data": {
      "text/plain": [
       "(22, 2048, 1)"
      ]
     },
     "execution_count": 131,
     "metadata": {},
     "output_type": "execute_result"
    }
   ],
   "source": [
    "##Data splitting\n",
    "## 80% training -- 20% testing\n",
    "\n",
    "X_train ,X_test = train_test_split(X.T,test_size =0.2, random_state =10)\n",
    "\n",
    "X_train = np.reshape(X_train, (X_train.shape[0],X_train.shape[1],1))\n",
    "X_test = np.reshape(X_test, (X_test.shape[0],X_test.shape[1],1))\n",
    "#Y_test = np.reshape(Y_test, (Y_test.shape[0],Y_test.shape[1], 1))\n",
    "\n",
    "X_train.shape"
   ]
  },
  {
   "cell_type": "code",
   "execution_count": 132,
   "metadata": {},
   "outputs": [
    {
     "data": {
      "text/plain": [
       "(6, 22)"
      ]
     },
     "execution_count": 132,
     "metadata": {},
     "output_type": "execute_result"
    }
   ],
   "source": [
    "concs =fake_concentrations()\n",
    "Y_train ,Y_test = train_test_split(Y.T,test_size =0.2, random_state =10)\n",
    "Y_test.shape"
   ]
  },
  {
   "cell_type": "code",
   "execution_count": 133,
   "metadata": {},
   "outputs": [
    {
     "name": "stdout",
     "output_type": "stream",
     "text": [
      "Train on 17 samples, validate on 5 samples\n",
      "Epoch 1/50\n"
     ]
    },
    {
     "name": "stderr",
     "output_type": "stream",
     "text": [
      "/home/dronny/anaconda3/envs/tensorflow/lib/python3.6/site-packages/numpy/core/numeric.py:492: ComplexWarning: Casting complex values to real discards the imaginary part\n",
      "  return array(a, dtype, copy=False, order=order)\n"
     ]
    },
    {
     "name": "stdout",
     "output_type": "stream",
     "text": [
      "17/17 [==============================] - 10s 593ms/step - loss: 30.1354 - acc: 0.1176 - val_loss: 20.9825 - val_acc: 0.0000e+00\n",
      "Epoch 2/50\n",
      "17/17 [==============================] - 0s 3ms/step - loss: 25.6553 - acc: 0.0588 - val_loss: 17.1406 - val_acc: 0.0000e+00\n",
      "Epoch 3/50\n",
      "17/17 [==============================] - 0s 4ms/step - loss: 21.8595 - acc: 0.0588 - val_loss: 13.2102 - val_acc: 0.2000\n",
      "Epoch 4/50\n",
      "17/17 [==============================] - 0s 6ms/step - loss: 19.8027 - acc: 0.1176 - val_loss: 10.7247 - val_acc: 0.2000\n",
      "Epoch 5/50\n",
      "17/17 [==============================] - 0s 5ms/step - loss: 20.2654 - acc: 0.1176 - val_loss: 10.2210 - val_acc: 0.2000\n",
      "Epoch 6/50\n",
      "17/17 [==============================] - 0s 4ms/step - loss: 19.8220 - acc: 0.1176 - val_loss: 10.3392 - val_acc: 0.2000\n",
      "Epoch 7/50\n",
      "17/17 [==============================] - 0s 5ms/step - loss: 18.2298 - acc: 0.1176 - val_loss: 10.6860 - val_acc: 0.2000\n",
      "Epoch 8/50\n",
      "17/17 [==============================] - 0s 4ms/step - loss: 16.8227 - acc: 0.1765 - val_loss: 11.0659 - val_acc: 0.2000\n"
     ]
    }
   ],
   "source": [
    "early_stopping_monitor = EarlyStopping(patience=3)\n",
    "model = get_model()\n",
    "history =model.fit(X_train,Y_train, epochs=50,validation_split =0.2,callbacks=[early_stopping_monitor])"
   ]
  },
  {
   "cell_type": "code",
   "execution_count": 134,
   "metadata": {},
   "outputs": [
    {
     "data": {
      "image/png": "[encoded data removed]",
      "text/plain": [
       "<Figure size 432x288 with 1 Axes>"
      ]
     },
     "metadata": {
      "needs_background": "light"
     },
     "output_type": "display_data"
    },
    {
     "data": {
      "text/plain": [
       "<Figure size 432x288 with 0 Axes>"
      ]
     },
     "metadata": {},
     "output_type": "display_data"
    }
   ],
   "source": [
    "# summarize history for loss\n",
    "plt.plot(history.history['loss'])\n",
    "plt.plot(history.history['val_loss'])\n",
    "plt.title('model loss')\n",
    "plt.ylabel('loss')\n",
    "plt.xlabel('epoch')\n",
    "plt.legend(['train', 'test'], loc='upper right')\n",
    "plt.show()\n",
    "plt.savefig('model_loss_50epochs.png')"
   ]
  },
  {
   "cell_type": "code",
   "execution_count": null,
   "metadata": {},
   "outputs": [],
   "source": [
    "firstModel = get_model()\n",
    "firstModel.summary()"
   ]
  },
  {
   "cell_type": "code",
   "execution_count": null,
   "metadata": {},
   "outputs": [],
   "source": [
    "scores1 =firstModel.evaluate(X_test,Y[5:10])\n",
    "scores2 =firstModel.evaluate(X_test,Y[:5] )\n",
    "scores3 =firstModel.evaluate(X_test,Y[:5] )\n",
    "scores4 =firstModel.evaluate(X_test, Y[10:15])\n",
    "\n",
    "total_score =0.25*(scores1[0]+scores2[0]+scores3[0]+scores4[0])\n",
    "total_accuracy = total_score*100\n",
    "total_accuracy"
   ]
  },
  {
   "cell_type": "code",
   "execution_count": null,
   "metadata": {},
   "outputs": [],
   "source": [
    "secondModel = get_model_2()\n",
    "secondModel.summary()"
   ]
  },
  {
   "cell_type": "code",
   "execution_count": null,
   "metadata": {},
   "outputs": [],
   "source": [
    "early_stopping_monitor = EarlyStopping(patience=3)\n",
    "history =secondModel.fit(X_train,Y_train,epochs=50,validation_split =0.2,callbacks=[early_stopping_monitor]) "
   ]
  },
  {
   "cell_type": "code",
   "execution_count": null,
   "metadata": {},
   "outputs": [],
   "source": [
    "# summarize history for loss\n",
    "plt.plot(history.history['loss'])\n",
    "plt.plot(history.history['val_loss'])\n",
    "plt.title('model loss')\n",
    "plt.ylabel('loss')\n",
    "plt.xlabel('epoch')\n",
    "plt.legend(['train', 'test'], loc='upper right')\n",
    "plt.show()\n",
    "plt.savefig('model2_loss_50epochs.png')"
   ]
  },
  {
   "cell_type": "code",
   "execution_count": null,
   "metadata": {},
   "outputs": [],
   "source": [
    "scores1 =secondModel.evaluate(X_test,Y[5:10])\n",
    "scores2 =secondModel.evaluate(X_test, Y[15:20])\n",
    "scores3 =secondModel.evaluate(X_test,Y[:5])\n",
    "scores4 =secondModel.evaluate(X_test,Y[:5] )\n",
    "\n",
    "total_score =0.25*(scores1[0]+scores2[0]+scores3[0]+scores4[0])\n",
    "total_accuracy = total_score*100\n",
    "total_accuracy"
   ]
  },
  {
   "cell_type": "code",
   "execution_count": null,
   "metadata": {},
   "outputs": [],
   "source": [
    "X_new = np.reshape(fd_ace, (1,fd_ace.shape[0],1))\n",
    "y_predict = firstModel.predict(X_new)"
   ]
  },
  {
   "cell_type": "code",
   "execution_count": null,
   "metadata": {},
   "outputs": [],
   "source": [
    "ace = y_predict.T\n",
    "ace_abs = np.abs(np.fft.rfft(ace))\n",
    "plt.plot(ace_abs)"
   ]
  },
  {
   "cell_type": "code",
   "execution_count": null,
   "metadata": {},
   "outputs": [],
   "source": []
  },
  {
   "cell_type": "code",
   "execution_count": null,
   "metadata": {},
   "outputs": [],
   "source": []
  }
 ],
 "metadata": {
  "kernelspec": {
   "display_name": "Python 3",
   "language": "python",
   "name": "python3"
  },
  "language_info": {
   "codemirror_mode": {
    "name": "ipython",
    "version": 3
   },
   "file_extension": ".py",
   "mimetype": "text/x-python",
   "name": "python",
   "nbconvert_exporter": "python",
   "pygments_lexer": "ipython3",
   "version": "3.6.6"
  }
 },
 "nbformat": 4,
 "nbformat_minor": 2
}
