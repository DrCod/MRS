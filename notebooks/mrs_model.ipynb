{
 "cells": [
  {
   "cell_type": "code",
   "execution_count": 1,
   "metadata": {},
   "outputs": [
    {
     "name": "stderr",
     "output_type": "stream",
     "text": [
      "Using TensorFlow backend.\n"
     ]
    }
   ],
   "source": [
    "import os\n",
    "import numpy as np\n",
    "from keras.models import Sequential\n",
    "from keras.layers import Dense,Activation, Flatten\n",
    "from keras.layers import Conv2D, MaxPooling2D,SeparableConv2D,Conv1D, MaxPooling1D,SeparableConv1D\n",
    "from keras.layers import Dense\n",
    "from keras.wrappers.scikit_learn import KerasClassifier\n",
    "from sklearn.model_selection import cross_val_score\n",
    "from sklearn.model_selection import KFold\n",
    "from sklearn.model_selection import train_test_split\n",
    "%matplotlib inline\n",
    "import matplotlib.pyplot as plt\n",
    "from keras.callbacks import EarlyStopping"
   ]
  },
  {
   "cell_type": "code",
   "execution_count": 2,
   "metadata": {},
   "outputs": [],
   "source": [
    "DATASETS_DIR = \"../datasets_text/\"\n",
    "BASE_DIR =\"../\""
   ]
  },
  {
   "cell_type": "code",
   "execution_count": 3,
   "metadata": {},
   "outputs": [],
   "source": [
    "## ALL IMPORTANT FUNCTIONS\n",
    "##--basis sets generation functioin\n",
    "def generate_basis_sets(basis_path):\n",
    "    generated_basis_sets =np.zeros((2048,22),dtype=complex)\n",
    "    for i,m in enumerate(os.listdir(basis_path)):\n",
    "        with open(os.path.join(METABOLITES_DIR,m)) as f:\n",
    "            j=0\n",
    "            for line in f.readlines()[22:]:\n",
    "                line =line.strip()\n",
    "                if line:\n",
    "                    data =line.split()\n",
    "                    m_real,m_imag = data[0],data[1]\n",
    "                    m_sig =complex(float(m_real),float(m_imag))\n",
    "                    generated_basis_sets[j,i] =m_sig\n",
    "                j=j+1\n",
    "        f.close()\n",
    "    return np.asarray(generated_basis_sets)\n",
    "\n",
    "##--mrs signals generation function\n",
    "def generate_data(data_list):\n",
    "    generated_data =np.zeros((2048,28),dtype=complex)\n",
    "    for i,fname in enumerate(data_list):\n",
    "        with open(os.path.join(DATASETS_DIR,fname)) as f:\n",
    "            j=0\n",
    "            for line in f:\n",
    "                line = line.strip()\n",
    "                if line:\n",
    "                    data = line.split()\n",
    "                    real_part = data[0]\n",
    "                    imag_part =data[1]\n",
    "                    complex_signal = complex(float(real_part),float(imag_part))\n",
    "                    generated_data[j,i]=complex_signal\n",
    "                j = j+1\n",
    "        f.close()\n",
    "    return generated_data\n",
    "\n",
    "##--fourier transformation function\n",
    "def td_2_fd(samples):\n",
    "    f_domain = []\n",
    "    for a in np.arange(samples.shape[1]):\n",
    "        fft_data =np.fft.fft(samples[:,a])\n",
    "        f_domain.append(fft_data)\n",
    "    return np.asarray(f_domain)\n",
    "\n",
    "##-- normalization function of the amplitudes\n",
    "def normalize_ffts(ffts):\n",
    "    for i in np.arange(ffts.shape[1]):\n",
    "        ffts[:,i] -= ffts[:,i].mean()\n",
    "        ffts[:,i] /= ffts.std()\n",
    "    return ffts\n",
    "\n",
    "## generating fake concentrations of my simulated datasets\n",
    "def fake_concentrations():\n",
    "    concentrations = np.zeros((22,28), dtype=float)\n",
    "    for i in np.arange(22):\n",
    "        for j in np.arange(28):\n",
    "            concentrations[i,j] = np.random.choice(10)\n",
    "    return concentrations"
   ]
  },
  {
   "cell_type": "code",
   "execution_count": 4,
   "metadata": {},
   "outputs": [
    {
     "data": {
      "text/plain": [
       "(2048, 22)"
      ]
     },
     "execution_count": 4,
     "metadata": {},
     "output_type": "execute_result"
    }
   ],
   "source": [
    "# metabolite basis sets\n",
    "METABOLITES_DIR =\"../basis_sets/\"\n",
    "bm = generate_basis_sets(METABOLITES_DIR)\n",
    "bm_ffts  = td_2_fd(bm)\n",
    "bm_ffts = bm_ffts.T\n",
    "Y = normalize_ffts(bm_ffts)\n",
    "Y.shape"
   ]
  },
  {
   "cell_type": "code",
   "execution_count": 5,
   "metadata": {},
   "outputs": [
    {
     "name": "stderr",
     "output_type": "stream",
     "text": [
      "/home/dronny/anaconda3/envs/tensorflow/lib/python3.6/site-packages/numpy/core/numeric.py:492: ComplexWarning: Casting complex values to real discards the imaginary part\n",
      "  return array(a, dtype, copy=False, order=order)\n"
     ]
    },
    {
     "data": {
      "text/plain": [
       "[<matplotlib.lines.Line2D at 0x7f830db867f0>,\n",
       " <matplotlib.lines.Line2D at 0x7f830db869e8>,\n",
       " <matplotlib.lines.Line2D at 0x7f830db86b38>,\n",
       " <matplotlib.lines.Line2D at 0x7f830db86c88>]"
      ]
     },
     "execution_count": 5,
     "metadata": {},
     "output_type": "execute_result"
    },
    {
     "data": {
      "image/png": "[encoded data removed]",
      "text/plain": [
       "<Figure size 432x288 with 1 Axes>"
      ]
     },
     "metadata": {
      "needs_background": "light"
     },
     "output_type": "display_data"
    }
   ],
   "source": [
    "plt.plot(Y[:,1:5])"
   ]
  },
  {
   "cell_type": "code",
   "execution_count": 6,
   "metadata": {},
   "outputs": [
    {
     "data": {
      "text/plain": [
       "(2048, 28)"
      ]
     },
     "execution_count": 6,
     "metadata": {},
     "output_type": "execute_result"
    }
   ],
   "source": [
    "# mrs signal samples\n",
    "datasets = os.listdir(DATASETS_DIR)\n",
    "del datasets[1]\n",
    "samples = generate_data(datasets)\n",
    "samples_ffts  = td_2_fd(samples)\n",
    "samples_ffts = samples_ffts.T\n",
    "X = normalize_ffts(samples_ffts)\n",
    "X.shape"
   ]
  },
  {
   "cell_type": "code",
   "execution_count": 7,
   "metadata": {},
   "outputs": [
    {
     "data": {
      "text/plain": [
       "[<matplotlib.lines.Line2D at 0x7f830bad9518>,\n",
       " <matplotlib.lines.Line2D at 0x7f830bad9668>,\n",
       " <matplotlib.lines.Line2D at 0x7f830bad97b8>,\n",
       " <matplotlib.lines.Line2D at 0x7f830bad9908>]"
      ]
     },
     "execution_count": 7,
     "metadata": {},
     "output_type": "execute_result"
    },
    {
     "data": {
      "image/png": "[encoded data removed]",
      "text/plain": [
       "<Figure size 432x288 with 1 Axes>"
      ]
     },
     "metadata": {
      "needs_background": "light"
     },
     "output_type": "display_data"
    }
   ],
   "source": [
    "plt.plot(X[:,1:5])"
   ]
  },
  {
   "cell_type": "code",
   "execution_count": 8,
   "metadata": {},
   "outputs": [],
   "source": [
    "from keras import backend as K\n",
    "K.set_image_dim_ordering('th')\n",
    "\n",
    "def get_model():\n",
    "    model = Sequential()\n",
    "    model.add(Conv1D(16, (2,),input_shape=(2048,1)))\n",
    "    model.add(Activation('relu'))\n",
    "    model.add(MaxPooling1D(pool_size=2))\n",
    "    \n",
    "    model.add(Conv1D(32, (3,)))\n",
    "    model.add(Activation('relu'))\n",
    "    model.add(MaxPooling1D(pool_size=2))\n",
    "    \n",
    "    model.add(Conv1D(64, (3,)))\n",
    "    model.add(Activation('relu'))\n",
    "    model.add(MaxPooling1D(pool_size=2))\n",
    "    \n",
    "    model.add(Conv1D(128, (3,)))\n",
    "    model.add(Activation('relu'))\n",
    "    model.add(MaxPooling1D(pool_size=2))\n",
    "    \n",
    "    model.add(Flatten())\n",
    "    model.add(Dense(22))\n",
    "    \n",
    "    model.compile(loss='mean_squared_error',\n",
    "                optimizer='Adam',\n",
    "                metrics=['accuracy'])\n",
    "    return model"
   ]
  },
  {
   "cell_type": "code",
   "execution_count": 9,
   "metadata": {},
   "outputs": [],
   "source": [
    "def get_model_2():\n",
    "    model_2 = Sequential()\n",
    "    model_2.add(SeparableConv1D(16, (2,),input_shape=(2048,1)))\n",
    "    model_2.add(Activation('relu'))\n",
    "    model_2.add(MaxPooling1D(pool_size=2))\n",
    "    \n",
    "    model_2.add(SeparableConv1D(32, (3,)))\n",
    "    model_2.add(Activation('relu'))\n",
    "    model_2.add(MaxPooling1D(pool_size=2))\n",
    "    \n",
    "    model_2.add(SeparableConv1D(64, (3,)))\n",
    "    model_2.add(Activation('relu'))\n",
    "    model_2.add(MaxPooling1D(pool_size=2))\n",
    "    \n",
    "    model_2.add(SeparableConv1D(128, (3,)))\n",
    "    model_2.add(Activation('relu'))\n",
    "    model_2.add(MaxPooling1D(pool_size=2))\n",
    "    \n",
    "    model_2.add(Flatten())\n",
    "    model_2.add(Dense(22))\n",
    "    \n",
    "    model_2.compile(loss='mean_squared_error',\n",
    "                optimizer='Adam',\n",
    "                metrics=['accuracy'])\n",
    "    return model_2"
   ]
  },
  {
   "cell_type": "code",
   "execution_count": 10,
   "metadata": {},
   "outputs": [
    {
     "data": {
      "text/plain": [
       "(22, 2048, 1)"
      ]
     },
     "execution_count": 10,
     "metadata": {},
     "output_type": "execute_result"
    }
   ],
   "source": [
    "##Data splitting\n",
    "## 80% training -- 20% testing\n",
    "\n",
    "X_train ,X_test = train_test_split(X.T,test_size =0.2, random_state =10)\n",
    "\n",
    "X_train = np.reshape(X_train, (X_train.shape[0],X_train.shape[1],1))\n",
    "X_test = np.reshape(X_test, (X_test.shape[0],X_test.shape[1],1))\n",
    "#Y_test = np.reshape(Y_test, (Y_test.shape[0],Y_test.shape[1], 1))\n",
    "\n",
    "X_train.shape"
   ]
  },
  {
   "cell_type": "code",
   "execution_count": 19,
   "metadata": {},
   "outputs": [
    {
     "data": {
      "text/plain": [
       "((22, 22), (6, 22))"
      ]
     },
     "execution_count": 19,
     "metadata": {},
     "output_type": "execute_result"
    }
   ],
   "source": [
    "concs =fake_concentrations()\n",
    "Y_train ,Y_test = train_test_split(concs.T,test_size =0.2, random_state =10)\n",
    "Y_train.shape, Y_test.shape"
   ]
  },
  {
   "cell_type": "code",
   "execution_count": 20,
   "metadata": {},
   "outputs": [
    {
     "name": "stdout",
     "output_type": "stream",
     "text": [
      "Train on 17 samples, validate on 5 samples\n",
      "Epoch 1/50\n",
      "17/17 [==============================] - 1s 85ms/step - loss: 29.2226 - acc: 0.0588 - val_loss: 25.8214 - val_acc: 0.0000e+00\n",
      "Epoch 2/50\n",
      "17/17 [==============================] - 0s 4ms/step - loss: 24.6906 - acc: 0.0588 - val_loss: 20.0210 - val_acc: 0.0000e+00\n",
      "Epoch 3/50\n",
      "17/17 [==============================] - 0s 4ms/step - loss: 19.7470 - acc: 0.0588 - val_loss: 14.5146 - val_acc: 0.0000e+00\n",
      "Epoch 4/50\n",
      "17/17 [==============================] - 0s 4ms/step - loss: 18.2122 - acc: 0.0588 - val_loss: 12.2951 - val_acc: 0.0000e+00\n",
      "Epoch 5/50\n",
      "17/17 [==============================] - 0s 4ms/step - loss: 19.5233 - acc: 0.0000e+00 - val_loss: 12.3235 - val_acc: 0.0000e+00\n",
      "Epoch 6/50\n",
      "17/17 [==============================] - 0s 4ms/step - loss: 18.3122 - acc: 0.0000e+00 - val_loss: 12.8899 - val_acc: 0.0000e+00\n",
      "Epoch 7/50\n",
      "17/17 [==============================] - 0s 4ms/step - loss: 16.2742 - acc: 0.0000e+00 - val_loss: 13.6503 - val_acc: 0.0000e+00\n"
     ]
    }
   ],
   "source": [
    "early_stopping_monitor = EarlyStopping(patience=3)\n",
    "model = get_model()\n",
    "history =model.fit(X_train,Y_train, epochs=50,validation_split =0.2,callbacks=[early_stopping_monitor])"
   ]
  },
  {
   "cell_type": "code",
   "execution_count": 21,
   "metadata": {},
   "outputs": [
    {
     "data": {
      "image/png": "[encoded data removed]",
      "text/plain": [
       "<Figure size 432x288 with 1 Axes>"
      ]
     },
     "metadata": {
      "needs_background": "light"
     },
     "output_type": "display_data"
    },
    {
     "data": {
      "text/plain": [
       "<Figure size 432x288 with 0 Axes>"
      ]
     },
     "metadata": {},
     "output_type": "display_data"
    }
   ],
   "source": [
    "# summarize history for loss\n",
    "plt.plot(history.history['loss'])\n",
    "plt.plot(history.history['val_loss'])\n",
    "plt.title('model loss')\n",
    "plt.ylabel('loss')\n",
    "plt.xlabel('epoch')\n",
    "plt.legend(['train', 'test'], loc='upper right')\n",
    "plt.show()\n",
    "plt.savefig('model_loss_50epochs.png')"
   ]
  },
  {
   "cell_type": "code",
   "execution_count": 22,
   "metadata": {},
   "outputs": [
    {
     "name": "stdout",
     "output_type": "stream",
     "text": [
      "_________________________________________________________________\n",
      "Layer (type)                 Output Shape              Param #   \n",
      "=================================================================\n",
      "conv1d_17 (Conv1D)           (None, 2047, 16)          48        \n",
      "_________________________________________________________________\n",
      "activation_17 (Activation)   (None, 2047, 16)          0         \n",
      "_________________________________________________________________\n",
      "max_pooling1d_17 (MaxPooling (None, 1023, 16)          0         \n",
      "_________________________________________________________________\n",
      "conv1d_18 (Conv1D)           (None, 1021, 32)          1568      \n",
      "_________________________________________________________________\n",
      "activation_18 (Activation)   (None, 1021, 32)          0         \n",
      "_________________________________________________________________\n",
      "max_pooling1d_18 (MaxPooling (None, 510, 32)           0         \n",
      "_________________________________________________________________\n",
      "conv1d_19 (Conv1D)           (None, 508, 64)           6208      \n",
      "_________________________________________________________________\n",
      "activation_19 (Activation)   (None, 508, 64)           0         \n",
      "_________________________________________________________________\n",
      "max_pooling1d_19 (MaxPooling (None, 254, 64)           0         \n",
      "_________________________________________________________________\n",
      "conv1d_20 (Conv1D)           (None, 252, 128)          24704     \n",
      "_________________________________________________________________\n",
      "activation_20 (Activation)   (None, 252, 128)          0         \n",
      "_________________________________________________________________\n",
      "max_pooling1d_20 (MaxPooling (None, 126, 128)          0         \n",
      "_________________________________________________________________\n",
      "flatten_5 (Flatten)          (None, 16128)             0         \n",
      "_________________________________________________________________\n",
      "dense_5 (Dense)              (None, 22)                354838    \n",
      "=================================================================\n",
      "Total params: 387,366\n",
      "Trainable params: 387,366\n",
      "Non-trainable params: 0\n",
      "_________________________________________________________________\n"
     ]
    }
   ],
   "source": [
    "firstModel = get_model()\n",
    "firstModel.summary()"
   ]
  },
  {
   "cell_type": "code",
   "execution_count": 41,
   "metadata": {},
   "outputs": [
    {
     "data": {
      "text/plain": [
       "array([-0.01480299+0.91291488j,  0.06631926+1.61562793j,\n",
       "        0.12646271+0.5820393j , -0.33024264+0.63741801j,\n",
       "        0.01538471+1.55717749j, -0.06031172+1.43008848j])"
      ]
     },
     "execution_count": 41,
     "metadata": {},
     "output_type": "execute_result"
    }
   ],
   "source": [
    "# testing model i\n",
    "# using cross validation\n",
    "X_test = np.reshape(X_test, (X_test.shape[1],X_test.shape[0]))\n",
    "X_test["
   ]
  },
  {
   "cell_type": "code",
   "execution_count": 23,
   "metadata": {},
   "outputs": [
    {
     "name": "stdout",
     "output_type": "stream",
     "text": [
      "_________________________________________________________________\n",
      "Layer (type)                 Output Shape              Param #   \n",
      "=================================================================\n",
      "separable_conv1d_1 (Separabl (None, 2047, 16)          34        \n",
      "_________________________________________________________________\n",
      "activation_21 (Activation)   (None, 2047, 16)          0         \n",
      "_________________________________________________________________\n",
      "max_pooling1d_21 (MaxPooling (None, 1023, 16)          0         \n",
      "_________________________________________________________________\n",
      "separable_conv1d_2 (Separabl (None, 1021, 32)          592       \n",
      "_________________________________________________________________\n",
      "activation_22 (Activation)   (None, 1021, 32)          0         \n",
      "_________________________________________________________________\n",
      "max_pooling1d_22 (MaxPooling (None, 510, 32)           0         \n",
      "_________________________________________________________________\n",
      "separable_conv1d_3 (Separabl (None, 508, 64)           2208      \n",
      "_________________________________________________________________\n",
      "activation_23 (Activation)   (None, 508, 64)           0         \n",
      "_________________________________________________________________\n",
      "max_pooling1d_23 (MaxPooling (None, 254, 64)           0         \n",
      "_________________________________________________________________\n",
      "separable_conv1d_4 (Separabl (None, 252, 128)          8512      \n",
      "_________________________________________________________________\n",
      "activation_24 (Activation)   (None, 252, 128)          0         \n",
      "_________________________________________________________________\n",
      "max_pooling1d_24 (MaxPooling (None, 126, 128)          0         \n",
      "_________________________________________________________________\n",
      "flatten_6 (Flatten)          (None, 16128)             0         \n",
      "_________________________________________________________________\n",
      "dense_6 (Dense)              (None, 22)                354838    \n",
      "=================================================================\n",
      "Total params: 366,184\n",
      "Trainable params: 366,184\n",
      "Non-trainable params: 0\n",
      "_________________________________________________________________\n"
     ]
    }
   ],
   "source": [
    "secondModel = get_model_2()\n",
    "secondModel.summary()"
   ]
  },
  {
   "cell_type": "code",
   "execution_count": 24,
   "metadata": {},
   "outputs": [
    {
     "name": "stdout",
     "output_type": "stream",
     "text": [
      "Train on 17 samples, validate on 5 samples\n",
      "Epoch 1/50\n",
      "17/17 [==============================] - 1s 42ms/step - loss: 29.6607 - acc: 0.0000e+00 - val_loss: 30.1427 - val_acc: 0.0000e+00\n",
      "Epoch 2/50\n",
      "17/17 [==============================] - 0s 4ms/step - loss: 29.5041 - acc: 0.0000e+00 - val_loss: 29.9010 - val_acc: 0.0000e+00\n",
      "Epoch 3/50\n",
      "17/17 [==============================] - 0s 3ms/step - loss: 29.2545 - acc: 0.0000e+00 - val_loss: 29.5067 - val_acc: 0.0000e+00\n",
      "Epoch 4/50\n",
      "17/17 [==============================] - 0s 3ms/step - loss: 28.8557 - acc: 0.0588 - val_loss: 28.9193 - val_acc: 0.0000e+00\n",
      "Epoch 5/50\n",
      "17/17 [==============================] - 0s 4ms/step - loss: 28.2694 - acc: 0.0000e+00 - val_loss: 28.1158 - val_acc: 0.0000e+00\n",
      "Epoch 6/50\n",
      "17/17 [==============================] - 0s 4ms/step - loss: 27.4747 - acc: 0.0000e+00 - val_loss: 27.0811 - val_acc: 0.2000\n",
      "Epoch 7/50\n",
      "17/17 [==============================] - 0s 4ms/step - loss: 26.4591 - acc: 0.0588 - val_loss: 25.8143 - val_acc: 0.4000\n",
      "Epoch 8/50\n",
      "17/17 [==============================] - 0s 3ms/step - loss: 25.2217 - acc: 0.1176 - val_loss: 24.3139 - val_acc: 0.4000\n",
      "Epoch 9/50\n",
      "17/17 [==============================] - 0s 4ms/step - loss: 23.7630 - acc: 0.1176 - val_loss: 22.5880 - val_acc: 0.4000\n",
      "Epoch 10/50\n",
      "17/17 [==============================] - 0s 3ms/step - loss: 22.0948 - acc: 0.1176 - val_loss: 20.6562 - val_acc: 0.4000\n",
      "Epoch 11/50\n",
      "17/17 [==============================] - 0s 4ms/step - loss: 20.2401 - acc: 0.1176 - val_loss: 18.5547 - val_acc: 0.4000\n",
      "Epoch 12/50\n",
      "17/17 [==============================] - 0s 4ms/step - loss: 18.2395 - acc: 0.1176 - val_loss: 16.3367 - val_acc: 0.4000\n",
      "Epoch 13/50\n",
      "17/17 [==============================] - 0s 4ms/step - loss: 16.1531 - acc: 0.1176 - val_loss: 14.0683 - val_acc: 0.4000\n",
      "Epoch 14/50\n",
      "17/17 [==============================] - 0s 3ms/step - loss: 14.0570 - acc: 0.1176 - val_loss: 11.8766 - val_acc: 0.4000\n",
      "Epoch 15/50\n",
      "17/17 [==============================] - 0s 4ms/step - loss: 12.0866 - acc: 0.1176 - val_loss: 9.8974 - val_acc: 0.4000\n",
      "Epoch 16/50\n",
      "17/17 [==============================] - 0s 4ms/step - loss: 10.3899 - acc: 0.1176 - val_loss: 8.3081 - val_acc: 0.4000\n",
      "Epoch 17/50\n",
      "17/17 [==============================] - 0s 4ms/step - loss: 9.1550 - acc: 0.1176 - val_loss: 7.3024 - val_acc: 0.4000\n",
      "Epoch 18/50\n",
      "17/17 [==============================] - 0s 4ms/step - loss: 8.5747 - acc: 0.1176 - val_loss: 7.0177 - val_acc: 0.2000\n",
      "Epoch 19/50\n",
      "17/17 [==============================] - 0s 4ms/step - loss: 8.7495 - acc: 0.0588 - val_loss: 7.3735 - val_acc: 0.0000e+00\n",
      "Epoch 20/50\n",
      "17/17 [==============================] - 0s 4ms/step - loss: 9.5002 - acc: 0.0000e+00 - val_loss: 7.9900 - val_acc: 0.0000e+00\n",
      "Epoch 21/50\n",
      "17/17 [==============================] - 0s 4ms/step - loss: 10.3373 - acc: 0.0000e+00 - val_loss: 8.4531 - val_acc: 0.0000e+00\n"
     ]
    }
   ],
   "source": [
    "early_stopping_monitor = EarlyStopping(patience=3)\n",
    "history =secondModel.fit(X_train,Y_train,epochs=50,validation_split =0.2,callbacks=[early_stopping_monitor]) "
   ]
  },
  {
   "cell_type": "code",
   "execution_count": 25,
   "metadata": {},
   "outputs": [
    {
     "data": {
      "image/png": "[encoded data removed]",
      "text/plain": [
       "<Figure size 432x288 with 1 Axes>"
      ]
     },
     "metadata": {
      "needs_background": "light"
     },
     "output_type": "display_data"
    },
    {
     "data": {
      "text/plain": [
       "<Figure size 432x288 with 0 Axes>"
      ]
     },
     "metadata": {},
     "output_type": "display_data"
    }
   ],
   "source": [
    "# summarize history for loss\n",
    "plt.plot(history.history['loss'])\n",
    "plt.plot(history.history['val_loss'])\n",
    "plt.title('model loss')\n",
    "plt.ylabel('loss')\n",
    "plt.xlabel('epoch')\n",
    "plt.legend(['train', 'test'], loc='upper right')\n",
    "plt.show()\n",
    "plt.savefig('model2_loss_50epochs.png')"
   ]
  },
  {
   "cell_type": "code",
   "execution_count": null,
   "metadata": {},
   "outputs": [],
   "source": []
  }
 ],
 "metadata": {
  "kernelspec": {
   "display_name": "Python 3",
   "language": "python",
   "name": "python3"
  },
  "language_info": {
   "codemirror_mode": {
    "name": "ipython",
    "version": 3
   },
   "file_extension": ".py",
   "mimetype": "text/x-python",
   "name": "python",
   "nbconvert_exporter": "python",
   "pygments_lexer": "ipython3",
   "version": "3.6.6"
  }
 },
 "nbformat": 4,
 "nbformat_minor": 2
}
