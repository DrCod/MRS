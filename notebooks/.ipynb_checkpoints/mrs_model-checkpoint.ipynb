{
 "cells": [
  {
   "cell_type": "code",
   "execution_count": 67,
   "metadata": {},
   "outputs": [],
   "source": [
    "import os\n",
    "import numpy as np\n",
    "import pandas as pd\n",
    "from keras.models import Sequential\n",
    "from keras.layers import Dense, Dropout, Activation, Flatten,InputLayer\n",
    "from keras.layers import Conv1D, MaxPooling1D,SeparableConv1D\n",
    "from keras.layers import Dense\n",
    "from keras.wrappers.scikit_learn import KerasClassifier\n",
    "from keras.utils import np_utils\n",
    "from sklearn.model_selection import cross_val_score\n",
    "from sklearn.model_selection import KFold\n",
    "from sklearn.preprocessing import LabelEncoder\n",
    "from sklearn.pipeline import Pipeline\n",
    "from sklearn.model_selection import train_test_split\n",
    "from sklearn.metrics import roc_curve, auc\n",
    "import csv\n",
    "import scipy\n",
    "%matplotlib inline\n",
    "import matplotlib.pyplot as plt\n",
    "from keras.callbacks import EarlyStopping"
   ]
  },
  {
   "cell_type": "code",
   "execution_count": 3,
   "metadata": {},
   "outputs": [],
   "source": [
    "#PARAMETERS SETTING\n",
    "\n",
    "DAMPING_FACTOR = 10\n",
    "PHASE_SHIFT =0\n",
    "DELTA_FREQUENCY =123.2\n",
    "DELTA_BETA = 0\n",
    "DELTA_ALPHA =-0.026\n",
    "NDP =2048"
   ]
  },
  {
   "cell_type": "code",
   "execution_count": 4,
   "metadata": {},
   "outputs": [],
   "source": [
    "df = pd.read_csv(\"./mrs_datasets.csv\")"
   ]
  },
  {
   "cell_type": "code",
   "execution_count": 5,
   "metadata": {},
   "outputs": [
    {
     "data": {
      "text/html": [
       "<div>\n",
       "<style scoped>\n",
       "    .dataframe tbody tr th:only-of-type {\n",
       "        vertical-align: middle;\n",
       "    }\n",
       "\n",
       "    .dataframe tbody tr th {\n",
       "        vertical-align: top;\n",
       "    }\n",
       "\n",
       "    .dataframe thead th {\n",
       "        text-align: right;\n",
       "    }\n",
       "</style>\n",
       "<table border=\"1\" class=\"dataframe\">\n",
       "  <thead>\n",
       "    <tr style=\"text-align: right;\">\n",
       "      <th></th>\n",
       "      <th>imag_component</th>\n",
       "      <th>real_component</th>\n",
       "      <th>ace_imag</th>\n",
       "      <th>ace_real</th>\n",
       "      <th>ala_imag</th>\n",
       "      <th>ala_real</th>\n",
       "      <th>asc_imag</th>\n",
       "      <th>asc_real</th>\n",
       "      <th>asp_imag</th>\n",
       "      <th>asp_real</th>\n",
       "      <th>...</th>\n",
       "      <th>naag_imag</th>\n",
       "      <th>naag_real</th>\n",
       "      <th>pcho_imag</th>\n",
       "      <th>pcho_real</th>\n",
       "      <th>pcr_imag</th>\n",
       "      <th>pcr_real</th>\n",
       "      <th>pe_imag</th>\n",
       "      <th>pe_real</th>\n",
       "      <th>tau_imag</th>\n",
       "      <th>tau_real</th>\n",
       "    </tr>\n",
       "  </thead>\n",
       "  <tbody>\n",
       "    <tr>\n",
       "      <th>0</th>\n",
       "      <td>103.39270</td>\n",
       "      <td>267.478460</td>\n",
       "      <td>0.00000</td>\n",
       "      <td>3.100000</td>\n",
       "      <td>0.034923</td>\n",
       "      <td>2.769480</td>\n",
       "      <td>0.008175</td>\n",
       "      <td>3.83645</td>\n",
       "      <td>-0.070215</td>\n",
       "      <td>2.153580</td>\n",
       "      <td>...</td>\n",
       "      <td>-0.224074</td>\n",
       "      <td>8.76237</td>\n",
       "      <td>-0.000002</td>\n",
       "      <td>12.14190</td>\n",
       "      <td>0.00000</td>\n",
       "      <td>5.10000</td>\n",
       "      <td>-0.000055</td>\n",
       "      <td>3.01880</td>\n",
       "      <td>-3.000000e-07</td>\n",
       "      <td>3.92162</td>\n",
       "    </tr>\n",
       "    <tr>\n",
       "      <th>1</th>\n",
       "      <td>208.88067</td>\n",
       "      <td>475.039650</td>\n",
       "      <td>-1.59678</td>\n",
       "      <td>2.643850</td>\n",
       "      <td>-1.425420</td>\n",
       "      <td>2.328820</td>\n",
       "      <td>-0.535391</td>\n",
       "      <td>3.75273</td>\n",
       "      <td>-0.743603</td>\n",
       "      <td>1.964530</td>\n",
       "      <td>...</td>\n",
       "      <td>-3.729120</td>\n",
       "      <td>7.74945</td>\n",
       "      <td>-3.015710</td>\n",
       "      <td>11.70030</td>\n",
       "      <td>-1.27955</td>\n",
       "      <td>4.88867</td>\n",
       "      <td>-0.671965</td>\n",
       "      <td>2.93129</td>\n",
       "      <td>-1.041460e+00</td>\n",
       "      <td>3.74859</td>\n",
       "    </tr>\n",
       "    <tr>\n",
       "      <th>2</th>\n",
       "      <td>362.25272</td>\n",
       "      <td>321.308610</td>\n",
       "      <td>-2.71081</td>\n",
       "      <td>1.430540</td>\n",
       "      <td>-2.352400</td>\n",
       "      <td>1.147570</td>\n",
       "      <td>-1.004860</td>\n",
       "      <td>3.55094</td>\n",
       "      <td>-1.264100</td>\n",
       "      <td>1.545000</td>\n",
       "      <td>...</td>\n",
       "      <td>-6.319120</td>\n",
       "      <td>5.24486</td>\n",
       "      <td>-5.756960</td>\n",
       "      <td>10.46610</td>\n",
       "      <td>-2.40047</td>\n",
       "      <td>4.31520</td>\n",
       "      <td>-1.258190</td>\n",
       "      <td>2.66288</td>\n",
       "      <td>-1.954820e+00</td>\n",
       "      <td>3.28968</td>\n",
       "    </tr>\n",
       "    <tr>\n",
       "      <th>3</th>\n",
       "      <td>427.01000</td>\n",
       "      <td>128.034040</td>\n",
       "      <td>-3.02747</td>\n",
       "      <td>-0.162387</td>\n",
       "      <td>-2.426660</td>\n",
       "      <td>-0.310499</td>\n",
       "      <td>-1.374670</td>\n",
       "      <td>3.29898</td>\n",
       "      <td>-1.561160</td>\n",
       "      <td>1.006050</td>\n",
       "      <td>...</td>\n",
       "      <td>-7.413620</td>\n",
       "      <td>1.89018</td>\n",
       "      <td>-8.019600</td>\n",
       "      <td>8.59008</td>\n",
       "      <td>-3.26274</td>\n",
       "      <td>3.48772</td>\n",
       "      <td>-1.712500</td>\n",
       "      <td>2.28873</td>\n",
       "      <td>-2.667710e+00</td>\n",
       "      <td>2.63528</td>\n",
       "    </tr>\n",
       "    <tr>\n",
       "      <th>4</th>\n",
       "      <td>382.59452</td>\n",
       "      <td>-45.193075</td>\n",
       "      <td>-2.48820</td>\n",
       "      <td>-1.662300</td>\n",
       "      <td>-1.670910</td>\n",
       "      <td>-1.495770</td>\n",
       "      <td>-1.675670</td>\n",
       "      <td>3.05325</td>\n",
       "      <td>-1.641010</td>\n",
       "      <td>0.461769</td>\n",
       "      <td>...</td>\n",
       "      <td>-6.829890</td>\n",
       "      <td>-1.49316</td>\n",
       "      <td>-9.685960</td>\n",
       "      <td>6.25744</td>\n",
       "      <td>-3.83935</td>\n",
       "      <td>2.52442</td>\n",
       "      <td>-2.048340</td>\n",
       "      <td>1.87846</td>\n",
       "      <td>-3.172140e+00</td>\n",
       "      <td>1.87632</td>\n",
       "    </tr>\n",
       "  </tbody>\n",
       "</table>\n",
       "<p>5 rows × 44 columns</p>\n",
       "</div>"
      ],
      "text/plain": [
       "   imag_component  real_component  ace_imag  ace_real  ala_imag  ala_real  \\\n",
       "0       103.39270      267.478460   0.00000  3.100000  0.034923  2.769480   \n",
       "1       208.88067      475.039650  -1.59678  2.643850 -1.425420  2.328820   \n",
       "2       362.25272      321.308610  -2.71081  1.430540 -2.352400  1.147570   \n",
       "3       427.01000      128.034040  -3.02747 -0.162387 -2.426660 -0.310499   \n",
       "4       382.59452      -45.193075  -2.48820 -1.662300 -1.670910 -1.495770   \n",
       "\n",
       "   asc_imag  asc_real  asp_imag  asp_real    ...     naag_imag  naag_real  \\\n",
       "0  0.008175   3.83645 -0.070215  2.153580    ...     -0.224074    8.76237   \n",
       "1 -0.535391   3.75273 -0.743603  1.964530    ...     -3.729120    7.74945   \n",
       "2 -1.004860   3.55094 -1.264100  1.545000    ...     -6.319120    5.24486   \n",
       "3 -1.374670   3.29898 -1.561160  1.006050    ...     -7.413620    1.89018   \n",
       "4 -1.675670   3.05325 -1.641010  0.461769    ...     -6.829890   -1.49316   \n",
       "\n",
       "   pcho_imag  pcho_real  pcr_imag  pcr_real   pe_imag  pe_real      tau_imag  \\\n",
       "0  -0.000002   12.14190   0.00000   5.10000 -0.000055  3.01880 -3.000000e-07   \n",
       "1  -3.015710   11.70030  -1.27955   4.88867 -0.671965  2.93129 -1.041460e+00   \n",
       "2  -5.756960   10.46610  -2.40047   4.31520 -1.258190  2.66288 -1.954820e+00   \n",
       "3  -8.019600    8.59008  -3.26274   3.48772 -1.712500  2.28873 -2.667710e+00   \n",
       "4  -9.685960    6.25744  -3.83935   2.52442 -2.048340  1.87846 -3.172140e+00   \n",
       "\n",
       "   tau_real  \n",
       "0   3.92162  \n",
       "1   3.74859  \n",
       "2   3.28968  \n",
       "3   2.63528  \n",
       "4   1.87632  \n",
       "\n",
       "[5 rows x 44 columns]"
      ]
     },
     "execution_count": 5,
     "metadata": {},
     "output_type": "execute_result"
    }
   ],
   "source": [
    "df.head()"
   ]
  },
  {
   "cell_type": "code",
   "execution_count": 6,
   "metadata": {},
   "outputs": [
    {
     "data": {
      "text/html": [
       "<div>\n",
       "<style scoped>\n",
       "    .dataframe tbody tr th:only-of-type {\n",
       "        vertical-align: middle;\n",
       "    }\n",
       "\n",
       "    .dataframe tbody tr th {\n",
       "        vertical-align: top;\n",
       "    }\n",
       "\n",
       "    .dataframe thead th {\n",
       "        text-align: right;\n",
       "    }\n",
       "</style>\n",
       "<table border=\"1\" class=\"dataframe\">\n",
       "  <thead>\n",
       "    <tr style=\"text-align: right;\">\n",
       "      <th></th>\n",
       "      <th>imag_component</th>\n",
       "      <th>real_component</th>\n",
       "      <th>ace_imag</th>\n",
       "      <th>ace_real</th>\n",
       "      <th>ala_imag</th>\n",
       "      <th>ala_real</th>\n",
       "      <th>asc_imag</th>\n",
       "      <th>asc_real</th>\n",
       "      <th>asp_imag</th>\n",
       "      <th>asp_real</th>\n",
       "      <th>...</th>\n",
       "      <th>naag_imag</th>\n",
       "      <th>naag_real</th>\n",
       "      <th>pcho_imag</th>\n",
       "      <th>pcho_real</th>\n",
       "      <th>pcr_imag</th>\n",
       "      <th>pcr_real</th>\n",
       "      <th>pe_imag</th>\n",
       "      <th>pe_real</th>\n",
       "      <th>tau_imag</th>\n",
       "      <th>tau_real</th>\n",
       "    </tr>\n",
       "  </thead>\n",
       "  <tbody>\n",
       "    <tr>\n",
       "      <th>count</th>\n",
       "      <td>2048.000000</td>\n",
       "      <td>2048.000000</td>\n",
       "      <td>2048.000000</td>\n",
       "      <td>2048.000000</td>\n",
       "      <td>2048.000000</td>\n",
       "      <td>2048.000000</td>\n",
       "      <td>2048.000000</td>\n",
       "      <td>2048.000000</td>\n",
       "      <td>2048.000000</td>\n",
       "      <td>2048.000000</td>\n",
       "      <td>...</td>\n",
       "      <td>2048.000000</td>\n",
       "      <td>2048.000000</td>\n",
       "      <td>2048.000000</td>\n",
       "      <td>2048.000000</td>\n",
       "      <td>2048.000000</td>\n",
       "      <td>2048.000000</td>\n",
       "      <td>2048.000000</td>\n",
       "      <td>2048.000000</td>\n",
       "      <td>2048.000000</td>\n",
       "      <td>2048.000000</td>\n",
       "    </tr>\n",
       "    <tr>\n",
       "      <th>mean</th>\n",
       "      <td>0.888362</td>\n",
       "      <td>0.022842</td>\n",
       "      <td>-0.002747</td>\n",
       "      <td>0.000878</td>\n",
       "      <td>-0.002801</td>\n",
       "      <td>0.000771</td>\n",
       "      <td>-0.024353</td>\n",
       "      <td>0.002056</td>\n",
       "      <td>-0.004036</td>\n",
       "      <td>0.000645</td>\n",
       "      <td>...</td>\n",
       "      <td>-0.020442</td>\n",
       "      <td>-0.015210</td>\n",
       "      <td>-0.026423</td>\n",
       "      <td>0.003639</td>\n",
       "      <td>-0.011812</td>\n",
       "      <td>0.001788</td>\n",
       "      <td>-0.008142</td>\n",
       "      <td>0.000560</td>\n",
       "      <td>-0.007346</td>\n",
       "      <td>0.001000</td>\n",
       "    </tr>\n",
       "    <tr>\n",
       "      <th>std</th>\n",
       "      <td>20.312742</td>\n",
       "      <td>19.385899</td>\n",
       "      <td>0.836298</td>\n",
       "      <td>0.837712</td>\n",
       "      <td>0.527957</td>\n",
       "      <td>0.529806</td>\n",
       "      <td>0.428493</td>\n",
       "      <td>0.434801</td>\n",
       "      <td>0.216379</td>\n",
       "      <td>0.218922</td>\n",
       "      <td>...</td>\n",
       "      <td>0.966210</td>\n",
       "      <td>0.980368</td>\n",
       "      <td>2.524436</td>\n",
       "      <td>2.531886</td>\n",
       "      <td>1.004969</td>\n",
       "      <td>1.008287</td>\n",
       "      <td>0.291489</td>\n",
       "      <td>0.294802</td>\n",
       "      <td>0.434440</td>\n",
       "      <td>0.438984</td>\n",
       "    </tr>\n",
       "    <tr>\n",
       "      <th>min</th>\n",
       "      <td>-79.653652</td>\n",
       "      <td>-214.828250</td>\n",
       "      <td>-3.027470</td>\n",
       "      <td>-2.970990</td>\n",
       "      <td>-2.426660</td>\n",
       "      <td>-2.206440</td>\n",
       "      <td>-2.919780</td>\n",
       "      <td>-2.102230</td>\n",
       "      <td>-1.641010</td>\n",
       "      <td>-1.525520</td>\n",
       "      <td>...</td>\n",
       "      <td>-7.413620</td>\n",
       "      <td>-5.466440</td>\n",
       "      <td>-11.051500</td>\n",
       "      <td>-9.235690</td>\n",
       "      <td>-4.220290</td>\n",
       "      <td>-4.303890</td>\n",
       "      <td>-2.668320</td>\n",
       "      <td>-1.683720</td>\n",
       "      <td>-3.656880</td>\n",
       "      <td>-3.617810</td>\n",
       "    </tr>\n",
       "    <tr>\n",
       "      <th>25%</th>\n",
       "      <td>-3.272611</td>\n",
       "      <td>-3.555623</td>\n",
       "      <td>-0.322057</td>\n",
       "      <td>-0.319175</td>\n",
       "      <td>-0.178390</td>\n",
       "      <td>-0.176367</td>\n",
       "      <td>-0.120600</td>\n",
       "      <td>-0.109261</td>\n",
       "      <td>-0.068676</td>\n",
       "      <td>-0.066385</td>\n",
       "      <td>...</td>\n",
       "      <td>-0.335157</td>\n",
       "      <td>-0.325655</td>\n",
       "      <td>-0.984788</td>\n",
       "      <td>-0.985895</td>\n",
       "      <td>-0.328275</td>\n",
       "      <td>-0.329649</td>\n",
       "      <td>-0.074193</td>\n",
       "      <td>-0.077719</td>\n",
       "      <td>-0.064095</td>\n",
       "      <td>-0.066167</td>\n",
       "    </tr>\n",
       "    <tr>\n",
       "      <th>50%</th>\n",
       "      <td>0.203375</td>\n",
       "      <td>-0.032878</td>\n",
       "      <td>-0.000143</td>\n",
       "      <td>0.001086</td>\n",
       "      <td>-0.000985</td>\n",
       "      <td>-0.000642</td>\n",
       "      <td>0.000722</td>\n",
       "      <td>0.000665</td>\n",
       "      <td>0.001977</td>\n",
       "      <td>-0.000242</td>\n",
       "      <td>...</td>\n",
       "      <td>-0.014061</td>\n",
       "      <td>-0.002871</td>\n",
       "      <td>-0.014287</td>\n",
       "      <td>0.001951</td>\n",
       "      <td>-0.001874</td>\n",
       "      <td>0.001041</td>\n",
       "      <td>-0.001151</td>\n",
       "      <td>0.000276</td>\n",
       "      <td>-0.000173</td>\n",
       "      <td>-0.000353</td>\n",
       "    </tr>\n",
       "    <tr>\n",
       "      <th>75%</th>\n",
       "      <td>3.393012</td>\n",
       "      <td>3.135960</td>\n",
       "      <td>0.319927</td>\n",
       "      <td>0.324569</td>\n",
       "      <td>0.170996</td>\n",
       "      <td>0.172634</td>\n",
       "      <td>0.111238</td>\n",
       "      <td>0.123372</td>\n",
       "      <td>0.068849</td>\n",
       "      <td>0.065565</td>\n",
       "      <td>...</td>\n",
       "      <td>0.307591</td>\n",
       "      <td>0.299814</td>\n",
       "      <td>0.947504</td>\n",
       "      <td>0.975601</td>\n",
       "      <td>0.319130</td>\n",
       "      <td>0.328891</td>\n",
       "      <td>0.073650</td>\n",
       "      <td>0.075345</td>\n",
       "      <td>0.065186</td>\n",
       "      <td>0.067182</td>\n",
       "    </tr>\n",
       "    <tr>\n",
       "      <th>max</th>\n",
       "      <td>427.010000</td>\n",
       "      <td>475.039650</td>\n",
       "      <td>2.855430</td>\n",
       "      <td>3.100000</td>\n",
       "      <td>2.055490</td>\n",
       "      <td>2.769480</td>\n",
       "      <td>1.477380</td>\n",
       "      <td>3.836450</td>\n",
       "      <td>1.261670</td>\n",
       "      <td>2.153580</td>\n",
       "      <td>...</td>\n",
       "      <td>5.522700</td>\n",
       "      <td>8.762370</td>\n",
       "      <td>8.414550</td>\n",
       "      <td>12.141900</td>\n",
       "      <td>4.700240</td>\n",
       "      <td>5.100000</td>\n",
       "      <td>1.975330</td>\n",
       "      <td>3.018800</td>\n",
       "      <td>3.474780</td>\n",
       "      <td>3.921620</td>\n",
       "    </tr>\n",
       "  </tbody>\n",
       "</table>\n",
       "<p>8 rows × 44 columns</p>\n",
       "</div>"
      ],
      "text/plain": [
       "       imag_component  real_component     ace_imag     ace_real     ala_imag  \\\n",
       "count     2048.000000     2048.000000  2048.000000  2048.000000  2048.000000   \n",
       "mean         0.888362        0.022842    -0.002747     0.000878    -0.002801   \n",
       "std         20.312742       19.385899     0.836298     0.837712     0.527957   \n",
       "min        -79.653652     -214.828250    -3.027470    -2.970990    -2.426660   \n",
       "25%         -3.272611       -3.555623    -0.322057    -0.319175    -0.178390   \n",
       "50%          0.203375       -0.032878    -0.000143     0.001086    -0.000985   \n",
       "75%          3.393012        3.135960     0.319927     0.324569     0.170996   \n",
       "max        427.010000      475.039650     2.855430     3.100000     2.055490   \n",
       "\n",
       "          ala_real     asc_imag     asc_real     asp_imag     asp_real  \\\n",
       "count  2048.000000  2048.000000  2048.000000  2048.000000  2048.000000   \n",
       "mean      0.000771    -0.024353     0.002056    -0.004036     0.000645   \n",
       "std       0.529806     0.428493     0.434801     0.216379     0.218922   \n",
       "min      -2.206440    -2.919780    -2.102230    -1.641010    -1.525520   \n",
       "25%      -0.176367    -0.120600    -0.109261    -0.068676    -0.066385   \n",
       "50%      -0.000642     0.000722     0.000665     0.001977    -0.000242   \n",
       "75%       0.172634     0.111238     0.123372     0.068849     0.065565   \n",
       "max       2.769480     1.477380     3.836450     1.261670     2.153580   \n",
       "\n",
       "          ...         naag_imag    naag_real    pcho_imag    pcho_real  \\\n",
       "count     ...       2048.000000  2048.000000  2048.000000  2048.000000   \n",
       "mean      ...         -0.020442    -0.015210    -0.026423     0.003639   \n",
       "std       ...          0.966210     0.980368     2.524436     2.531886   \n",
       "min       ...         -7.413620    -5.466440   -11.051500    -9.235690   \n",
       "25%       ...         -0.335157    -0.325655    -0.984788    -0.985895   \n",
       "50%       ...         -0.014061    -0.002871    -0.014287     0.001951   \n",
       "75%       ...          0.307591     0.299814     0.947504     0.975601   \n",
       "max       ...          5.522700     8.762370     8.414550    12.141900   \n",
       "\n",
       "          pcr_imag     pcr_real      pe_imag      pe_real     tau_imag  \\\n",
       "count  2048.000000  2048.000000  2048.000000  2048.000000  2048.000000   \n",
       "mean     -0.011812     0.001788    -0.008142     0.000560    -0.007346   \n",
       "std       1.004969     1.008287     0.291489     0.294802     0.434440   \n",
       "min      -4.220290    -4.303890    -2.668320    -1.683720    -3.656880   \n",
       "25%      -0.328275    -0.329649    -0.074193    -0.077719    -0.064095   \n",
       "50%      -0.001874     0.001041    -0.001151     0.000276    -0.000173   \n",
       "75%       0.319130     0.328891     0.073650     0.075345     0.065186   \n",
       "max       4.700240     5.100000     1.975330     3.018800     3.474780   \n",
       "\n",
       "          tau_real  \n",
       "count  2048.000000  \n",
       "mean      0.001000  \n",
       "std       0.438984  \n",
       "min      -3.617810  \n",
       "25%      -0.066167  \n",
       "50%      -0.000353  \n",
       "75%       0.067182  \n",
       "max       3.921620  \n",
       "\n",
       "[8 rows x 44 columns]"
      ]
     },
     "execution_count": 6,
     "metadata": {},
     "output_type": "execute_result"
    }
   ],
   "source": [
    "df.describe()"
   ]
  },
  {
   "cell_type": "code",
   "execution_count": 7,
   "metadata": {},
   "outputs": [],
   "source": [
    "#Plots of the real part of FID Signals of selected metabolites\n",
    "#Notice it is decaying"
   ]
  },
  {
   "cell_type": "code",
   "execution_count": 8,
   "metadata": {},
   "outputs": [
    {
     "name": "stderr",
     "output_type": "stream",
     "text": [
      "/home/dronny/anaconda3/envs/tensorflow/lib/python3.6/site-packages/numpy/core/numeric.py:492: ComplexWarning: Casting complex values to real discards the imaginary part\n",
      "  return array(a, dtype, copy=False, order=order)\n"
     ]
    },
    {
     "data": {
      "text/plain": [
       "[<matplotlib.lines.Line2D at 0x7f3c9c20f7b8>]"
      ]
     },
     "execution_count": 8,
     "metadata": {},
     "output_type": "execute_result"
    },
    {
     "data": {
      "image/png": "[encoded data removed]",
      "text/plain": [
       "<Figure size 432x288 with 1 Axes>"
      ]
     },
     "metadata": {
      "needs_background": "light"
     },
     "output_type": "display_data"
    }
   ],
   "source": [
    "real_component_truncated = df.real_component[:256]\n",
    "fft_truncated_water_removed = np.fft.rfft(real_component_truncated)\n",
    "plt.plot(fft_truncated_water_removed)"
   ]
  },
  {
   "cell_type": "code",
   "execution_count": 9,
   "metadata": {},
   "outputs": [
    {
     "data": {
      "text/plain": [
       "[<matplotlib.lines.Line2D at 0x7f3c9a14f588>]"
      ]
     },
     "execution_count": 9,
     "metadata": {},
     "output_type": "execute_result"
    },
    {
     "data": {
      "image/png": "[encoded data removed]",
      "text/plain": [
       "<Figure size 432x288 with 1 Axes>"
      ]
     },
     "metadata": {
      "needs_background": "light"
     },
     "output_type": "display_data"
    }
   ],
   "source": [
    "A =np.abs(fft_truncated_water_removed)\n",
    "plt.plot(A)"
   ]
  },
  {
   "cell_type": "code",
   "execution_count": 10,
   "metadata": {},
   "outputs": [
    {
     "data": {
      "text/plain": [
       "[<matplotlib.lines.Line2D at 0x7f3c9a0b8ac8>]"
      ]
     },
     "execution_count": 10,
     "metadata": {},
     "output_type": "execute_result"
    },
    {
     "data": {
      "image/png": "[encoded data removed]",
      "text/plain": [
       "<Figure size 432x288 with 1 Axes>"
      ]
     },
     "metadata": {
      "needs_background": "light"
     },
     "output_type": "display_data"
    }
   ],
   "source": [
    "truncated_ace_real = df.ace_real[:256]\n",
    "fft_ace_real =np.fft.rfft(truncated_ace_real)\n",
    "plt.plot(fft_ace_real)"
   ]
  },
  {
   "cell_type": "code",
   "execution_count": 11,
   "metadata": {},
   "outputs": [
    {
     "data": {
      "text/plain": [
       "Index(['imag_component', 'real_component', 'ace_imag', 'ace_real', 'ala_imag',\n",
       "       'ala_real', 'asc_imag', 'asc_real', 'asp_imag', 'asp_real', 'cr_imag',\n",
       "       'cr_real', 'gaba_imag', 'gaba_real', 'glc_imag', 'glc_real', 'gln_imag',\n",
       "       'gln_real', 'glu_imag', 'glu_real', 'gly_imag', 'gly_real', 'gpc_imag',\n",
       "       'gpc_real', 'gsh_imag', 'gsh_real', 'ins_imag', 'ins_real', 'lac_imag',\n",
       "       'lac_real', 'mac_imag', 'mac_real', 'naa_imag', 'naa_real', 'naag_imag',\n",
       "       'naag_real', 'pcho_imag', 'pcho_real', 'pcr_imag', 'pcr_real',\n",
       "       'pe_imag', 'pe_real', 'tau_imag', 'tau_real'],\n",
       "      dtype='object')"
      ]
     },
     "execution_count": 11,
     "metadata": {},
     "output_type": "execute_result"
    }
   ],
   "source": [
    "df.columns"
   ]
  },
  {
   "cell_type": "code",
   "execution_count": 12,
   "metadata": {},
   "outputs": [
    {
     "data": {
      "image/png": "[encoded data removed]",
      "text/plain": [
       "<Figure size 432x288 with 1 Axes>"
      ]
     },
     "metadata": {
      "needs_background": "light"
     },
     "output_type": "display_data"
    }
   ],
   "source": [
    "##ace metabolite signal\n",
    "truncated_ace_real = df.ace_real[:256]\n",
    "truncated_ace_imag = df.ace_imag[:256]\n",
    "td_aces =[]\n",
    "for i in np.arange(len(truncated_ace_real)):\n",
    "    td_ace = complex(truncated_ace_real[i],truncated_ace_imag[i])\n",
    "    td_aces.append(td_ace)\n",
    "    \n",
    "fd_ace =np.fft.fft(td_aces)\n",
    "fd_ace -=fd_ace.mean()\n",
    "fd_ace/=fd_ace.std()\n",
    "\n",
    "plt.plot(fd_ace.real)\n",
    "plt.title(\"ACE\")\n",
    "plt.ylabel(\"Amplitudes\")\n",
    "plt.show()"
   ]
  },
  {
   "cell_type": "code",
   "execution_count": 13,
   "metadata": {},
   "outputs": [
    {
     "data": {
      "image/png": "[encoded data removed]",
      "text/plain": [
       "<Figure size 432x288 with 1 Axes>"
      ]
     },
     "metadata": {
      "needs_background": "light"
     },
     "output_type": "display_data"
    }
   ],
   "source": [
    "## tau metabolite\n",
    "truncated_tau_real = df.tau_real[:256]\n",
    "truncated_tau_imag = df.tau_imag[:256]\n",
    "td_taus =[]\n",
    "for i in np.arange(len(truncated_tau_real)):\n",
    "    td_tau = complex(truncated_tau_real[i],truncated_tau_imag[i])\n",
    "    td_taus.append(td_tau)\n",
    "    \n",
    "    \n",
    "fd_taus =np.fft.fft(td_taus)\n",
    "fd_taus -=fd_taus.mean()\n",
    "fd_taus/=fd_taus.std()\n",
    "\n",
    "plt.plot(fd_taus.real)\n",
    "plt.title(\"TAU\")\n",
    "plt.ylabel(\"Amplitudes\")\n",
    "plt.show()"
   ]
  },
  {
   "cell_type": "code",
   "execution_count": 14,
   "metadata": {},
   "outputs": [
    {
     "data": {
      "image/png": "[encoded data removed]",
      "text/plain": [
       "<Figure size 432x288 with 1 Axes>"
      ]
     },
     "metadata": {
      "needs_background": "light"
     },
     "output_type": "display_data"
    }
   ],
   "source": [
    "##creating a time domian signal for ala metabolite\n",
    "truncated_ala_real = df.ala_real[:256]\n",
    "truncated_ala_imag = df.ala_imag[:256]\n",
    "td_alas =[]\n",
    "for i in np.arange(len(truncated_ala_real)):\n",
    "    td_ala = complex(truncated_ala_real[i],truncated_ala_imag[i])\n",
    "    td_alas.append(td_ala)\n",
    "    \n",
    "    \n",
    "fd_alas =np.fft.fft(td_alas)\n",
    "fd_alas -=fd_alas.mean()\n",
    "fd_alas/=fd_alas.std()\n",
    "plt.plot(fd_alas.real)\n",
    "plt.title(\"ALA\")\n",
    "plt.ylabel(\"Amplitudes\")\n",
    "plt.show()"
   ]
  },
  {
   "cell_type": "code",
   "execution_count": 15,
   "metadata": {},
   "outputs": [
    {
     "data": {
      "image/png": "[encoded data removed]",
      "text/plain": [
       "<Figure size 432x288 with 1 Axes>"
      ]
     },
     "metadata": {
      "needs_background": "light"
     },
     "output_type": "display_data"
    }
   ],
   "source": [
    "##creating a time domian signal for asc metabolite\n",
    "truncated_asc_real = df.asc_real[:256]\n",
    "truncated_asc_imag = df.asc_imag[:256]\n",
    "td_ascs =[]\n",
    "for i in np.arange(len(truncated_asc_real)):\n",
    "    td_asc = complex(truncated_asc_real[i],truncated_asc_imag[i])\n",
    "    td_ascs.append(td_asc)\n",
    "\n",
    "fd_ascs =np.fft.fft(td_ascs)\n",
    "fd_ascs -=fd_ascs.mean()\n",
    "fd_ascs/=fd_ascs.std()\n",
    "plt.plot(fd_ascs.real)\n",
    "plt.title(\"ASC\")\n",
    "plt.ylabel(\"Amplitudes\")\n",
    "plt.show()"
   ]
  },
  {
   "cell_type": "code",
   "execution_count": 16,
   "metadata": {},
   "outputs": [
    {
     "data": {
      "image/png": "[encoded data removed]",
      "text/plain": [
       "<Figure size 432x288 with 1 Axes>"
      ]
     },
     "metadata": {
      "needs_background": "light"
     },
     "output_type": "display_data"
    }
   ],
   "source": [
    "##creating a time domian signal for asp metabolite\n",
    "truncated_asp_real = df.asp_real[:256]\n",
    "truncated_asp_imag = df.asp_imag[:256]\n",
    "td_asps =[]\n",
    "for i in np.arange(len(truncated_asp_real)):\n",
    "    td_asp = complex(truncated_asp_real[i],truncated_asp_imag[i])\n",
    "    td_asps.append(td_asp)\n",
    "\n",
    "    \n",
    "fd_asps =np.fft.fft(td_asps)\n",
    "fd_asps -=fd_asps.mean()\n",
    "fd_asps/=fd_asps.std()\n",
    "plt.plot(fd_asps.real)\n",
    "plt.title(\"ASP\")\n",
    "plt.ylabel(\"Amplitudes\")\n",
    "plt.show()"
   ]
  },
  {
   "cell_type": "code",
   "execution_count": 17,
   "metadata": {},
   "outputs": [
    {
     "data": {
      "image/png": "[encoded data removed]",
      "text/plain": [
       "<Figure size 432x288 with 1 Axes>"
      ]
     },
     "metadata": {
      "needs_background": "light"
     },
     "output_type": "display_data"
    }
   ],
   "source": [
    "##creating a time domian signal for cr metabolite\n",
    "truncated_cr_real = df.cr_real[:256]\n",
    "truncated_cr_imag = df.cr_imag[:256]\n",
    "td_crs =[]\n",
    "for i in np.arange(len(truncated_cr_real)):\n",
    "    td_cr = complex(truncated_cr_real[i],truncated_cr_imag[i])\n",
    "    td_crs.append(td_cr)\n",
    "    \n",
    "fd_crs =np.fft.fft(td_crs)\n",
    "fd_crs -=fd_crs.mean()\n",
    "fd_crs/=fd_crs.std()\n",
    "plt.plot(fd_crs.real)\n",
    "plt.title(\"Cr\")\n",
    "plt.ylabel(\"Amplitudes\")\n",
    "plt.show()"
   ]
  },
  {
   "cell_type": "code",
   "execution_count": 18,
   "metadata": {},
   "outputs": [
    {
     "data": {
      "image/png": "[encoded data removed]",
      "text/plain": [
       "<Figure size 432x288 with 1 Axes>"
      ]
     },
     "metadata": {
      "needs_background": "light"
     },
     "output_type": "display_data"
    }
   ],
   "source": [
    "##creating a time domian signal for gaba metabolite\n",
    "truncated_gaba_real = df.gaba_real[:256]\n",
    "truncated_gaba_imag = df.gaba_imag[:256]\n",
    "td_gabas=[]\n",
    "for i in np.arange(len(truncated_gaba_real)):\n",
    "    td_gaba = complex(truncated_gaba_real[i],truncated_gaba_imag[i])\n",
    "    td_gabas.append(td_gaba)\n",
    "    \n",
    "fd_gabas =np.fft.fft(td_gabas)\n",
    "fd_gabas -=fd_gabas.mean()\n",
    "fd_gabas/=fd_gabas.std()\n",
    "plt.plot(fd_gabas.real)\n",
    "plt.title(\"Gaba\")\n",
    "plt.ylabel(\"Amplitudes\")\n",
    "plt.show()"
   ]
  },
  {
   "cell_type": "code",
   "execution_count": 19,
   "metadata": {},
   "outputs": [
    {
     "data": {
      "image/png": "[encoded data removed]",
      "text/plain": [
       "<Figure size 432x288 with 1 Axes>"
      ]
     },
     "metadata": {
      "needs_background": "light"
     },
     "output_type": "display_data"
    }
   ],
   "source": [
    "##creating a time domian signal for glc metabolite\n",
    "truncated_glc_real = df.glc_real[:256]\n",
    "truncated_glc_imag = df.glc_imag[:256]\n",
    "td_glcs =[]\n",
    "for i in np.arange(len(truncated_glc_real)):\n",
    "    td_glc = complex(truncated_glc_real[i],truncated_glc_imag[i])\n",
    "    td_glcs.append(td_glc)\n",
    "    \n",
    "fd_glcs =np.fft.fft(td_glcs)\n",
    "fd_glcs -=fd_glcs.mean()\n",
    "fd_glcs/=fd_glcs.std()\n",
    "plt.plot(fd_glcs.real)\n",
    "plt.title(\"Glc\")\n",
    "plt.ylabel(\"Amplitudes\")\n",
    "plt.show()"
   ]
  },
  {
   "cell_type": "code",
   "execution_count": 20,
   "metadata": {},
   "outputs": [
    {
     "data": {
      "image/png": "[encoded data removed]",
      "text/plain": [
       "<Figure size 432x288 with 1 Axes>"
      ]
     },
     "metadata": {
      "needs_background": "light"
     },
     "output_type": "display_data"
    }
   ],
   "source": [
    "##creating a time domian signal for gln metabolite\n",
    "truncated_gln_real = df.gln_real[:256]\n",
    "truncated_gln_imag = df.gln_imag[:256]\n",
    "td_glns =[]\n",
    "for i in np.arange(len(truncated_gln_real)):\n",
    "    td_gln = complex(truncated_gln_real[i],truncated_gln_imag[i])\n",
    "    td_glns.append(td_gln)\n",
    "    \n",
    "fd_glns =np.fft.fft(td_glns)\n",
    "fd_glns -=fd_glns.mean()\n",
    "fd_glns/=fd_glns.std()\n",
    "plt.plot(fd_glns.real)\n",
    "plt.title(\"Gln\")\n",
    "plt.ylabel(\"Amplitudes\")\n",
    "plt.show()"
   ]
  },
  {
   "cell_type": "code",
   "execution_count": 21,
   "metadata": {},
   "outputs": [
    {
     "data": {
      "image/png": "[encoded data removed]",
      "text/plain": [
       "<Figure size 432x288 with 1 Axes>"
      ]
     },
     "metadata": {
      "needs_background": "light"
     },
     "output_type": "display_data"
    }
   ],
   "source": [
    "##creating a time domian signal for gpc metabolite\n",
    "truncated_gpc_real = df.gpc_real[:256]\n",
    "truncated_gpc_imag = df.gpc_imag[:256]\n",
    "td_gpcs =[]\n",
    "for i in np.arange(len(truncated_gpc_real)):\n",
    "    td_gpc = complex(truncated_gpc_real[i],truncated_gpc_imag[i])\n",
    "    td_gpcs.append(td_gpc)\n",
    "    \n",
    "    \n",
    "fd_gpcs =np.fft.fft(td_gpcs)\n",
    "fd_gpcs -=fd_gpcs.mean()\n",
    "fd_gpcs/=fd_gpcs.std()\n",
    "plt.plot(fd_gpcs.real)\n",
    "plt.title(\"GPC\")\n",
    "plt.ylabel(\"Amplitudes\")\n",
    "plt.show()"
   ]
  },
  {
   "cell_type": "code",
   "execution_count": 22,
   "metadata": {},
   "outputs": [
    {
     "data": {
      "image/png": "[encoded data removed]",
      "text/plain": [
       "<Figure size 432x288 with 1 Axes>"
      ]
     },
     "metadata": {
      "needs_background": "light"
     },
     "output_type": "display_data"
    }
   ],
   "source": [
    "##creating a time domian signal for glu metabolite\n",
    "truncated_glu_real = df.glu_real[:256]\n",
    "truncated_glu_imag = df.glu_imag[:256]\n",
    "td_glus =[]\n",
    "for i in np.arange(len(truncated_glu_real)):\n",
    "    td_glu = complex(truncated_glu_real[i],truncated_glu_imag[i])\n",
    "    td_glus.append(td_glu)\n",
    "    \n",
    "fd_glus =np.fft.fft(td_glus)\n",
    "fd_glus -=fd_glus.mean()\n",
    "fd_glus/=fd_glus.std()\n",
    "plt.plot(fd_glus.real)\n",
    "plt.title(\"Glu\")\n",
    "plt.ylabel(\"Amplitudes\")\n",
    "plt.show()"
   ]
  },
  {
   "cell_type": "code",
   "execution_count": 23,
   "metadata": {},
   "outputs": [
    {
     "data": {
      "image/png": "[encoded data removed]",
      "text/plain": [
       "<Figure size 432x288 with 1 Axes>"
      ]
     },
     "metadata": {
      "needs_background": "light"
     },
     "output_type": "display_data"
    }
   ],
   "source": [
    "##creating a time domian signal for gly metabolite\n",
    "truncated_gly_real = df.gly_real[:256]\n",
    "truncated_gly_imag = df.gly_imag[:256]\n",
    "td_glys =[]\n",
    "for i in np.arange(len(truncated_gly_real)):\n",
    "    td_gly = complex(truncated_gly_real[i],truncated_gly_imag[i])\n",
    "    td_glys.append(td_gly)\n",
    "    \n",
    "fd_glys =np.fft.fft(td_glys)\n",
    "fd_glys -=fd_glys.mean()\n",
    "fd_glys/=fd_glys.std()\n",
    "plt.plot(fd_glys.real)\n",
    "plt.title(\"Gly\")\n",
    "plt.ylabel(\"Amplitudes\")\n",
    "plt.show()"
   ]
  },
  {
   "cell_type": "code",
   "execution_count": 24,
   "metadata": {},
   "outputs": [
    {
     "data": {
      "image/png": "[encoded data removed]",
      "text/plain": [
       "<Figure size 432x288 with 1 Axes>"
      ]
     },
     "metadata": {
      "needs_background": "light"
     },
     "output_type": "display_data"
    }
   ],
   "source": [
    "##creating a time domian signal for lac metabolite\n",
    "truncated_lac_real = df.lac_real[:256]\n",
    "truncated_lac_imag = df.lac_imag[:256]\n",
    "td_lacs =[]\n",
    "for i in np.arange(len(truncated_lac_real)):\n",
    "    td_lac = complex(truncated_lac_real[i],truncated_lac_imag[i])\n",
    "    td_lacs.append(td_lac)\n",
    "    \n",
    "fd_lacs =np.fft.fft(td_lacs)\n",
    "fd_lacs -=fd_lacs.mean()\n",
    "fd_lacs/=fd_lacs.std()\n",
    "plt.plot(fd_lacs.real)\n",
    "plt.title(\"Lac\")\n",
    "plt.ylabel(\"Amplitudes\")\n",
    "plt.show()"
   ]
  },
  {
   "cell_type": "code",
   "execution_count": 25,
   "metadata": {},
   "outputs": [
    {
     "data": {
      "image/png": "[encoded data removed]",
      "text/plain": [
       "<Figure size 432x288 with 1 Axes>"
      ]
     },
     "metadata": {
      "needs_background": "light"
     },
     "output_type": "display_data"
    }
   ],
   "source": [
    "##creating a time domian signal for gsh metabolite\n",
    "truncated_gsh_real = df.gsh_real[:256]\n",
    "truncated_gsh_imag = df.gsh_imag[:256]\n",
    "td_gshs =[]\n",
    "for i in np.arange(len(truncated_gsh_real)):\n",
    "    td_gsh = complex(truncated_gsh_real[i],truncated_gsh_imag[i])\n",
    "    td_gshs.append(td_gsh)\n",
    "    \n",
    "fd_gshs =np.fft.fft(td_gshs)\n",
    "fd_gshs -=fd_glys.mean()\n",
    "fd_gshs/=fd_gshs.std()\n",
    "plt.plot(fd_gshs.real)\n",
    "plt.title(\"Gsh\")\n",
    "plt.ylabel(\"Amplitudes\")\n",
    "plt.show()"
   ]
  },
  {
   "cell_type": "code",
   "execution_count": 26,
   "metadata": {},
   "outputs": [
    {
     "data": {
      "image/png": "[encoded data removed]",
      "text/plain": [
       "<Figure size 432x288 with 1 Axes>"
      ]
     },
     "metadata": {
      "needs_background": "light"
     },
     "output_type": "display_data"
    }
   ],
   "source": [
    "##creating a time domian signal for ins metabolite\n",
    "truncated_in_real = df.ins_real[:256]\n",
    "truncated_in_imag = df.ins_imag[:256]\n",
    "td_ins =[]\n",
    "for i in np.arange(len(truncated_in_real)):\n",
    "    td_in = complex(truncated_in_real[i],truncated_in_imag[i])\n",
    "    td_ins.append(td_in)\n",
    "    \n",
    "    \n",
    "fd_ins =np.fft.fft(td_ins)\n",
    "fd_ins -=fd_ins.mean()\n",
    "fd_ins/=fd_ins.std()\n",
    "plt.plot(fd_ins.real)\n",
    "plt.title(\"Ins\")\n",
    "plt.ylabel(\"Amplitudes\")\n",
    "plt.show()"
   ]
  },
  {
   "cell_type": "code",
   "execution_count": 27,
   "metadata": {},
   "outputs": [
    {
     "data": {
      "image/png": "[encoded data removed]",
      "text/plain": [
       "<Figure size 432x288 with 1 Axes>"
      ]
     },
     "metadata": {
      "needs_background": "light"
     },
     "output_type": "display_data"
    }
   ],
   "source": [
    "##creating a time domian signal for mac metabolite\n",
    "truncated_mac_real = df.mac_real[:256]\n",
    "truncated_mac_imag = df.mac_imag[:256]\n",
    "td_macs =[]\n",
    "for i in np.arange(len(truncated_mac_real)):\n",
    "    td_mac = complex(truncated_mac_real[i],truncated_mac_imag[i])\n",
    "    td_macs.append(td_mac)\n",
    "    \n",
    "fd_macs =np.fft.fft(td_macs)\n",
    "fd_macs -=fd_macs.mean()\n",
    "fd_macs/=fd_macs.std()\n",
    "plt.plot(fd_macs.real)\n",
    "plt.title(\"Mac\")\n",
    "plt.ylabel(\"Amplitudes\")\n",
    "plt.show()"
   ]
  },
  {
   "cell_type": "code",
   "execution_count": 28,
   "metadata": {},
   "outputs": [
    {
     "data": {
      "image/png": "[encoded data removed]",
      "text/plain": [
       "<Figure size 432x288 with 1 Axes>"
      ]
     },
     "metadata": {
      "needs_background": "light"
     },
     "output_type": "display_data"
    }
   ],
   "source": [
    "##creating a time domian signal for naa metabolite\n",
    "truncated_naa_real = df.naa_real[:256]\n",
    "truncated_naa_imag = df.naa_imag[:256]\n",
    "td_naas =[]\n",
    "for i in np.arange(len(truncated_naa_real)):\n",
    "    td_naa = complex(truncated_naa_real[i],truncated_naa_imag[i])\n",
    "    td_naas.append(td_naa)\n",
    "    \n",
    "fd_naas =np.fft.fft(td_naas)\n",
    "fd_naas -=fd_naas.mean()\n",
    "fd_naas/=fd_naas.std()\n",
    "plt.plot(fd_naas.real)\n",
    "plt.title(\"Naa\")\n",
    "plt.ylabel(\"Amplitudes\")\n",
    "plt.show()"
   ]
  },
  {
   "cell_type": "code",
   "execution_count": 29,
   "metadata": {},
   "outputs": [
    {
     "data": {
      "image/png": "[encoded data removed]",
      "text/plain": [
       "<Figure size 432x288 with 1 Axes>"
      ]
     },
     "metadata": {
      "needs_background": "light"
     },
     "output_type": "display_data"
    }
   ],
   "source": [
    "##creating a time domian signal for naag metabolite\n",
    "truncated_naag_real = df.naag_real[:256]\n",
    "truncated_naag_imag = df.naag_imag[:256]\n",
    "td_naags =[]\n",
    "for i in np.arange(len(truncated_naag_real)):\n",
    "    td_naag = complex(truncated_naag_real[i],truncated_naag_imag[i])\n",
    "    td_naags.append(td_naag)\n",
    "    \n",
    "fd_naags =np.fft.fft(td_naags)\n",
    "fd_naags -=fd_naags.mean()\n",
    "fd_naags/=fd_naags.std()\n",
    "plt.plot(fd_naags.real)\n",
    "plt.title(\"Naag\")\n",
    "plt.ylabel(\"Amplitudes\")\n",
    "plt.show()"
   ]
  },
  {
   "cell_type": "code",
   "execution_count": 30,
   "metadata": {},
   "outputs": [
    {
     "data": {
      "image/png": "[encoded data removed]",
      "text/plain": [
       "<Figure size 432x288 with 1 Axes>"
      ]
     },
     "metadata": {
      "needs_background": "light"
     },
     "output_type": "display_data"
    }
   ],
   "source": [
    "##creating a time domian signal for pcho metabolite\n",
    "truncated_pcho_real = df.pcho_real[:256]\n",
    "truncated_pcho_imag = df.pcho_imag[:256]\n",
    "td_pchos =[]\n",
    "for i in np.arange(len(truncated_pcho_real)):\n",
    "    td_pcho = complex(truncated_pcho_real[i],truncated_pcho_imag[i])\n",
    "    td_pchos.append(td_pcho)\n",
    "    \n",
    "    \n",
    "fd_pchos =np.fft.fft(td_pchos)\n",
    "fd_pchos -=fd_pchos.mean()\n",
    "fd_pchos/=fd_pchos.std()\n",
    "plt.plot(fd_pchos.real)\n",
    "plt.title(\"Pcho\")\n",
    "plt.ylabel(\"Amplitudes\")\n",
    "plt.show()"
   ]
  },
  {
   "cell_type": "code",
   "execution_count": 31,
   "metadata": {},
   "outputs": [
    {
     "data": {
      "image/png": "[encoded data removed]",
      "text/plain": [
       "<Figure size 432x288 with 1 Axes>"
      ]
     },
     "metadata": {
      "needs_background": "light"
     },
     "output_type": "display_data"
    }
   ],
   "source": [
    "##creating a time domian signal for pcr metabolite\n",
    "truncated_pcr_real = df.pcr_real[:256]\n",
    "truncated_pcr_imag = df.pcr_imag[:256]\n",
    "td_pcrs =[]\n",
    "for i in np.arange(len(truncated_pcr_real)):\n",
    "    td_pcr = complex(truncated_pcr_real[i],truncated_pcr_imag[i])\n",
    "    td_pcrs.append(td_pcr)\n",
    "    \n",
    "fd_pcrs =np.fft.fft(td_pcrs)\n",
    "fd_pcrs -=fd_pcrs.mean()\n",
    "fd_pcrs/=fd_pcrs.std()\n",
    "plt.plot(fd_pcrs.real)\n",
    "plt.title(\"Pcr\")\n",
    "plt.ylabel(\"Amplitudes\")\n",
    "plt.show()"
   ]
  },
  {
   "cell_type": "code",
   "execution_count": 32,
   "metadata": {},
   "outputs": [
    {
     "data": {
      "image/png": "[encoded data removed]",
      "text/plain": [
       "<Figure size 432x288 with 1 Axes>"
      ]
     },
     "metadata": {
      "needs_background": "light"
     },
     "output_type": "display_data"
    }
   ],
   "source": [
    "##creating a time domian signal for pe metabolite\n",
    "truncated_pe_real = df.pe_real[:256]\n",
    "truncated_pe_imag = df.pe_imag[:256]\n",
    "td_pes =[]\n",
    "for i in np.arange(len(truncated_pe_real)):\n",
    "    td_pe= complex(truncated_pe_real[i],truncated_pe_imag[i])\n",
    "    td_pes.append(td_pe)\n",
    "    \n",
    "    \n",
    "fd_pes =np.fft.fft(td_pes)\n",
    "fd_pes -=fd_pes.mean()\n",
    "fd_pes/=fd_pes.std()\n",
    "plt.plot(fd_pes.real)\n",
    "plt.title(\"Pe\")\n",
    "plt.ylabel(\"Amplitudes\")\n",
    "plt.show()"
   ]
  },
  {
   "cell_type": "code",
   "execution_count": 33,
   "metadata": {},
   "outputs": [],
   "source": [
    "## general MRS metabolite signal function\n",
    "##v_k is the input metabolite profile\n",
    "def y_t(v_k):\n",
    "    return (np.abs(v_k)*np.exp(complex(0,1)*PHASE_SHIFT)*np.exp(-DAMPING_FACTOR + 2*np.pi*complex(0,1)*DELTA_FREQUENCY)*v_k)"
   ]
  },
  {
   "cell_type": "code",
   "execution_count": 34,
   "metadata": {},
   "outputs": [
    {
     "name": "stdout",
     "output_type": "stream",
     "text": [
      "Imaginary\n",
      "ace_real\n",
      "Imaginary\n",
      "ala_real\n",
      "Imaginary\n",
      "asc_real\n",
      "Imaginary\n",
      "asp_real\n",
      "Imaginary\n",
      "cr_real\n",
      "Imaginary\n",
      "gaba_real\n",
      "Imaginary\n",
      "glc_real\n",
      "Imaginary\n",
      "gln_real\n",
      "Imaginary\n",
      "glu_real\n",
      "Imaginary\n",
      "gly_real\n",
      "Imaginary\n",
      "gpc_real\n",
      "Imaginary\n",
      "gsh_real\n",
      "Imaginary\n",
      "ins_real\n",
      "Imaginary\n",
      "lac_real\n",
      "Imaginary\n",
      "mac_real\n",
      "Imaginary\n",
      "naa_real\n",
      "Imaginary\n",
      "naag_real\n",
      "Imaginary\n",
      "pcho_real\n",
      "Imaginary\n",
      "pcr_real\n",
      "Imaginary\n",
      "pe_real\n",
      "Imaginary\n",
      "tau_real\n"
     ]
    }
   ],
   "source": [
    "cols =df.columns[2:]\n",
    "for i in np.arange(len(cols)):\n",
    "    if i%2!=0:\n",
    "        print(cols[i])\n",
    "    else:\n",
    "        print(\"Imaginary\")"
   ]
  },
  {
   "cell_type": "code",
   "execution_count": 55,
   "metadata": {},
   "outputs": [
    {
     "data": {
      "text/plain": [
       "array([ 0.20738113-1.43694529e+01j, -2.28495671-1.37713650e+01j,\n",
       "       -2.41014474-1.15679723e+01j, -2.36880582-1.00809040e+01j,\n",
       "       -1.99507382-8.16169469e+00j, -1.79064819-1.04145610e+01j,\n",
       "       -2.22353039-8.75751521e+00j, -2.22116837-8.02230687e+00j,\n",
       "       -2.19607578-7.47647780e+00j, -2.16745186-7.02562636e+00j,\n",
       "       -2.1389479 -6.63781816e+00j, -2.11159418-6.29687356e+00j,\n",
       "       -2.0856668 -5.99286744e+00j, -2.06122957-5.71900020e+00j,\n",
       "       -2.03821264-5.47032412e+00j, -2.01654075-5.24303237e+00j,\n",
       "       -1.99611658-5.03416353e+00j, -1.97683577-4.84128382e+00j,\n",
       "       -1.95861179-4.66245164e+00j, -1.94136843-4.49601192e+00j,\n",
       "       -1.92501189-4.34059705e+00j, -1.90948589-4.19503248e+00j,\n",
       "       -1.89470427-4.05832233e+00j, -1.88063161-3.92959273e+00j,\n",
       "       -1.86721017-3.80811242e+00j, -1.85438391-3.69320135e+00j,\n",
       "       -1.8421071 -3.58429504e+00j, -1.83035981-3.48087810e+00j,\n",
       "       -1.81908767-3.38251159e+00j, -1.80826694-3.28877075e+00j,\n",
       "       -1.79786288-3.19932481e+00j, -1.78784912-3.11381449e+00j,\n",
       "       -1.7781995 -3.03198335e+00j, -1.76890419-2.95355539e+00j,\n",
       "       -1.75992077-2.87828337e+00j, -1.75124656-2.80595831e+00j,\n",
       "       -1.7428484 -2.73639124e+00j, -1.73472167-2.66939533e+00j,\n",
       "       -1.72684299-2.60481459e+00j, -1.71921097-2.54249728e+00j,\n",
       "       -1.71180219-2.48228823e+00j, -1.70461835-2.42408021e+00j,\n",
       "       -1.69762132-2.36774610e+00j, -1.69081131-2.31317002e+00j,\n",
       "       -1.6841931 -2.26027766e+00j, -1.6777374 -2.20896061e+00j,\n",
       "       -1.67145252-2.15912484e+00j, -1.66532128-2.11070439e+00j,\n",
       "       -1.65933646-2.06362188e+00j, -1.65348839-2.01780074e+00j,\n",
       "       -1.64778439-1.97317971e+00j, -1.64220824-1.92968401e+00j,\n",
       "       -1.63674757-1.88728614e+00j, -1.63140091-1.84591083e+00j,\n",
       "       -1.62616927-1.80551641e+00j, -1.6210402 -1.76603736e+00j,\n",
       "       -1.61601319-1.72746539e+00j, -1.61107845-1.68971881e+00j,\n",
       "       -1.60624001-1.65279030e+00j, -1.60148308-1.61663158e+00j,\n",
       "       -1.59681517-1.58120715e+00j, -1.59222444-1.54647228e+00j,\n",
       "       -1.58771287-1.51241548e+00j, -1.58326967-1.47900292e+00j,\n",
       "       -1.57890054-1.44618983e+00j, -1.57459655-1.41396957e+00j,\n",
       "       -1.57036361-1.38231422e+00j, -1.56619834-1.35116831e+00j,\n",
       "       -1.56207165-1.32055346e+00j, -1.55801346-1.29042336e+00j,\n",
       "       -1.55400659-1.26075828e+00j, -1.55005314-1.23155240e+00j,\n",
       "       -1.54614925-1.20276722e+00j, -1.54229056-1.17438646e+00j,\n",
       "       -1.53847468-1.14640648e+00j, -1.53471655-1.11881233e+00j,\n",
       "       -1.5309869 -1.09156738e+00j, -1.52730246-1.06466391e+00j,\n",
       "       -1.52364814-1.03809975e+00j, -1.52003173-1.01185229e+00j,\n",
       "       -1.51644971-9.85908361e-01j, -1.51290798-9.60251202e-01j,\n",
       "       -1.50939541-9.34869658e-01j, -1.50591124-9.09745369e-01j,\n",
       "       -1.50245243-8.84883734e-01j, -1.4990207 -8.60250665e-01j,\n",
       "       -1.49561666-8.35865759e-01j, -1.49223566-8.11699820e-01j,\n",
       "       -1.48888713-7.87721199e-01j, -1.48554177-7.63958596e-01j,\n",
       "       -1.48223289-7.40384798e-01j, -1.47893959-7.16991133e-01j,\n",
       "       -1.4756633 -6.93760888e-01j, -1.4723964 -6.70692693e-01j,\n",
       "       -1.46915476-6.47788227e-01j, -1.46592994-6.25017511e-01j,\n",
       "       -1.46271115-6.02376685e-01j, -1.45950851-5.79874097e-01j,\n",
       "       -1.45631005-5.57487479e-01j, -1.45312771-5.35211457e-01j,\n",
       "       -1.44996036-5.13041288e-01j, -1.44678811-4.90971395e-01j,\n",
       "       -1.44363412-4.68982540e-01j, -1.44048847-4.47083342e-01j,\n",
       "       -1.43734259-4.25247897e-01j, -1.43420664-4.03491278e-01j,\n",
       "       -1.43107317-3.81791355e-01j, -1.42793975-3.60144787e-01j,\n",
       "       -1.42480423-3.38534369e-01j, -1.42166451-3.16966792e-01j,\n",
       "       -1.41852719-2.95431320e-01j, -1.41538437-2.73934547e-01j,\n",
       "       -1.41224801-2.52454608e-01j, -1.40911295-2.30976207e-01j,\n",
       "       -1.40596022-2.09516075e-01j, -1.40281371-1.88051994e-01j,\n",
       "       -1.3996557 -1.66572649e-01j, -1.3964863 -1.45084576e-01j,\n",
       "       -1.39330324-1.23581973e-01j, -1.3901295 -1.02041451e-01j,\n",
       "       -1.38692633-8.04716493e-02j, -1.38372746-5.88736213e-02j,\n",
       "       -1.38049879-3.72087809e-02j, -1.37727049-1.54934572e-02j,\n",
       "       -1.37401656+6.28292583e-03j, -1.37075548+2.81154434e-02j,\n",
       "       -1.36747968+5.00454047e-02j, -1.36417681+7.20456990e-02j,\n",
       "       -1.36084819+9.41372097e-02j, -1.35751014+1.16324345e-01j,\n",
       "       -1.35415337+1.38617471e-01j, -1.35076731+1.61028406e-01j,\n",
       "       -1.34735519+1.83561205e-01j, -1.34392087+2.06220044e-01j,\n",
       "       -1.34045479+2.29019672e-01j, -1.33695133+2.51968010e-01j,\n",
       "       -1.33343265+2.75055164e-01j, -1.32987832+2.98322622e-01j,\n",
       "       -1.32629102+3.21744283e-01j, -1.32266617+3.45362136e-01j,\n",
       "       -1.319005  +3.69167253e-01j, -1.31530538+3.93184037e-01j,\n",
       "       -1.31156227+4.17391563e-01j, -1.3077903 +4.41839135e-01j,\n",
       "       -1.30396517+4.66517495e-01j, -1.3000832 +4.91434861e-01j,\n",
       "       -1.29616509+5.16606403e-01j, -1.29218829+5.42048607e-01j,\n",
       "       -1.28817338+5.67772229e-01j, -1.28409312+5.93782207e-01j,\n",
       "       -1.27996211+6.20101180e-01j, -1.27576841+6.46745368e-01j,\n",
       "       -1.27150278+6.73720935e-01j, -1.26717885+7.01045660e-01j,\n",
       "       -1.26278822+7.28734697e-01j, -1.25832651+7.56813205e-01j,\n",
       "       -1.25378722+7.85284770e-01j, -1.24917189+8.14184189e-01j,\n",
       "       -1.24446711+8.43504716e-01j, -1.23967962+8.73291750e-01j,\n",
       "       -1.23480491+9.03546373e-01j, -1.229837  +9.34302800e-01j,\n",
       "       -1.22477888+9.65572692e-01j, -1.21960558+9.97401514e-01j,\n",
       "       -1.21431898+1.02979006e+00j, -1.20893075+1.06276575e+00j,\n",
       "       -1.20342545+1.09637725e+00j, -1.19778201+1.13063942e+00j,\n",
       "       -1.19201677+1.16557680e+00j, -1.18611679+1.20123176e+00j,\n",
       "       -1.18006835+1.23764043e+00j, -1.17386293+1.27482607e+00j,\n",
       "       -1.16751557+1.31284498e+00j, -1.16097727+1.35173272e+00j,\n",
       "       -1.15427023+1.39152765e+00j, -1.14737061+1.43227387e+00j,\n",
       "       -1.14027887+1.47403623e+00j, -1.13296303+1.51684968e+00j,\n",
       "       -1.1254444 +1.56078283e+00j, -1.11767223+1.60589588e+00j,\n",
       "       -1.10965778+1.65224746e+00j, -1.10136814+1.69990835e+00j,\n",
       "       -1.09280671+1.74895852e+00j, -1.08393449+1.79946711e+00j,\n",
       "       -1.07474102+1.85152883e+00j, -1.06521085+1.90524349e+00j,\n",
       "       -1.05531135+1.96070441e+00j, -1.04500877+2.01803387e+00j,\n",
       "       -1.03429133+2.07733426e+00j, -1.02311612+2.13874575e+00j,\n",
       "       -1.01145195+2.20241731e+00j, -0.99924433+2.26848957e+00j,\n",
       "       -0.98646633+2.33714818e+00j, -0.97306884+2.40857999e+00j,\n",
       "       -0.95898601+2.48298999e+00j, -0.94416506+2.56062066e+00j,\n",
       "       -0.92853772+2.64173045e+00j, -0.91199775+2.72661782e+00j,\n",
       "       -0.89447112+2.81558924e+00j, -0.87584861+2.90903607e+00j,\n",
       "       -0.85600496+3.00736948e+00j, -0.83477611+3.11108465e+00j,\n",
       "       -0.8119944 +3.22073119e+00j, -0.78745098+3.33697119e+00j,\n",
       "       -0.7608853 +3.46055511e+00j, -0.73199025+3.59240848e+00j,\n",
       "       -0.70035527+3.73364709e+00j, -0.66548806+3.88561087e+00j,\n",
       "       -0.6267418 +4.05005173e+00j, -0.58318826+4.22909477e+00j,\n",
       "       -0.53367868+4.42567610e+00j, -0.47646046+4.64377772e+00j,\n",
       "       -0.40892339+4.88917026e+00j, -0.32692579+5.17043188e+00j,\n",
       "       -0.22353896+5.50223405e+00j, -0.08506546+5.91080103e+00j,\n",
       "        0.11819955+6.45170252e+00j,  0.46880518+7.27087464e+00j,\n",
       "        1.31784324+8.93486052e+00j,  8.62806259+1.79670475e+01j,\n",
       "       -2.71166122-2.10583076e-01j, -1.32189578+4.18955601e+00j,\n",
       "       -0.80901855+5.66451500e+00j, -0.47925475+6.68103921e+00j,\n",
       "       -0.19232662+7.61843684e+00j,  0.11321702+8.62938833e+00j,\n",
       "        0.4957694 +9.84772953e+00j,  1.06877581+1.14965581e+01j,\n",
       "        2.21706154+1.41977950e+01j,  7.78611801+2.18712033e+01j,\n",
       "       13.52604267+1.84684537e+01j,  7.16672208+1.18522939e+01j,\n",
       "        0.5823697 +7.63385266e+00j,  4.09019026+1.57924717e+01j,\n",
       "       14.12971001+2.74022309e+01j, 22.8473788 +2.63275657e+01j,\n",
       "       12.92628337+7.52073511e-01j, 12.20068262+3.63320560e+00j,\n",
       "       17.35627029-3.22440300e+00j, 14.83121875-5.78748687e+00j,\n",
       "       12.53198662+7.39774944e-02j, 12.79741386+2.82497385e+00j,\n",
       "        9.04609978+1.16172446e+01j, 29.1466969 +1.96100269e+01j,\n",
       "        1.22819522+1.80726817e+01j, 32.91762182-1.82624297e+01j,\n",
       "       18.26227064+4.47956072e+00j, 22.80030951+8.41808653e+00j,\n",
       "       12.46092348-4.94874949e+00j, 37.77669929-8.24482920e+00j,\n",
       "       26.00156704-7.83257892e+00j, 10.37277093-2.69297488e+01j,\n",
       "        0.466701  -2.58904346e+01j, -1.03744939-1.82864364e+01j,\n",
       "       -2.66414899-1.39770467e+01j,  7.12247918-1.70814677e+01j])"
      ]
     },
     "execution_count": 55,
     "metadata": {},
     "output_type": "execute_result"
    }
   ],
   "source": [
    "td_signals =[td_taus,td_aces,td_asps,td_ascs,td_alas,td_glns,td_ins,td_glus,td_glys,td_glcs,td_lacs,td_crs,td_pcrs,td_pes,td_pchos,td_naas,td_naags,td_gpcs,td_gshs,td_gabas]\n",
    "\n",
    "fd_signals =[fd_taus,fd_ace,fd_asps,fd_ascs,fd_alas,fd_glns,fd_ins,fd_glus,fd_glys,fd_glcs,fd_lacs,fd_crs,fd_pcrs,fd_pes,fd_pchos,fd_naas,fd_naags,fd_gpcs,fd_gshs,fd_gabas]\n",
    "\n",
    "summed_signal_vector = np.zeros((256,),dtype=complex)\n",
    "for sig in fd_signals:\n",
    "    summed_signal_vector+=sig\n",
    "summed_signal_vector"
   ]
  },
  {
   "cell_type": "code",
   "execution_count": 56,
   "metadata": {},
   "outputs": [],
   "source": [
    "def distorted_signal():\n",
    "    y_d = summed_signal_vector + td_macs + np.random.normal(0.0,1.0)\n",
    "    return (y_d)"
   ]
  },
  {
   "cell_type": "code",
   "execution_count": 57,
   "metadata": {},
   "outputs": [
    {
     "data": {
      "text/plain": [
       "(256,)"
      ]
     },
     "execution_count": 57,
     "metadata": {},
     "output_type": "execute_result"
    }
   ],
   "source": [
    "y=distorted_signal()\n",
    "y.shape"
   ]
  },
  {
   "cell_type": "code",
   "execution_count": 60,
   "metadata": {},
   "outputs": [],
   "source": [
    "from keras import backend as K\n",
    "K.set_image_dim_ordering('th')\n",
    "\n",
    "def get_model():\n",
    "    model = Sequential()\n",
    "    model.add(Conv1D(16, (2,),input_shape=(256,1)))\n",
    "    model.add(Activation('relu'))\n",
    "    model.add(MaxPooling1D(pool_size=2))\n",
    "    \n",
    "    model.add(Conv1D(32, (3,)))\n",
    "    model.add(Activation('relu'))\n",
    "    model.add(MaxPooling1D(pool_size=2))\n",
    "    \n",
    "    model.add(Conv1D(64, (3,)))\n",
    "    model.add(Activation('relu'))\n",
    "    model.add(MaxPooling1D(pool_size=2))\n",
    "    \n",
    "    model.add(Conv1D(128, (3,)))\n",
    "    model.add(Activation('relu'))\n",
    "    model.add(MaxPooling1D(pool_size=2))\n",
    "    \n",
    "    model.add(Flatten())\n",
    "    model.add(Dense(256))\n",
    "    \n",
    "    model.compile(loss='mean_squared_error',\n",
    "                optimizer='Adam',\n",
    "                metrics=['accuracy'])\n",
    "    return model"
   ]
  },
  {
   "cell_type": "code",
   "execution_count": 65,
   "metadata": {},
   "outputs": [],
   "source": [
    "def get_model_2():\n",
    "    model_2 = Sequential()\n",
    "    model_2.add(SeparableConv1D(16, (2,),input_shape=(256,1)))\n",
    "    model_2.add(Activation('relu'))\n",
    "    model_2.add(MaxPooling1D(pool_size=2))\n",
    "    \n",
    "    model_2.add(SeparableConv1D(32, (3,)))\n",
    "    model_2.add(Activation('relu'))\n",
    "    model_2.add(MaxPooling1D(pool_size=2))\n",
    "    \n",
    "    model_2.add(SeparableConv1D(64, (3,)))\n",
    "    model_2.add(Activation('relu'))\n",
    "    model_2.add(MaxPooling1D(pool_size=2))\n",
    "    \n",
    "    model_2.add(SeparableConv1D(128, (3,)))\n",
    "    model_2.add(Activation('relu'))\n",
    "    model_2.add(MaxPooling1D(pool_size=2))\n",
    "    \n",
    "    model_2.add(Flatten())\n",
    "    model_2.add(Dense(256))\n",
    "    \n",
    "    model_2.compile(loss='mean_squared_error',\n",
    "                optimizer='Adam',\n",
    "                metrics=['accuracy'])\n",
    "    return model_2"
   ]
  },
  {
   "cell_type": "code",
   "execution_count": 108,
   "metadata": {},
   "outputs": [
    {
     "data": {
      "text/plain": [
       "(20, 256, 1)"
      ]
     },
     "execution_count": 108,
     "metadata": {},
     "output_type": "execute_result"
    }
   ],
   "source": [
    "X = []\n",
    "for i in np.arange(25):\n",
    "    X.append(distorted_signal())\n",
    "    \n",
    "X = np.array(X)\n",
    "Y = np.array(fd_signals)\n",
    "\n",
    "X_train ,X_test = train_test_split(X,test_size =0.2, random_state =10)\n",
    "\n",
    "X_train = np.reshape(X_train, (X_train.shape[0],X_train.shape[1],1))\n",
    "X_test = np.reshape(X_test, (X_test.shape[0],X_test.shape[1], 1))\n",
    "X_train.shape"
   ]
  },
  {
   "cell_type": "code",
   "execution_count": 93,
   "metadata": {},
   "outputs": [
    {
     "name": "stdout",
     "output_type": "stream",
     "text": [
      "Train on 16 samples, validate on 4 samples\n",
      "Epoch 1/50\n",
      "16/16 [==============================] - 1s 67ms/step - loss: 0.8045 - acc: 0.0000e+00 - val_loss: 0.5054 - val_acc: 0.0000e+00\n",
      "Epoch 2/50\n",
      "16/16 [==============================] - 0s 1ms/step - loss: 0.5560 - acc: 0.0000e+00 - val_loss: 0.4179 - val_acc: 0.0000e+00\n",
      "Epoch 3/50\n",
      "16/16 [==============================] - 0s 2ms/step - loss: 0.4614 - acc: 0.1250 - val_loss: 0.3976 - val_acc: 0.0000e+00\n",
      "Epoch 4/50\n",
      "16/16 [==============================] - 0s 1ms/step - loss: 0.4434 - acc: 0.1250 - val_loss: 0.3953 - val_acc: 0.0000e+00\n",
      "Epoch 5/50\n",
      "16/16 [==============================] - 0s 1ms/step - loss: 0.4445 - acc: 0.0625 - val_loss: 0.3901 - val_acc: 0.0000e+00\n",
      "Epoch 6/50\n",
      "16/16 [==============================] - 0s 1ms/step - loss: 0.4401 - acc: 0.1250 - val_loss: 0.3815 - val_acc: 0.2500\n",
      "Epoch 7/50\n",
      "16/16 [==============================] - 0s 1ms/step - loss: 0.4305 - acc: 0.1875 - val_loss: 0.3730 - val_acc: 0.2500\n",
      "Epoch 8/50\n",
      "16/16 [==============================] - 0s 1ms/step - loss: 0.4206 - acc: 0.2500 - val_loss: 0.3664 - val_acc: 0.2500\n",
      "Epoch 9/50\n",
      "16/16 [==============================] - 0s 2ms/step - loss: 0.4131 - acc: 0.2500 - val_loss: 0.3617 - val_acc: 0.2500\n",
      "Epoch 10/50\n",
      "16/16 [==============================] - 0s 2ms/step - loss: 0.4081 - acc: 0.1875 - val_loss: 0.3581 - val_acc: 0.2500\n",
      "Epoch 11/50\n",
      "16/16 [==============================] - 0s 2ms/step - loss: 0.4048 - acc: 0.1875 - val_loss: 0.3548 - val_acc: 0.2500\n",
      "Epoch 12/50\n",
      "16/16 [==============================] - 0s 1ms/step - loss: 0.4023 - acc: 0.2500 - val_loss: 0.3520 - val_acc: 0.2500\n",
      "Epoch 13/50\n",
      "16/16 [==============================] - 0s 2ms/step - loss: 0.3998 - acc: 0.2500 - val_loss: 0.3493 - val_acc: 0.2500\n",
      "Epoch 14/50\n",
      "16/16 [==============================] - 0s 1ms/step - loss: 0.3972 - acc: 0.2500 - val_loss: 0.3469 - val_acc: 0.2500\n",
      "Epoch 15/50\n",
      "16/16 [==============================] - 0s 1ms/step - loss: 0.3943 - acc: 0.2500 - val_loss: 0.3447 - val_acc: 0.2500\n",
      "Epoch 16/50\n",
      "16/16 [==============================] - 0s 2ms/step - loss: 0.3916 - acc: 0.2500 - val_loss: 0.3433 - val_acc: 0.2500\n",
      "Epoch 17/50\n",
      "16/16 [==============================] - 0s 2ms/step - loss: 0.3891 - acc: 0.1875 - val_loss: 0.3425 - val_acc: 0.2500\n",
      "Epoch 18/50\n",
      "16/16 [==============================] - 0s 1ms/step - loss: 0.3870 - acc: 0.1875 - val_loss: 0.3423 - val_acc: 0.2500\n",
      "Epoch 19/50\n",
      "16/16 [==============================] - 0s 2ms/step - loss: 0.3851 - acc: 0.1875 - val_loss: 0.3424 - val_acc: 0.2500\n",
      "Epoch 20/50\n",
      "16/16 [==============================] - 0s 2ms/step - loss: 0.3832 - acc: 0.2500 - val_loss: 0.3425 - val_acc: 0.5000\n",
      "Epoch 21/50\n",
      "16/16 [==============================] - 0s 1ms/step - loss: 0.3812 - acc: 0.2500 - val_loss: 0.3425 - val_acc: 0.5000\n"
     ]
    }
   ],
   "source": [
    "early_stopping_monitor = EarlyStopping(patience=3)\n",
    "model = get_model()\n",
    "history =model.fit(X_train,Y,epochs=50,validation_split =0.2,callbacks=[early_stopping_monitor]) "
   ]
  },
  {
   "cell_type": "code",
   "execution_count": 94,
   "metadata": {},
   "outputs": [
    {
     "data": {
      "image/png": "[encoded data removed]",
      "text/plain": [
       "<Figure size 432x288 with 1 Axes>"
      ]
     },
     "metadata": {
      "needs_background": "light"
     },
     "output_type": "display_data"
    },
    {
     "data": {
      "text/plain": [
       "<Figure size 432x288 with 0 Axes>"
      ]
     },
     "metadata": {},
     "output_type": "display_data"
    }
   ],
   "source": [
    "# summarize history for loss\n",
    "plt.plot(history.history['loss'])\n",
    "plt.plot(history.history['val_loss'])\n",
    "plt.title('model loss')\n",
    "plt.ylabel('loss')\n",
    "plt.xlabel('epoch')\n",
    "plt.legend(['train', 'test'], loc='upper right')\n",
    "plt.show()\n",
    "plt.savefig('model_loss_50epochs.png')"
   ]
  },
  {
   "cell_type": "code",
   "execution_count": 95,
   "metadata": {},
   "outputs": [
    {
     "name": "stdout",
     "output_type": "stream",
     "text": [
      "_________________________________________________________________\n",
      "Layer (type)                 Output Shape              Param #   \n",
      "=================================================================\n",
      "conv1d_57 (Conv1D)           (None, 255, 16)           48        \n",
      "_________________________________________________________________\n",
      "activation_61 (Activation)   (None, 255, 16)           0         \n",
      "_________________________________________________________________\n",
      "max_pooling1d_61 (MaxPooling (None, 127, 16)           0         \n",
      "_________________________________________________________________\n",
      "conv1d_58 (Conv1D)           (None, 125, 32)           1568      \n",
      "_________________________________________________________________\n",
      "activation_62 (Activation)   (None, 125, 32)           0         \n",
      "_________________________________________________________________\n",
      "max_pooling1d_62 (MaxPooling (None, 62, 32)            0         \n",
      "_________________________________________________________________\n",
      "conv1d_59 (Conv1D)           (None, 60, 64)            6208      \n",
      "_________________________________________________________________\n",
      "activation_63 (Activation)   (None, 60, 64)            0         \n",
      "_________________________________________________________________\n",
      "max_pooling1d_63 (MaxPooling (None, 30, 64)            0         \n",
      "_________________________________________________________________\n",
      "conv1d_60 (Conv1D)           (None, 28, 128)           24704     \n",
      "_________________________________________________________________\n",
      "activation_64 (Activation)   (None, 28, 128)           0         \n",
      "_________________________________________________________________\n",
      "max_pooling1d_64 (MaxPooling (None, 14, 128)           0         \n",
      "_________________________________________________________________\n",
      "flatten_16 (Flatten)         (None, 1792)              0         \n",
      "_________________________________________________________________\n",
      "dense_16 (Dense)             (None, 256)               459008    \n",
      "=================================================================\n",
      "Total params: 491,536\n",
      "Trainable params: 491,536\n",
      "Non-trainable params: 0\n",
      "_________________________________________________________________\n"
     ]
    }
   ],
   "source": [
    "firstModel = get_model()\n",
    "firstModel.summary()"
   ]
  },
  {
   "cell_type": "code",
   "execution_count": 103,
   "metadata": {},
   "outputs": [
    {
     "name": "stdout",
     "output_type": "stream",
     "text": [
      "5/5 [==============================] - 0s 969us/step\n",
      "5/5 [==============================] - 0s 767us/step\n",
      "5/5 [==============================] - 0s 1ms/step\n",
      "5/5 [==============================] - 0s 957us/step\n"
     ]
    },
    {
     "data": {
      "text/plain": [
       "73.23101460933685"
      ]
     },
     "execution_count": 103,
     "metadata": {},
     "output_type": "execute_result"
    }
   ],
   "source": [
    "scores1 =firstModel.evaluate(X_test,Y[5:10])\n",
    "scores2 =firstModel.evaluate(X_test,Y[:5] )\n",
    "scores3 =firstModel.evaluate(X_test,Y[:5] )\n",
    "scores4 =firstModel.evaluate(X_test, Y[10:15])\n",
    "\n",
    "total_score =0.25*(scores1[0]+scores2[0]+scores3[0]+scores4[0])\n",
    "total_accuracy = total_score*100\n",
    "total_accuracy"
   ]
  },
  {
   "cell_type": "code",
   "execution_count": 97,
   "metadata": {},
   "outputs": [
    {
     "name": "stdout",
     "output_type": "stream",
     "text": [
      "_________________________________________________________________\n",
      "Layer (type)                 Output Shape              Param #   \n",
      "=================================================================\n",
      "separable_conv1d_5 (Separabl (None, 255, 16)           34        \n",
      "_________________________________________________________________\n",
      "activation_65 (Activation)   (None, 255, 16)           0         \n",
      "_________________________________________________________________\n",
      "max_pooling1d_65 (MaxPooling (None, 127, 16)           0         \n",
      "_________________________________________________________________\n",
      "separable_conv1d_6 (Separabl (None, 125, 32)           592       \n",
      "_________________________________________________________________\n",
      "activation_66 (Activation)   (None, 125, 32)           0         \n",
      "_________________________________________________________________\n",
      "max_pooling1d_66 (MaxPooling (None, 62, 32)            0         \n",
      "_________________________________________________________________\n",
      "separable_conv1d_7 (Separabl (None, 60, 64)            2208      \n",
      "_________________________________________________________________\n",
      "activation_67 (Activation)   (None, 60, 64)            0         \n",
      "_________________________________________________________________\n",
      "max_pooling1d_67 (MaxPooling (None, 30, 64)            0         \n",
      "_________________________________________________________________\n",
      "separable_conv1d_8 (Separabl (None, 28, 128)           8512      \n",
      "_________________________________________________________________\n",
      "activation_68 (Activation)   (None, 28, 128)           0         \n",
      "_________________________________________________________________\n",
      "max_pooling1d_68 (MaxPooling (None, 14, 128)           0         \n",
      "_________________________________________________________________\n",
      "flatten_17 (Flatten)         (None, 1792)              0         \n",
      "_________________________________________________________________\n",
      "dense_17 (Dense)             (None, 256)               459008    \n",
      "=================================================================\n",
      "Total params: 470,354\n",
      "Trainable params: 470,354\n",
      "Non-trainable params: 0\n",
      "_________________________________________________________________\n"
     ]
    }
   ],
   "source": [
    "secondModel = get_model_2()\n",
    "secondModel.summary()"
   ]
  },
  {
   "cell_type": "code",
   "execution_count": 98,
   "metadata": {},
   "outputs": [
    {
     "name": "stdout",
     "output_type": "stream",
     "text": [
      "Train on 16 samples, validate on 4 samples\n",
      "Epoch 1/50\n",
      "16/16 [==============================] - 1s 79ms/step - loss: 0.4810 - acc: 0.0000e+00 - val_loss: 0.4308 - val_acc: 0.0000e+00\n",
      "Epoch 2/50\n",
      "16/16 [==============================] - 0s 1ms/step - loss: 0.4798 - acc: 0.0000e+00 - val_loss: 0.4295 - val_acc: 0.0000e+00\n",
      "Epoch 3/50\n",
      "16/16 [==============================] - 0s 2ms/step - loss: 0.4785 - acc: 0.0000e+00 - val_loss: 0.4280 - val_acc: 0.0000e+00\n",
      "Epoch 4/50\n",
      "16/16 [==============================] - 0s 1ms/step - loss: 0.4768 - acc: 0.0000e+00 - val_loss: 0.4262 - val_acc: 0.0000e+00\n",
      "Epoch 5/50\n",
      "16/16 [==============================] - 0s 1ms/step - loss: 0.4749 - acc: 0.0000e+00 - val_loss: 0.4241 - val_acc: 0.0000e+00\n",
      "Epoch 6/50\n",
      "16/16 [==============================] - 0s 1ms/step - loss: 0.4725 - acc: 0.0000e+00 - val_loss: 0.4216 - val_acc: 0.0000e+00\n",
      "Epoch 7/50\n",
      "16/16 [==============================] - 0s 1ms/step - loss: 0.4698 - acc: 0.0000e+00 - val_loss: 0.4189 - val_acc: 0.0000e+00\n",
      "Epoch 8/50\n",
      "16/16 [==============================] - 0s 2ms/step - loss: 0.4668 - acc: 0.0000e+00 - val_loss: 0.4161 - val_acc: 0.0000e+00\n",
      "Epoch 9/50\n",
      "16/16 [==============================] - 0s 2ms/step - loss: 0.4635 - acc: 0.0000e+00 - val_loss: 0.4131 - val_acc: 0.0000e+00\n",
      "Epoch 10/50\n",
      "16/16 [==============================] - 0s 2ms/step - loss: 0.4602 - acc: 0.0000e+00 - val_loss: 0.4102 - val_acc: 0.0000e+00\n",
      "Epoch 11/50\n",
      "16/16 [==============================] - 0s 1ms/step - loss: 0.4568 - acc: 0.0000e+00 - val_loss: 0.4074 - val_acc: 0.0000e+00\n",
      "Epoch 12/50\n",
      "16/16 [==============================] - 0s 1ms/step - loss: 0.4536 - acc: 0.0000e+00 - val_loss: 0.4044 - val_acc: 0.2500\n",
      "Epoch 13/50\n",
      "16/16 [==============================] - 0s 2ms/step - loss: 0.4505 - acc: 0.0625 - val_loss: 0.4009 - val_acc: 0.2500\n",
      "Epoch 14/50\n",
      "16/16 [==============================] - 0s 2ms/step - loss: 0.4472 - acc: 0.1250 - val_loss: 0.3966 - val_acc: 0.2500\n",
      "Epoch 15/50\n",
      "16/16 [==============================] - 0s 1ms/step - loss: 0.4436 - acc: 0.1250 - val_loss: 0.3915 - val_acc: 0.2500\n",
      "Epoch 16/50\n",
      "16/16 [==============================] - 0s 1ms/step - loss: 0.4395 - acc: 0.1250 - val_loss: 0.3856 - val_acc: 0.2500\n",
      "Epoch 17/50\n",
      "16/16 [==============================] - 0s 2ms/step - loss: 0.4350 - acc: 0.1250 - val_loss: 0.3791 - val_acc: 0.2500\n",
      "Epoch 18/50\n",
      "16/16 [==============================] - 0s 2ms/step - loss: 0.4303 - acc: 0.1875 - val_loss: 0.3725 - val_acc: 0.2500\n",
      "Epoch 19/50\n",
      "16/16 [==============================] - 0s 2ms/step - loss: 0.4257 - acc: 0.1875 - val_loss: 0.3663 - val_acc: 0.2500\n",
      "Epoch 20/50\n",
      "16/16 [==============================] - 0s 1ms/step - loss: 0.4215 - acc: 0.1875 - val_loss: 0.3609 - val_acc: 0.2500\n",
      "Epoch 21/50\n",
      "16/16 [==============================] - 0s 2ms/step - loss: 0.4183 - acc: 0.1875 - val_loss: 0.3567 - val_acc: 0.2500\n",
      "Epoch 22/50\n",
      "16/16 [==============================] - 0s 1ms/step - loss: 0.4161 - acc: 0.1875 - val_loss: 0.3540 - val_acc: 0.2500\n",
      "Epoch 23/50\n",
      "16/16 [==============================] - 0s 2ms/step - loss: 0.4149 - acc: 0.1875 - val_loss: 0.3525 - val_acc: 0.2500\n",
      "Epoch 24/50\n",
      "16/16 [==============================] - 0s 1ms/step - loss: 0.4143 - acc: 0.1875 - val_loss: 0.3521 - val_acc: 0.2500\n",
      "Epoch 25/50\n",
      "16/16 [==============================] - 0s 1ms/step - loss: 0.4139 - acc: 0.1875 - val_loss: 0.3525 - val_acc: 0.2500\n",
      "Epoch 26/50\n",
      "16/16 [==============================] - 0s 2ms/step - loss: 0.4135 - acc: 0.1875 - val_loss: 0.3534 - val_acc: 0.2500\n",
      "Epoch 27/50\n",
      "16/16 [==============================] - 0s 1ms/step - loss: 0.4129 - acc: 0.1875 - val_loss: 0.3544 - val_acc: 0.2500\n"
     ]
    }
   ],
   "source": [
    "early_stopping_monitor = EarlyStopping(patience=3)\n",
    "history =secondModel.fit(X_train,Y,epochs=50,validation_split =0.2,callbacks=[early_stopping_monitor]) "
   ]
  },
  {
   "cell_type": "code",
   "execution_count": 104,
   "metadata": {},
   "outputs": [
    {
     "data": {
      "image/png": "[encoded data removed]",
      "text/plain": [
       "<Figure size 432x288 with 1 Axes>"
      ]
     },
     "metadata": {
      "needs_background": "light"
     },
     "output_type": "display_data"
    },
    {
     "data": {
      "text/plain": [
       "<Figure size 432x288 with 0 Axes>"
      ]
     },
     "metadata": {},
     "output_type": "display_data"
    }
   ],
   "source": [
    "# summarize history for loss\n",
    "plt.plot(history.history['loss'])\n",
    "plt.plot(history.history['val_loss'])\n",
    "plt.title('model loss')\n",
    "plt.ylabel('loss')\n",
    "plt.xlabel('epoch')\n",
    "plt.legend(['train', 'test'], loc='upper right')\n",
    "plt.show()\n",
    "plt.savefig('model2_loss_50epochs.png')"
   ]
  },
  {
   "cell_type": "code",
   "execution_count": 105,
   "metadata": {},
   "outputs": [
    {
     "name": "stdout",
     "output_type": "stream",
     "text": [
      "5/5 [==============================] - 0s 674us/step\n",
      "5/5 [==============================] - 0s 744us/step\n",
      "5/5 [==============================] - 0s 785us/step\n",
      "5/5 [==============================] - 0s 774us/step\n"
     ]
    },
    {
     "data": {
      "text/plain": [
       "40.09360000491142"
      ]
     },
     "execution_count": 105,
     "metadata": {},
     "output_type": "execute_result"
    }
   ],
   "source": [
    "scores1 =secondModel.evaluate(X_test,Y[5:10])\n",
    "scores2 =secondModel.evaluate(X_test, Y[15:20])\n",
    "scores3 =secondModel.evaluate(X_test,Y[:5])\n",
    "scores4 =secondModel.evaluate(X_test,Y[:5] )\n",
    "\n",
    "total_score =0.25*(scores1[0]+scores2[0]+scores3[0]+scores4[0])\n",
    "total_accuracy = total_score*100\n",
    "total_accuracy"
   ]
  },
  {
   "cell_type": "code",
   "execution_count": 146,
   "metadata": {},
   "outputs": [],
   "source": [
    "X_new = np.reshape(fd_ace, (1,fd_ace.shape[0],1))\n",
    "y_predict = firstModel.predict(X_new)"
   ]
  },
  {
   "cell_type": "code",
   "execution_count": 150,
   "metadata": {},
   "outputs": [
    {
     "data": {
      "text/plain": [
       "[<matplotlib.lines.Line2D at 0x7f3c722cf860>]"
      ]
     },
     "execution_count": 150,
     "metadata": {},
     "output_type": "execute_result"
    },
    {
     "data": {
      "image/png": "[encoded data removed]",
      "text/plain": [
       "<Figure size 432x288 with 1 Axes>"
      ]
     },
     "metadata": {
      "needs_background": "light"
     },
     "output_type": "display_data"
    }
   ],
   "source": [
    "ace = y_predict.T\n",
    "ace_abs = np.abs(np.fft.rfft(ace))\n",
    "plt.plot(ace_abs)"
   ]
  },
  {
   "cell_type": "code",
   "execution_count": null,
   "metadata": {},
   "outputs": [],
   "source": []
  },
  {
   "cell_type": "code",
   "execution_count": null,
   "metadata": {},
   "outputs": [],
   "source": []
  }
 ],
 "metadata": {
  "kernelspec": {
   "display_name": "Python 3",
   "language": "python",
   "name": "python3"
  },
  "language_info": {
   "codemirror_mode": {
    "name": "ipython",
    "version": 3
   },
   "file_extension": ".py",
   "mimetype": "text/x-python",
   "name": "python",
   "nbconvert_exporter": "python",
   "pygments_lexer": "ipython3",
   "version": "3.6.6"
  }
 },
 "nbformat": 4,
 "nbformat_minor": 2
}
