{
 "cells": [
  {
   "cell_type": "code",
   "execution_count": 154,
   "metadata": {},
   "outputs": [],
   "source": [
    "import os\n",
    "import numpy as np\n",
    "import pandas as pd\n",
    "from keras.models import Sequential\n",
    "from keras.layers import Dense, Dropout, Activation, Flatten,InputLayer\n",
    "from keras.layers import Conv2D, MaxPooling2D, Lambda\n",
    "from keras.layers import Dense\n",
    "from keras.wrappers.scikit_learn import KerasClassifier\n",
    "from keras.utils import np_utils\n",
    "from keras.preprocessing.image import ImageDataGenerator\n",
    "from sklearn.model_selection import cross_val_score\n",
    "from sklearn.model_selection import KFold\n",
    "from sklearn.preprocessing import LabelEncoder\n",
    "from sklearn.pipeline import Pipeline\n",
    "from sklearn.model_selection import train_test_split\n",
    "from sklearn.metrics import roc_curve, auc\n",
    "import csv\n",
    "import cv2\n",
    "import scipy\n",
    "%matplotlib inline\n",
    "import matplotlib.pyplot as plt\n"
   ]
  },
  {
   "cell_type": "code",
   "execution_count": 155,
   "metadata": {},
   "outputs": [],
   "source": [
    "#PARAMETERS SETTING\n",
    "\n",
    "DAMPING_FACTOR = 10\n",
    "PHASE_SHIFT =0\n",
    "DELTA_FREQUENCY =123.2\n",
    "DELTA_BETA = 0\n",
    "DELTA_ALPHA =-0.026\n",
    "NDP =2048\n",
    "LEARNING_RATE =0.001"
   ]
  },
  {
   "cell_type": "code",
   "execution_count": 156,
   "metadata": {},
   "outputs": [],
   "source": [
    "df = pd.read_csv(\"./mrs_datasets.csv\")"
   ]
  },
  {
   "cell_type": "code",
   "execution_count": 157,
   "metadata": {},
   "outputs": [
    {
     "data": {
      "text/html": [
       "<div>\n",
       "<style scoped>\n",
       "    .dataframe tbody tr th:only-of-type {\n",
       "        vertical-align: middle;\n",
       "    }\n",
       "\n",
       "    .dataframe tbody tr th {\n",
       "        vertical-align: top;\n",
       "    }\n",
       "\n",
       "    .dataframe thead th {\n",
       "        text-align: right;\n",
       "    }\n",
       "</style>\n",
       "<table border=\"1\" class=\"dataframe\">\n",
       "  <thead>\n",
       "    <tr style=\"text-align: right;\">\n",
       "      <th></th>\n",
       "      <th>imag_component</th>\n",
       "      <th>real_component</th>\n",
       "      <th>ace_imag</th>\n",
       "      <th>ace_real</th>\n",
       "      <th>ala_imag</th>\n",
       "      <th>ala_real</th>\n",
       "      <th>asc_imag</th>\n",
       "      <th>asc_real</th>\n",
       "      <th>asp_imag</th>\n",
       "      <th>asp_real</th>\n",
       "      <th>...</th>\n",
       "      <th>naag_imag</th>\n",
       "      <th>naag_real</th>\n",
       "      <th>pcho_imag</th>\n",
       "      <th>pcho_real</th>\n",
       "      <th>pcr_imag</th>\n",
       "      <th>pcr_real</th>\n",
       "      <th>pe_imag</th>\n",
       "      <th>pe_real</th>\n",
       "      <th>tau_imag</th>\n",
       "      <th>tau_real</th>\n",
       "    </tr>\n",
       "  </thead>\n",
       "  <tbody>\n",
       "    <tr>\n",
       "      <th>0</th>\n",
       "      <td>103.39270</td>\n",
       "      <td>267.478460</td>\n",
       "      <td>0.00000</td>\n",
       "      <td>3.100000</td>\n",
       "      <td>0.034923</td>\n",
       "      <td>2.769480</td>\n",
       "      <td>0.008175</td>\n",
       "      <td>3.83645</td>\n",
       "      <td>-0.070215</td>\n",
       "      <td>2.153580</td>\n",
       "      <td>...</td>\n",
       "      <td>-0.224074</td>\n",
       "      <td>8.76237</td>\n",
       "      <td>-0.000002</td>\n",
       "      <td>12.14190</td>\n",
       "      <td>0.00000</td>\n",
       "      <td>5.10000</td>\n",
       "      <td>-0.000055</td>\n",
       "      <td>3.01880</td>\n",
       "      <td>-3.000000e-07</td>\n",
       "      <td>3.92162</td>\n",
       "    </tr>\n",
       "    <tr>\n",
       "      <th>1</th>\n",
       "      <td>208.88067</td>\n",
       "      <td>475.039650</td>\n",
       "      <td>-1.59678</td>\n",
       "      <td>2.643850</td>\n",
       "      <td>-1.425420</td>\n",
       "      <td>2.328820</td>\n",
       "      <td>-0.535391</td>\n",
       "      <td>3.75273</td>\n",
       "      <td>-0.743603</td>\n",
       "      <td>1.964530</td>\n",
       "      <td>...</td>\n",
       "      <td>-3.729120</td>\n",
       "      <td>7.74945</td>\n",
       "      <td>-3.015710</td>\n",
       "      <td>11.70030</td>\n",
       "      <td>-1.27955</td>\n",
       "      <td>4.88867</td>\n",
       "      <td>-0.671965</td>\n",
       "      <td>2.93129</td>\n",
       "      <td>-1.041460e+00</td>\n",
       "      <td>3.74859</td>\n",
       "    </tr>\n",
       "    <tr>\n",
       "      <th>2</th>\n",
       "      <td>362.25272</td>\n",
       "      <td>321.308610</td>\n",
       "      <td>-2.71081</td>\n",
       "      <td>1.430540</td>\n",
       "      <td>-2.352400</td>\n",
       "      <td>1.147570</td>\n",
       "      <td>-1.004860</td>\n",
       "      <td>3.55094</td>\n",
       "      <td>-1.264100</td>\n",
       "      <td>1.545000</td>\n",
       "      <td>...</td>\n",
       "      <td>-6.319120</td>\n",
       "      <td>5.24486</td>\n",
       "      <td>-5.756960</td>\n",
       "      <td>10.46610</td>\n",
       "      <td>-2.40047</td>\n",
       "      <td>4.31520</td>\n",
       "      <td>-1.258190</td>\n",
       "      <td>2.66288</td>\n",
       "      <td>-1.954820e+00</td>\n",
       "      <td>3.28968</td>\n",
       "    </tr>\n",
       "    <tr>\n",
       "      <th>3</th>\n",
       "      <td>427.01000</td>\n",
       "      <td>128.034040</td>\n",
       "      <td>-3.02747</td>\n",
       "      <td>-0.162387</td>\n",
       "      <td>-2.426660</td>\n",
       "      <td>-0.310499</td>\n",
       "      <td>-1.374670</td>\n",
       "      <td>3.29898</td>\n",
       "      <td>-1.561160</td>\n",
       "      <td>1.006050</td>\n",
       "      <td>...</td>\n",
       "      <td>-7.413620</td>\n",
       "      <td>1.89018</td>\n",
       "      <td>-8.019600</td>\n",
       "      <td>8.59008</td>\n",
       "      <td>-3.26274</td>\n",
       "      <td>3.48772</td>\n",
       "      <td>-1.712500</td>\n",
       "      <td>2.28873</td>\n",
       "      <td>-2.667710e+00</td>\n",
       "      <td>2.63528</td>\n",
       "    </tr>\n",
       "    <tr>\n",
       "      <th>4</th>\n",
       "      <td>382.59452</td>\n",
       "      <td>-45.193075</td>\n",
       "      <td>-2.48820</td>\n",
       "      <td>-1.662300</td>\n",
       "      <td>-1.670910</td>\n",
       "      <td>-1.495770</td>\n",
       "      <td>-1.675670</td>\n",
       "      <td>3.05325</td>\n",
       "      <td>-1.641010</td>\n",
       "      <td>0.461769</td>\n",
       "      <td>...</td>\n",
       "      <td>-6.829890</td>\n",
       "      <td>-1.49316</td>\n",
       "      <td>-9.685960</td>\n",
       "      <td>6.25744</td>\n",
       "      <td>-3.83935</td>\n",
       "      <td>2.52442</td>\n",
       "      <td>-2.048340</td>\n",
       "      <td>1.87846</td>\n",
       "      <td>-3.172140e+00</td>\n",
       "      <td>1.87632</td>\n",
       "    </tr>\n",
       "  </tbody>\n",
       "</table>\n",
       "<p>5 rows × 44 columns</p>\n",
       "</div>"
      ],
      "text/plain": [
       "   imag_component  real_component  ace_imag  ace_real  ala_imag  ala_real  \\\n",
       "0       103.39270      267.478460   0.00000  3.100000  0.034923  2.769480   \n",
       "1       208.88067      475.039650  -1.59678  2.643850 -1.425420  2.328820   \n",
       "2       362.25272      321.308610  -2.71081  1.430540 -2.352400  1.147570   \n",
       "3       427.01000      128.034040  -3.02747 -0.162387 -2.426660 -0.310499   \n",
       "4       382.59452      -45.193075  -2.48820 -1.662300 -1.670910 -1.495770   \n",
       "\n",
       "   asc_imag  asc_real  asp_imag  asp_real    ...     naag_imag  naag_real  \\\n",
       "0  0.008175   3.83645 -0.070215  2.153580    ...     -0.224074    8.76237   \n",
       "1 -0.535391   3.75273 -0.743603  1.964530    ...     -3.729120    7.74945   \n",
       "2 -1.004860   3.55094 -1.264100  1.545000    ...     -6.319120    5.24486   \n",
       "3 -1.374670   3.29898 -1.561160  1.006050    ...     -7.413620    1.89018   \n",
       "4 -1.675670   3.05325 -1.641010  0.461769    ...     -6.829890   -1.49316   \n",
       "\n",
       "   pcho_imag  pcho_real  pcr_imag  pcr_real   pe_imag  pe_real      tau_imag  \\\n",
       "0  -0.000002   12.14190   0.00000   5.10000 -0.000055  3.01880 -3.000000e-07   \n",
       "1  -3.015710   11.70030  -1.27955   4.88867 -0.671965  2.93129 -1.041460e+00   \n",
       "2  -5.756960   10.46610  -2.40047   4.31520 -1.258190  2.66288 -1.954820e+00   \n",
       "3  -8.019600    8.59008  -3.26274   3.48772 -1.712500  2.28873 -2.667710e+00   \n",
       "4  -9.685960    6.25744  -3.83935   2.52442 -2.048340  1.87846 -3.172140e+00   \n",
       "\n",
       "   tau_real  \n",
       "0   3.92162  \n",
       "1   3.74859  \n",
       "2   3.28968  \n",
       "3   2.63528  \n",
       "4   1.87632  \n",
       "\n",
       "[5 rows x 44 columns]"
      ]
     },
     "execution_count": 157,
     "metadata": {},
     "output_type": "execute_result"
    }
   ],
   "source": [
    "df.head()"
   ]
  },
  {
   "cell_type": "code",
   "execution_count": 158,
   "metadata": {},
   "outputs": [
    {
     "data": {
      "text/html": [
       "<div>\n",
       "<style scoped>\n",
       "    .dataframe tbody tr th:only-of-type {\n",
       "        vertical-align: middle;\n",
       "    }\n",
       "\n",
       "    .dataframe tbody tr th {\n",
       "        vertical-align: top;\n",
       "    }\n",
       "\n",
       "    .dataframe thead th {\n",
       "        text-align: right;\n",
       "    }\n",
       "</style>\n",
       "<table border=\"1\" class=\"dataframe\">\n",
       "  <thead>\n",
       "    <tr style=\"text-align: right;\">\n",
       "      <th></th>\n",
       "      <th>imag_component</th>\n",
       "      <th>real_component</th>\n",
       "      <th>ace_imag</th>\n",
       "      <th>ace_real</th>\n",
       "      <th>ala_imag</th>\n",
       "      <th>ala_real</th>\n",
       "      <th>asc_imag</th>\n",
       "      <th>asc_real</th>\n",
       "      <th>asp_imag</th>\n",
       "      <th>asp_real</th>\n",
       "      <th>...</th>\n",
       "      <th>naag_imag</th>\n",
       "      <th>naag_real</th>\n",
       "      <th>pcho_imag</th>\n",
       "      <th>pcho_real</th>\n",
       "      <th>pcr_imag</th>\n",
       "      <th>pcr_real</th>\n",
       "      <th>pe_imag</th>\n",
       "      <th>pe_real</th>\n",
       "      <th>tau_imag</th>\n",
       "      <th>tau_real</th>\n",
       "    </tr>\n",
       "  </thead>\n",
       "  <tbody>\n",
       "    <tr>\n",
       "      <th>count</th>\n",
       "      <td>2048.000000</td>\n",
       "      <td>2048.000000</td>\n",
       "      <td>2048.000000</td>\n",
       "      <td>2048.000000</td>\n",
       "      <td>2048.000000</td>\n",
       "      <td>2048.000000</td>\n",
       "      <td>2048.000000</td>\n",
       "      <td>2048.000000</td>\n",
       "      <td>2048.000000</td>\n",
       "      <td>2048.000000</td>\n",
       "      <td>...</td>\n",
       "      <td>2048.000000</td>\n",
       "      <td>2048.000000</td>\n",
       "      <td>2048.000000</td>\n",
       "      <td>2048.000000</td>\n",
       "      <td>2048.000000</td>\n",
       "      <td>2048.000000</td>\n",
       "      <td>2048.000000</td>\n",
       "      <td>2048.000000</td>\n",
       "      <td>2048.000000</td>\n",
       "      <td>2048.000000</td>\n",
       "    </tr>\n",
       "    <tr>\n",
       "      <th>mean</th>\n",
       "      <td>0.888362</td>\n",
       "      <td>0.022842</td>\n",
       "      <td>-0.002747</td>\n",
       "      <td>0.000878</td>\n",
       "      <td>-0.002801</td>\n",
       "      <td>0.000771</td>\n",
       "      <td>-0.024353</td>\n",
       "      <td>0.002056</td>\n",
       "      <td>-0.004036</td>\n",
       "      <td>0.000645</td>\n",
       "      <td>...</td>\n",
       "      <td>-0.020442</td>\n",
       "      <td>-0.015210</td>\n",
       "      <td>-0.026423</td>\n",
       "      <td>0.003639</td>\n",
       "      <td>-0.011812</td>\n",
       "      <td>0.001788</td>\n",
       "      <td>-0.008142</td>\n",
       "      <td>0.000560</td>\n",
       "      <td>-0.007346</td>\n",
       "      <td>0.001000</td>\n",
       "    </tr>\n",
       "    <tr>\n",
       "      <th>std</th>\n",
       "      <td>20.312742</td>\n",
       "      <td>19.385899</td>\n",
       "      <td>0.836298</td>\n",
       "      <td>0.837712</td>\n",
       "      <td>0.527957</td>\n",
       "      <td>0.529806</td>\n",
       "      <td>0.428493</td>\n",
       "      <td>0.434801</td>\n",
       "      <td>0.216379</td>\n",
       "      <td>0.218922</td>\n",
       "      <td>...</td>\n",
       "      <td>0.966210</td>\n",
       "      <td>0.980368</td>\n",
       "      <td>2.524436</td>\n",
       "      <td>2.531886</td>\n",
       "      <td>1.004969</td>\n",
       "      <td>1.008287</td>\n",
       "      <td>0.291489</td>\n",
       "      <td>0.294802</td>\n",
       "      <td>0.434440</td>\n",
       "      <td>0.438984</td>\n",
       "    </tr>\n",
       "    <tr>\n",
       "      <th>min</th>\n",
       "      <td>-79.653652</td>\n",
       "      <td>-214.828250</td>\n",
       "      <td>-3.027470</td>\n",
       "      <td>-2.970990</td>\n",
       "      <td>-2.426660</td>\n",
       "      <td>-2.206440</td>\n",
       "      <td>-2.919780</td>\n",
       "      <td>-2.102230</td>\n",
       "      <td>-1.641010</td>\n",
       "      <td>-1.525520</td>\n",
       "      <td>...</td>\n",
       "      <td>-7.413620</td>\n",
       "      <td>-5.466440</td>\n",
       "      <td>-11.051500</td>\n",
       "      <td>-9.235690</td>\n",
       "      <td>-4.220290</td>\n",
       "      <td>-4.303890</td>\n",
       "      <td>-2.668320</td>\n",
       "      <td>-1.683720</td>\n",
       "      <td>-3.656880</td>\n",
       "      <td>-3.617810</td>\n",
       "    </tr>\n",
       "    <tr>\n",
       "      <th>25%</th>\n",
       "      <td>-3.272611</td>\n",
       "      <td>-3.555623</td>\n",
       "      <td>-0.322057</td>\n",
       "      <td>-0.319175</td>\n",
       "      <td>-0.178390</td>\n",
       "      <td>-0.176367</td>\n",
       "      <td>-0.120600</td>\n",
       "      <td>-0.109261</td>\n",
       "      <td>-0.068676</td>\n",
       "      <td>-0.066385</td>\n",
       "      <td>...</td>\n",
       "      <td>-0.335157</td>\n",
       "      <td>-0.325655</td>\n",
       "      <td>-0.984788</td>\n",
       "      <td>-0.985895</td>\n",
       "      <td>-0.328275</td>\n",
       "      <td>-0.329649</td>\n",
       "      <td>-0.074193</td>\n",
       "      <td>-0.077719</td>\n",
       "      <td>-0.064095</td>\n",
       "      <td>-0.066167</td>\n",
       "    </tr>\n",
       "    <tr>\n",
       "      <th>50%</th>\n",
       "      <td>0.203375</td>\n",
       "      <td>-0.032878</td>\n",
       "      <td>-0.000143</td>\n",
       "      <td>0.001086</td>\n",
       "      <td>-0.000985</td>\n",
       "      <td>-0.000642</td>\n",
       "      <td>0.000722</td>\n",
       "      <td>0.000665</td>\n",
       "      <td>0.001977</td>\n",
       "      <td>-0.000242</td>\n",
       "      <td>...</td>\n",
       "      <td>-0.014061</td>\n",
       "      <td>-0.002871</td>\n",
       "      <td>-0.014287</td>\n",
       "      <td>0.001951</td>\n",
       "      <td>-0.001874</td>\n",
       "      <td>0.001041</td>\n",
       "      <td>-0.001151</td>\n",
       "      <td>0.000276</td>\n",
       "      <td>-0.000173</td>\n",
       "      <td>-0.000353</td>\n",
       "    </tr>\n",
       "    <tr>\n",
       "      <th>75%</th>\n",
       "      <td>3.393012</td>\n",
       "      <td>3.135960</td>\n",
       "      <td>0.319927</td>\n",
       "      <td>0.324569</td>\n",
       "      <td>0.170996</td>\n",
       "      <td>0.172634</td>\n",
       "      <td>0.111238</td>\n",
       "      <td>0.123372</td>\n",
       "      <td>0.068849</td>\n",
       "      <td>0.065565</td>\n",
       "      <td>...</td>\n",
       "      <td>0.307591</td>\n",
       "      <td>0.299814</td>\n",
       "      <td>0.947504</td>\n",
       "      <td>0.975601</td>\n",
       "      <td>0.319130</td>\n",
       "      <td>0.328891</td>\n",
       "      <td>0.073650</td>\n",
       "      <td>0.075345</td>\n",
       "      <td>0.065186</td>\n",
       "      <td>0.067182</td>\n",
       "    </tr>\n",
       "    <tr>\n",
       "      <th>max</th>\n",
       "      <td>427.010000</td>\n",
       "      <td>475.039650</td>\n",
       "      <td>2.855430</td>\n",
       "      <td>3.100000</td>\n",
       "      <td>2.055490</td>\n",
       "      <td>2.769480</td>\n",
       "      <td>1.477380</td>\n",
       "      <td>3.836450</td>\n",
       "      <td>1.261670</td>\n",
       "      <td>2.153580</td>\n",
       "      <td>...</td>\n",
       "      <td>5.522700</td>\n",
       "      <td>8.762370</td>\n",
       "      <td>8.414550</td>\n",
       "      <td>12.141900</td>\n",
       "      <td>4.700240</td>\n",
       "      <td>5.100000</td>\n",
       "      <td>1.975330</td>\n",
       "      <td>3.018800</td>\n",
       "      <td>3.474780</td>\n",
       "      <td>3.921620</td>\n",
       "    </tr>\n",
       "  </tbody>\n",
       "</table>\n",
       "<p>8 rows × 44 columns</p>\n",
       "</div>"
      ],
      "text/plain": [
       "       imag_component  real_component     ace_imag     ace_real     ala_imag  \\\n",
       "count     2048.000000     2048.000000  2048.000000  2048.000000  2048.000000   \n",
       "mean         0.888362        0.022842    -0.002747     0.000878    -0.002801   \n",
       "std         20.312742       19.385899     0.836298     0.837712     0.527957   \n",
       "min        -79.653652     -214.828250    -3.027470    -2.970990    -2.426660   \n",
       "25%         -3.272611       -3.555623    -0.322057    -0.319175    -0.178390   \n",
       "50%          0.203375       -0.032878    -0.000143     0.001086    -0.000985   \n",
       "75%          3.393012        3.135960     0.319927     0.324569     0.170996   \n",
       "max        427.010000      475.039650     2.855430     3.100000     2.055490   \n",
       "\n",
       "          ala_real     asc_imag     asc_real     asp_imag     asp_real  \\\n",
       "count  2048.000000  2048.000000  2048.000000  2048.000000  2048.000000   \n",
       "mean      0.000771    -0.024353     0.002056    -0.004036     0.000645   \n",
       "std       0.529806     0.428493     0.434801     0.216379     0.218922   \n",
       "min      -2.206440    -2.919780    -2.102230    -1.641010    -1.525520   \n",
       "25%      -0.176367    -0.120600    -0.109261    -0.068676    -0.066385   \n",
       "50%      -0.000642     0.000722     0.000665     0.001977    -0.000242   \n",
       "75%       0.172634     0.111238     0.123372     0.068849     0.065565   \n",
       "max       2.769480     1.477380     3.836450     1.261670     2.153580   \n",
       "\n",
       "          ...         naag_imag    naag_real    pcho_imag    pcho_real  \\\n",
       "count     ...       2048.000000  2048.000000  2048.000000  2048.000000   \n",
       "mean      ...         -0.020442    -0.015210    -0.026423     0.003639   \n",
       "std       ...          0.966210     0.980368     2.524436     2.531886   \n",
       "min       ...         -7.413620    -5.466440   -11.051500    -9.235690   \n",
       "25%       ...         -0.335157    -0.325655    -0.984788    -0.985895   \n",
       "50%       ...         -0.014061    -0.002871    -0.014287     0.001951   \n",
       "75%       ...          0.307591     0.299814     0.947504     0.975601   \n",
       "max       ...          5.522700     8.762370     8.414550    12.141900   \n",
       "\n",
       "          pcr_imag     pcr_real      pe_imag      pe_real     tau_imag  \\\n",
       "count  2048.000000  2048.000000  2048.000000  2048.000000  2048.000000   \n",
       "mean     -0.011812     0.001788    -0.008142     0.000560    -0.007346   \n",
       "std       1.004969     1.008287     0.291489     0.294802     0.434440   \n",
       "min      -4.220290    -4.303890    -2.668320    -1.683720    -3.656880   \n",
       "25%      -0.328275    -0.329649    -0.074193    -0.077719    -0.064095   \n",
       "50%      -0.001874     0.001041    -0.001151     0.000276    -0.000173   \n",
       "75%       0.319130     0.328891     0.073650     0.075345     0.065186   \n",
       "max       4.700240     5.100000     1.975330     3.018800     3.474780   \n",
       "\n",
       "          tau_real  \n",
       "count  2048.000000  \n",
       "mean      0.001000  \n",
       "std       0.438984  \n",
       "min      -3.617810  \n",
       "25%      -0.066167  \n",
       "50%      -0.000353  \n",
       "75%       0.067182  \n",
       "max       3.921620  \n",
       "\n",
       "[8 rows x 44 columns]"
      ]
     },
     "execution_count": 158,
     "metadata": {},
     "output_type": "execute_result"
    }
   ],
   "source": [
    "df.describe()"
   ]
  },
  {
   "cell_type": "code",
   "execution_count": 159,
   "metadata": {},
   "outputs": [],
   "source": [
    "#Plots of the real part of FID Signals of selected metabolites\n",
    "#Notice it is decaying"
   ]
  },
  {
   "cell_type": "code",
   "execution_count": 160,
   "metadata": {},
   "outputs": [
    {
     "data": {
      "text/plain": [
       "[<matplotlib.lines.Line2D at 0x7f628b4c2668>]"
      ]
     },
     "execution_count": 160,
     "metadata": {},
     "output_type": "execute_result"
    },
    {
     "data": {
      "image/png": "[encoded data removed]",
      "text/plain": [
       "<Figure size 432x288 with 1 Axes>"
      ]
     },
     "metadata": {
      "needs_background": "light"
     },
     "output_type": "display_data"
    }
   ],
   "source": [
    "real_component_truncated = df.real_component[:256]\n",
    "plt.plot(real_component_truncated)"
   ]
  },
  {
   "cell_type": "code",
   "execution_count": 161,
   "metadata": {},
   "outputs": [
    {
     "data": {
      "text/plain": [
       "[<matplotlib.lines.Line2D at 0x7f628b49d6d8>]"
      ]
     },
     "execution_count": 161,
     "metadata": {},
     "output_type": "execute_result"
    },
    {
     "data": {
      "image/png": "[encoded data removed]",
      "text/plain": [
       "<Figure size 432x288 with 1 Axes>"
      ]
     },
     "metadata": {
      "needs_background": "light"
     },
     "output_type": "display_data"
    }
   ],
   "source": [
    "truncated_ace_real = df.ace_real[:256]\n",
    "plt.plot(truncated_ace_real)"
   ]
  },
  {
   "cell_type": "code",
   "execution_count": 162,
   "metadata": {},
   "outputs": [
    {
     "data": {
      "text/plain": [
       "[<matplotlib.lines.Line2D at 0x7f628b27d1d0>]"
      ]
     },
     "execution_count": 162,
     "metadata": {},
     "output_type": "execute_result"
    },
    {
     "data": {
      "image/png": "[encoded data removed]",
      "text/plain": [
       "<Figure size 432x288 with 1 Axes>"
      ]
     },
     "metadata": {
      "needs_background": "light"
     },
     "output_type": "display_data"
    }
   ],
   "source": [
    "truncated_tau_real = df.tau_real[:256]\n",
    "plt.plot(truncated_tau_real)"
   ]
  },
  {
   "cell_type": "code",
   "execution_count": 163,
   "metadata": {},
   "outputs": [
    {
     "data": {
      "text/plain": [
       "Index(['imag_component', 'real_component', 'ace_imag', 'ace_real', 'ala_imag',\n",
       "       'ala_real', 'asc_imag', 'asc_real', 'asp_imag', 'asp_real', 'cr_imag',\n",
       "       'cr_real', 'gaba_imag', 'gaba_real', 'glc_imag', 'glc_real', 'gln_imag',\n",
       "       'gln_real', 'glu_imag', 'glu_real', 'gly_imag', 'gly_real', 'gpc_imag',\n",
       "       'gpc_real', 'gsh_imag', 'gsh_real', 'ins_imag', 'ins_real', 'lac_imag',\n",
       "       'lac_real', 'mac_imag', 'mac_real', 'naa_imag', 'naa_real', 'naag_imag',\n",
       "       'naag_real', 'pcho_imag', 'pcho_real', 'pcr_imag', 'pcr_real',\n",
       "       'pe_imag', 'pe_real', 'tau_imag', 'tau_real'],\n",
       "      dtype='object')"
      ]
     },
     "execution_count": 163,
     "metadata": {},
     "output_type": "execute_result"
    }
   ],
   "source": [
    "df.columns"
   ]
  },
  {
   "cell_type": "code",
   "execution_count": 164,
   "metadata": {},
   "outputs": [],
   "source": [
    "def y_t(v_k):\n",
    "    return (np.random.normal(0,1)*np.exp(complex(0,1)*PHASE_SHIFT)*np.exp(-DAMPING_FACTOR + 2*np.pi*complex(0,1)*DELTA_FREQUENCY)*v_k)"
   ]
  },
  {
   "cell_type": "code",
   "execution_count": 165,
   "metadata": {},
   "outputs": [
    {
     "name": "stdout",
     "output_type": "stream",
     "text": [
      "Imaginary\n",
      "ace_real\n",
      "Imaginary\n",
      "ala_real\n",
      "Imaginary\n",
      "asc_real\n",
      "Imaginary\n",
      "asp_real\n",
      "Imaginary\n",
      "cr_real\n",
      "Imaginary\n",
      "gaba_real\n",
      "Imaginary\n",
      "glc_real\n",
      "Imaginary\n",
      "gln_real\n",
      "Imaginary\n",
      "glu_real\n",
      "Imaginary\n",
      "gly_real\n",
      "Imaginary\n",
      "gpc_real\n",
      "Imaginary\n",
      "gsh_real\n",
      "Imaginary\n",
      "ins_real\n",
      "Imaginary\n",
      "lac_real\n",
      "Imaginary\n",
      "mac_real\n",
      "Imaginary\n",
      "naa_real\n",
      "Imaginary\n",
      "naag_real\n",
      "Imaginary\n",
      "pcho_real\n",
      "Imaginary\n",
      "pcr_real\n",
      "Imaginary\n",
      "pe_real\n",
      "Imaginary\n",
      "tau_real\n"
     ]
    }
   ],
   "source": [
    "cols =df.columns[2:]\n",
    "for i in np.arange(len(cols)):\n",
    "    if i%2!=0:\n",
    "        print(cols[i])\n",
    "    else:\n",
    "        print(\"Imaginary\")"
   ]
  },
  {
   "cell_type": "code",
   "execution_count": null,
   "metadata": {},
   "outputs": [],
   "source": []
  },
  {
   "cell_type": "code",
   "execution_count": 134,
   "metadata": {},
   "outputs": [],
   "source": [
    "cols =df.columns[2:]\n",
    "def mrs_signal():\n",
    "    m_signal =[]\n",
    "    for i in np.arange(len(cols)):\n",
    "        if i%2!=0:\n",
    "            col = cols[i]\n",
    "            col_res =y_t(df[col])\n",
    "            m_signal.append(col_res)\n",
    "        else:\n",
    "            continue\n",
    "    return np.sum(np.asarray(m_signal))"
   ]
  },
  {
   "cell_type": "code",
   "execution_count": 139,
   "metadata": {},
   "outputs": [
    {
     "data": {
      "text/plain": [
       "(-0.00023619934247234828-0.0007269468278188288j)"
      ]
     },
     "execution_count": 139,
     "metadata": {},
     "output_type": "execute_result"
    }
   ],
   "source": [
    "mrs_signal()"
   ]
  },
  {
   "cell_type": "code",
   "execution_count": 166,
   "metadata": {},
   "outputs": [],
   "source": [
    "def y_d():\n",
    "    y_d = mrs_signal() + df.mac_real + np.random.normal(0.0,1.0)\n",
    "    return (y_d)"
   ]
  },
  {
   "cell_type": "code",
   "execution_count": 167,
   "metadata": {},
   "outputs": [
    {
     "data": {
      "text/plain": [
       "2048"
      ]
     },
     "execution_count": 167,
     "metadata": {},
     "output_type": "execute_result"
    }
   ],
   "source": [
    "y=y_t(df.ace_real)\n",
    "b_m=y.real\n",
    "len(b_m)"
   ]
  },
  {
   "cell_type": "code",
   "execution_count": 168,
   "metadata": {},
   "outputs": [
    {
     "data": {
      "text/plain": [
       "0         (20.072745403558383+0.002334211854638746j)\n",
       "1          (34.80484540355838+0.002334211854638746j)\n",
       "2         (21.270445403558384+0.002334211854638746j)\n",
       "3          (4.244395403558382+0.002334211854638746j)\n",
       "4        (-10.845254596441617+0.002334211854638746j)\n",
       "5        (-19.778354596441616+0.002334211854638746j)\n",
       "6        (-20.907954596441616+0.002334211854638746j)\n",
       "7        (-15.450654596441618+0.002334211854638746j)\n",
       "8        (-6.6385645964416184+0.002334211854638746j)\n",
       "9          (1.726175403558382+0.002334211854638746j)\n",
       "10         (6.790995403558382+0.002334211854638746j)\n",
       "11        (7.5100854035583815+0.002334211854638746j)\n",
       "12         (4.681765403558382+0.002334211854638746j)\n",
       "13       (0.23969240355838217+0.002334211854638746j)\n",
       "14        (-3.757154596441618+0.002334211854638746j)\n",
       "15        (-5.983474596441618+0.002334211854638746j)\n",
       "16        (-6.215574596441618+0.002334211854638746j)\n",
       "17        (-5.139424596441618+0.002334211854638746j)\n",
       "18       (-3.7922345964416184+0.002334211854638746j)\n",
       "19       (-2.9631745964416183+0.002334211854638746j)\n",
       "20        (-2.834664596441618+0.002334211854638746j)\n",
       "21        (-3.006184596441618+0.002334211854638746j)\n",
       "22        (-2.844404596441618+0.002334211854638746j)\n",
       "23       (-1.9206245964416178+0.002334211854638746j)\n",
       "24       (-0.3124335964416178+0.002334211854638746j)\n",
       "25        (1.4082854035583823+0.002334211854638746j)\n",
       "26         (2.474035403558382+0.002334211854638746j)\n",
       "27         (2.345895403558382+0.002334211854638746j)\n",
       "28        (1.0298714035583822+0.002334211854638746j)\n",
       "29       (-0.8883515964416179+0.002334211854638746j)\n",
       "                            ...                     \n",
       "2018    (0.035213903558382185+0.002334211854638746j)\n",
       "2019    (0.033231103558382186+0.002334211854638746j)\n",
       "2020    (0.029693103558382183+0.002334211854638746j)\n",
       "2021    (0.027295403558382184+0.002334211854638746j)\n",
       "2022    (0.027913703558382182+0.002334211854638746j)\n",
       "2023    (0.031166603558382182+0.002334211854638746j)\n",
       "2024     (0.03468560355838218+0.002334211854638746j)\n",
       "2025     (0.03588580355838218+0.002334211854638746j)\n",
       "2026     (0.03390060355838218+0.002334211854638746j)\n",
       "2027    (0.030219503558382182+0.002334211854638746j)\n",
       "2028    (0.027553503558382184+0.002334211854638746j)\n",
       "2029    (0.027793703558382184+0.002334211854638746j)\n",
       "2030    (0.030607503558382182+0.002334211854638746j)\n",
       "2031    (0.033726703558382184+0.002334211854638746j)\n",
       "2032    (0.034700903558382186+0.002334211854638746j)\n",
       "2033     (0.03277510355838218+0.002334211854638746j)\n",
       "2034     (0.02946370355838218+0.002334211854638746j)\n",
       "2035     (0.02738690355838218+0.002334211854638746j)\n",
       "2036    (0.028257503558382184+0.002334211854638746j)\n",
       "2037    (0.031547703558382184+0.002334211854638746j)\n",
       "2038     (0.03485910355838218+0.002334211854638746j)\n",
       "2039    (0.035720103558382184+0.002334211854638746j)\n",
       "2040     (0.03345850355838218+0.002334211854638746j)\n",
       "2041    (0.029730003558382182+0.002334211854638746j)\n",
       "2042    (0.027296703558382183+0.002334211854638746j)\n",
       "2043    (0.027969703558382183+0.002334211854638746j)\n",
       "2044    (0.031259603558382185+0.002334211854638746j)\n",
       "2045    (0.034746503558382186+0.002334211854638746j)\n",
       "2046     (0.03588900355838218+0.002334211854638746j)\n",
       "2047     (0.03391380355838218+0.002334211854638746j)\n",
       "Name: mac_real, Length: 2048, dtype: complex128"
      ]
     },
     "execution_count": 168,
     "metadata": {},
     "output_type": "execute_result"
    }
   ],
   "source": [
    "y=y_d()\n",
    "y"
   ]
  },
  {
   "cell_type": "code",
   "execution_count": 169,
   "metadata": {},
   "outputs": [
    {
     "data": {
      "text/plain": [
       "[<matplotlib.lines.Line2D at 0x7f628b2617f0>]"
      ]
     },
     "execution_count": 169,
     "metadata": {},
     "output_type": "execute_result"
    },
    {
     "data": {
      "image/png": "[encoded data removed]",
      "text/plain": [
       "<Figure size 432x288 with 1 Axes>"
      ]
     },
     "metadata": {
      "needs_background": "light"
     },
     "output_type": "display_data"
    }
   ],
   "source": [
    "plt.plot(y.real[:256])"
   ]
  },
  {
   "cell_type": "code",
   "execution_count": null,
   "metadata": {},
   "outputs": [],
   "source": [
    "X = tf.placeholder(dtype =tf.float32, shape =(None,2048))\n",
    "X= y_d()"
   ]
  },
  {
   "cell_type": "code",
   "execution_count": 170,
   "metadata": {},
   "outputs": [
    {
     "ename": "NameError",
     "evalue": "name 'tf' is not defined",
     "output_type": "error",
     "traceback": [
      "\u001b[0;31m---------------------------------------------------------------------------\u001b[0m",
      "\u001b[0;31mNameError\u001b[0m                                 Traceback (most recent call last)",
      "\u001b[0;32m<ipython-input-170-b9be06fb3f85>\u001b[0m in \u001b[0;36m<module>\u001b[0;34m\u001b[0m\n\u001b[0;32m----> 1\u001b[0;31m \u001b[0mX\u001b[0m \u001b[0;34m=\u001b[0m \u001b[0mtf\u001b[0m\u001b[0;34m.\u001b[0m\u001b[0mplaceholder\u001b[0m\u001b[0;34m(\u001b[0m\u001b[0mdtype\u001b[0m \u001b[0;34m=\u001b[0m\u001b[0mtf\u001b[0m\u001b[0;34m.\u001b[0m\u001b[0mfloat32\u001b[0m\u001b[0;34m,\u001b[0m \u001b[0mshape\u001b[0m \u001b[0;34m=\u001b[0m\u001b[0;34m(\u001b[0m\u001b[0;32mNone\u001b[0m\u001b[0;34m,\u001b[0m\u001b[0;36m2048\u001b[0m\u001b[0;34m)\u001b[0m\u001b[0;34m)\u001b[0m\u001b[0;34m\u001b[0m\u001b[0m\n\u001b[0m\u001b[1;32m      2\u001b[0m \u001b[0mX\u001b[0m\u001b[0;34m=\u001b[0m \u001b[0my_d\u001b[0m\u001b[0;34m(\u001b[0m\u001b[0;34m)\u001b[0m\u001b[0;34m\u001b[0m\u001b[0m\n\u001b[1;32m      3\u001b[0m \u001b[0;32mdef\u001b[0m \u001b[0mget_model\u001b[0m\u001b[0;34m(\u001b[0m\u001b[0;34m)\u001b[0m\u001b[0;34m:\u001b[0m\u001b[0;34m\u001b[0m\u001b[0m\n\u001b[1;32m      4\u001b[0m     \u001b[0mmodel\u001b[0m \u001b[0;34m=\u001b[0m \u001b[0mSequential\u001b[0m\u001b[0;34m(\u001b[0m\u001b[0;34m)\u001b[0m\u001b[0;34m\u001b[0m\u001b[0m\n\u001b[1;32m      5\u001b[0m     \u001b[0mmodel\u001b[0m\u001b[0;34m.\u001b[0m\u001b[0madd\u001b[0m\u001b[0;34m(\u001b[0m\u001b[0mInputLayer\u001b[0m\u001b[0;34m(\u001b[0m\u001b[0minput_tensor\u001b[0m\u001b[0;34m=\u001b[0m\u001b[0mX\u001b[0m\u001b[0;34m,\u001b[0m \u001b[0minput_shape\u001b[0m\u001b[0;34m=\u001b[0m\u001b[0;34m(\u001b[0m\u001b[0;36m2048\u001b[0m\u001b[0;34m,\u001b[0m\u001b[0;34m)\u001b[0m\u001b[0;34m)\u001b[0m\u001b[0;34m)\u001b[0m\u001b[0;34m\u001b[0m\u001b[0m\n",
      "\u001b[0;31mNameError\u001b[0m: name 'tf' is not defined"
     ]
    }
   ],
   "source": [
    "def get_model():\n",
    "    model = Sequential()\n",
    "    model.add(InputLayer(input_tensor=X, input_shape=(2048,)))\n",
    "    model.add(Conv2D(16, (2, 2)))\n",
    "    model.add(MaxPooling2D(pool_size=(2, 2)))\n",
    "    model.add(Conv2D(32, (3, 3)))\n",
    "    model.add(Activation('crelu'))\n",
    "    \n",
    "    model.add(MaxPooling2D(pool_size=(2, 2)))\n",
    "    model.add(Conv2D(64, (3, 3)))\n",
    "    model.add(Activation('crelu'))\n",
    "\n",
    "    model.add(MaxPooling2D(pool_size=(2, 2)))\n",
    "    model.add(Conv2D(128, (3, 3)))\n",
    "    model.add(Activation('crelu'))\n",
    "    model.add(MaxPooling2D(pool_size=(2, 2)))\n",
    "    model.add(Flatten())  # this converts our 3D feature maps to 1D feature vectors\n",
    "    model.add(Dense(21))\n",
    "    model.add(Activation('linear'))\n",
    "\n",
    "    model.compile(loss='mean_squared_error',\n",
    "                optimizer='sgd',\n",
    "                metrics=['accuracy'])\n",
    "    return model"
   ]
  },
  {
   "cell_type": "code",
   "execution_count": null,
   "metadata": {},
   "outputs": [],
   "source": []
  }
 ],
 "metadata": {
  "kernelspec": {
   "display_name": "Python 3",
   "language": "python",
   "name": "python3"
  },
  "language_info": {
   "codemirror_mode": {
    "name": "ipython",
    "version": 3
   },
   "file_extension": ".py",
   "mimetype": "text/x-python",
   "name": "python",
   "nbconvert_exporter": "python",
   "pygments_lexer": "ipython3",
   "version": "3.6.6"
  }
 },
 "nbformat": 4,
 "nbformat_minor": 2
}
