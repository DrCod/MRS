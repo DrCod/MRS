{
 "cells": [
  {
   "cell_type": "code",
   "execution_count": 2,
   "metadata": {},
   "outputs": [
    {
     "name": "stderr",
     "output_type": "stream",
     "text": [
      "Using TensorFlow backend.\n"
     ]
    }
   ],
   "source": [
    "import os\n",
    "import numpy as np\n",
    "from keras.models import Sequential\n",
    "from keras.layers import Dense,Activation, Flatten\n",
    "from keras.layers import Conv2D, MaxPooling2D,SeparableConv2D,Conv1D, MaxPooling1D,SeparableConv1D\n",
    "from keras.layers import Dense\n",
    "from keras.wrappers.scikit_learn import KerasClassifier\n",
    "from sklearn.model_selection import cross_val_score\n",
    "from sklearn.model_selection import KFold\n",
    "from sklearn.model_selection import train_test_split\n",
    "%matplotlib inline\n",
    "import matplotlib.pyplot as plt\n",
    "from keras.callbacks import EarlyStopping"
   ]
  },
  {
   "cell_type": "code",
   "execution_count": 3,
   "metadata": {},
   "outputs": [],
   "source": [
    "DATASETS_DIR = \"../datasets_text/\"\n",
    "BASE_DIR =\"../\""
   ]
  },
  {
   "cell_type": "code",
   "execution_count": 4,
   "metadata": {},
   "outputs": [],
   "source": [
    "## ALL IMPORTANT FUNCTIONS\n",
    "##--basis sets generation functioin\n",
    "def generate_basis_sets(basis_path):\n",
    "    generated_basis_sets =np.zeros((2048,22),dtype=complex)\n",
    "    for i,m in enumerate(os.listdir(basis_path)):\n",
    "        with open(os.path.join(METABOLITES_DIR,m)) as f:\n",
    "            j=0\n",
    "            for line in f.readlines()[22:]:\n",
    "                line =line.strip()\n",
    "                if line:\n",
    "                    data =line.split()\n",
    "                    m_real,m_imag = data[0],data[1]\n",
    "                    m_sig =complex(float(m_real),float(m_imag))\n",
    "                    generated_basis_sets[j,i] =m_sig\n",
    "                j=j+1\n",
    "        f.close()\n",
    "    return np.asarray(generated_basis_sets)\n",
    "\n",
    "##--mrs signals generation function\n",
    "def generate_data(data_list):\n",
    "    generated_data =np.zeros((2048,28),dtype=complex)\n",
    "    for i,fname in enumerate(data_list):\n",
    "        with open(os.path.join(DATASETS_DIR,fname)) as f:\n",
    "            j=0\n",
    "            for line in f:\n",
    "                line = line.strip()\n",
    "                if line:\n",
    "                    data = line.split()\n",
    "                    real_part = data[0]\n",
    "                    imag_part =data[1]\n",
    "                    complex_signal = complex(float(real_part),float(imag_part))\n",
    "                    generated_data[j,i]=complex_signal\n",
    "                j = j+1\n",
    "        f.close()\n",
    "    return generated_data\n",
    "\n",
    "##--fourier transformation function\n",
    "def td_2_fd(samples):\n",
    "    f_domain = []\n",
    "    for a in np.arange(samples.shape[1]):\n",
    "        fft_data =np.fft.fft(samples[:,a])\n",
    "        f_domain.append(fft_data)\n",
    "    return np.asarray(f_domain)\n",
    "\n",
    "##-- normalization function of the amplitudes\n",
    "def normalize_ffts(ffts):\n",
    "    for i in np.arange(ffts.shape[1]):\n",
    "        ffts[:,i] -= ffts[:,i].mean()\n",
    "        ffts[:,i] /= ffts.std()\n",
    "    return ffts\n",
    "\n",
    "## generating fake concentrations of my simulated datasets\n",
    "def fake_concentrations():\n",
    "    concentrations = np.zeros((22,28), dtype=float)\n",
    "    for i in np.arange(22):\n",
    "        for j in np.arange(28):\n",
    "            concentrations[i,j] = np.random.choice(10)\n",
    "    return concentrations"
   ]
  },
  {
   "cell_type": "code",
   "execution_count": 5,
   "metadata": {},
   "outputs": [
    {
     "data": {
      "text/plain": [
       "(2048, 22)"
      ]
     },
     "execution_count": 5,
     "metadata": {},
     "output_type": "execute_result"
    }
   ],
   "source": [
    "# metabolite basis sets\n",
    "METABOLITES_DIR =\"../basis_sets/\"\n",
    "bm = generate_basis_sets(METABOLITES_DIR)\n",
    "bm_ffts  = td_2_fd(bm)\n",
    "bm_ffts = bm_ffts.T\n",
    "Y = normalize_ffts(bm_ffts)\n",
    "Y.shape"
   ]
  },
  {
   "cell_type": "code",
   "execution_count": 6,
   "metadata": {},
   "outputs": [
    {
     "name": "stderr",
     "output_type": "stream",
     "text": [
      "/home/dronny/anaconda3/envs/tensorflow/lib/python3.6/site-packages/numpy/core/numeric.py:492: ComplexWarning: Casting complex values to real discards the imaginary part\n",
      "  return array(a, dtype, copy=False, order=order)\n"
     ]
    },
    {
     "data": {
      "text/plain": [
       "[<matplotlib.lines.Line2D at 0x7f403f01c908>,\n",
       " <matplotlib.lines.Line2D at 0x7f403f01cb00>,\n",
       " <matplotlib.lines.Line2D at 0x7f403f01cc50>,\n",
       " <matplotlib.lines.Line2D at 0x7f403f01cda0>]"
      ]
     },
     "execution_count": 6,
     "metadata": {},
     "output_type": "execute_result"
    },
    {
     "data": {
      "image/png": "[encoded data removed]",
      "text/plain": [
       "<Figure size 432x288 with 1 Axes>"
      ]
     },
     "metadata": {
      "needs_background": "light"
     },
     "output_type": "display_data"
    }
   ],
   "source": [
    "plt.plot(Y[:,1:5])"
   ]
  },
  {
   "cell_type": "code",
   "execution_count": 7,
   "metadata": {},
   "outputs": [
    {
     "data": {
      "text/plain": [
       "(2048, 28)"
      ]
     },
     "execution_count": 7,
     "metadata": {},
     "output_type": "execute_result"
    }
   ],
   "source": [
    "# mrs signal samples\n",
    "datasets = os.listdir(DATASETS_DIR)\n",
    "del datasets[1]\n",
    "samples = generate_data(datasets)\n",
    "samples_ffts  = td_2_fd(samples)\n",
    "samples_ffts = samples_ffts.T\n",
    "X = normalize_ffts(samples_ffts)\n",
    "X.shape"
   ]
  },
  {
   "cell_type": "code",
   "execution_count": 8,
   "metadata": {},
   "outputs": [
    {
     "data": {
      "text/plain": [
       "[<matplotlib.lines.Line2D at 0x7f403cf745c0>,\n",
       " <matplotlib.lines.Line2D at 0x7f403cf74710>,\n",
       " <matplotlib.lines.Line2D at 0x7f403cf74860>,\n",
       " <matplotlib.lines.Line2D at 0x7f403cf749b0>]"
      ]
     },
     "execution_count": 8,
     "metadata": {},
     "output_type": "execute_result"
    },
    {
     "data": {
      "image/png": "[encoded data removed]",
      "text/plain": [
       "<Figure size 432x288 with 1 Axes>"
      ]
     },
     "metadata": {
      "needs_background": "light"
     },
     "output_type": "display_data"
    }
   ],
   "source": [
    "plt.plot(X[:,1:5])"
   ]
  },
  {
   "cell_type": "code",
   "execution_count": 9,
   "metadata": {},
   "outputs": [],
   "source": [
    "from keras import backend as K\n",
    "K.set_image_dim_ordering('th')\n",
    "\n",
    "def get_model():\n",
    "    model = Sequential()\n",
    "    model.add(Conv1D(16, (2,),input_shape=(2048,1)))\n",
    "    model.add(Activation('relu'))\n",
    "    model.add(MaxPooling1D(pool_size=2))\n",
    "    \n",
    "    model.add(Conv1D(32, (3,)))\n",
    "    model.add(Activation('relu'))\n",
    "    model.add(MaxPooling1D(pool_size=2))\n",
    "    \n",
    "    model.add(Conv1D(64, (3,)))\n",
    "    model.add(Activation('relu'))\n",
    "    model.add(MaxPooling1D(pool_size=2))\n",
    "    \n",
    "    model.add(Conv1D(128, (3,)))\n",
    "    model.add(Activation('relu'))\n",
    "    model.add(MaxPooling1D(pool_size=2))\n",
    "    \n",
    "    model.add(Flatten())\n",
    "    model.add(Dense(22))\n",
    "    \n",
    "    model.compile(loss='mean_squared_error',\n",
    "                optimizer='Adam',\n",
    "                metrics=['accuracy'])\n",
    "    return model"
   ]
  },
  {
   "cell_type": "code",
   "execution_count": 10,
   "metadata": {},
   "outputs": [],
   "source": [
    "def get_model_2():\n",
    "    model_2 = Sequential()\n",
    "    model_2.add(SeparableConv1D(16, (2,),input_shape=(2048,1)))\n",
    "    model_2.add(Activation('relu'))\n",
    "    model_2.add(MaxPooling1D(pool_size=2))\n",
    "    \n",
    "    model_2.add(SeparableConv1D(32, (3,)))\n",
    "    model_2.add(Activation('relu'))\n",
    "    model_2.add(MaxPooling1D(pool_size=2))\n",
    "    \n",
    "    model_2.add(SeparableConv1D(64, (3,)))\n",
    "    model_2.add(Activation('relu'))\n",
    "    model_2.add(MaxPooling1D(pool_size=2))\n",
    "    \n",
    "    model_2.add(SeparableConv1D(128, (3,)))\n",
    "    model_2.add(Activation('relu'))\n",
    "    model_2.add(MaxPooling1D(pool_size=2))\n",
    "    \n",
    "    model_2.add(Flatten())\n",
    "    model_2.add(Dense(22))\n",
    "    \n",
    "    model_2.compile(loss='mean_squared_error',\n",
    "                optimizer='Adam',\n",
    "                metrics=['accuracy'])\n",
    "    return model_2"
   ]
  },
  {
   "cell_type": "code",
   "execution_count": 11,
   "metadata": {},
   "outputs": [
    {
     "data": {
      "text/plain": [
       "(22, 2048, 1)"
      ]
     },
     "execution_count": 11,
     "metadata": {},
     "output_type": "execute_result"
    }
   ],
   "source": [
    "##Data splitting\n",
    "## 80% training -- 20% testing\n",
    "\n",
    "X_train ,X_test = train_test_split(X.T,test_size =0.2, random_state =10)\n",
    "\n",
    "X_train = np.reshape(X_train, (X_train.shape[0],X_train.shape[1],1))\n",
    "X_test = np.reshape(X_test, (X_test.shape[0],X_test.shape[1],1))\n",
    "#Y_test = np.reshape(Y_test, (Y_test.shape[0],Y_test.shape[1], 1))\n",
    "\n",
    "X_train.shape"
   ]
  },
  {
   "cell_type": "code",
   "execution_count": 12,
   "metadata": {},
   "outputs": [
    {
     "data": {
      "text/plain": [
       "((22, 22), (6, 22))"
      ]
     },
     "execution_count": 12,
     "metadata": {},
     "output_type": "execute_result"
    }
   ],
   "source": [
    "concs =fake_concentrations()\n",
    "Y_train ,Y_test = train_test_split(concs.T,test_size =0.2, random_state =10)\n",
    "Y_train.shape, Y_test.shape"
   ]
  },
  {
   "cell_type": "code",
   "execution_count": 13,
   "metadata": {},
   "outputs": [
    {
     "name": "stdout",
     "output_type": "stream",
     "text": [
      "Train on 17 samples, validate on 5 samples\n",
      "Epoch 1/50\n",
      "17/17 [==============================] - 1s 72ms/step - loss: 26.7964 - acc: 0.0588 - val_loss: 27.5138 - val_acc: 0.0000e+00\n",
      "Epoch 2/50\n",
      "17/17 [==============================] - 0s 4ms/step - loss: 22.9712 - acc: 0.0588 - val_loss: 23.4351 - val_acc: 0.0000e+00\n",
      "Epoch 3/50\n",
      "17/17 [==============================] - 0s 3ms/step - loss: 19.4524 - acc: 0.0588 - val_loss: 18.8488 - val_acc: 0.0000e+00\n",
      "Epoch 4/50\n",
      "17/17 [==============================] - 0s 3ms/step - loss: 16.9275 - acc: 0.0000e+00 - val_loss: 15.0111 - val_acc: 0.0000e+00\n",
      "Epoch 5/50\n",
      "17/17 [==============================] - 0s 4ms/step - loss: 16.8846 - acc: 0.0000e+00 - val_loss: 13.9261 - val_acc: 0.0000e+00\n",
      "Epoch 6/50\n",
      "17/17 [==============================] - 0s 4ms/step - loss: 16.9835 - acc: 0.0588 - val_loss: 14.0661 - val_acc: 0.0000e+00\n",
      "Epoch 7/50\n",
      "17/17 [==============================] - 0s 4ms/step - loss: 15.7276 - acc: 0.0588 - val_loss: 14.6327 - val_acc: 0.0000e+00\n",
      "Epoch 8/50\n",
      "17/17 [==============================] - 0s 4ms/step - loss: 14.3191 - acc: 0.0588 - val_loss: 15.2973 - val_acc: 0.0000e+00\n"
     ]
    }
   ],
   "source": [
    "early_stopping_monitor = EarlyStopping(patience=3)\n",
    "model = get_model()\n",
    "history =model.fit(X_train,Y_train, epochs=50,validation_split =0.2,callbacks=[early_stopping_monitor])"
   ]
  },
  {
   "cell_type": "code",
   "execution_count": 14,
   "metadata": {},
   "outputs": [
    {
     "data": {
      "image/png": "[encoded data removed]",
      "text/plain": [
       "<Figure size 432x288 with 1 Axes>"
      ]
     },
     "metadata": {
      "needs_background": "light"
     },
     "output_type": "display_data"
    },
    {
     "data": {
      "text/plain": [
       "<Figure size 432x288 with 0 Axes>"
      ]
     },
     "metadata": {},
     "output_type": "display_data"
    }
   ],
   "source": [
    "# summarize history for loss\n",
    "plt.plot(history.history['loss'])\n",
    "plt.plot(history.history['val_loss'])\n",
    "plt.title('model loss')\n",
    "plt.ylabel('loss')\n",
    "plt.xlabel('epoch')\n",
    "plt.legend(['train', 'test'], loc='upper right')\n",
    "plt.show()\n",
    "plt.savefig('model_loss_50epochs.png')"
   ]
  },
  {
   "cell_type": "code",
   "execution_count": 15,
   "metadata": {},
   "outputs": [
    {
     "name": "stdout",
     "output_type": "stream",
     "text": [
      "_________________________________________________________________\n",
      "Layer (type)                 Output Shape              Param #   \n",
      "=================================================================\n",
      "conv1d_5 (Conv1D)            (None, 2047, 16)          48        \n",
      "_________________________________________________________________\n",
      "activation_5 (Activation)    (None, 2047, 16)          0         \n",
      "_________________________________________________________________\n",
      "max_pooling1d_5 (MaxPooling1 (None, 1023, 16)          0         \n",
      "_________________________________________________________________\n",
      "conv1d_6 (Conv1D)            (None, 1021, 32)          1568      \n",
      "_________________________________________________________________\n",
      "activation_6 (Activation)    (None, 1021, 32)          0         \n",
      "_________________________________________________________________\n",
      "max_pooling1d_6 (MaxPooling1 (None, 510, 32)           0         \n",
      "_________________________________________________________________\n",
      "conv1d_7 (Conv1D)            (None, 508, 64)           6208      \n",
      "_________________________________________________________________\n",
      "activation_7 (Activation)    (None, 508, 64)           0         \n",
      "_________________________________________________________________\n",
      "max_pooling1d_7 (MaxPooling1 (None, 254, 64)           0         \n",
      "_________________________________________________________________\n",
      "conv1d_8 (Conv1D)            (None, 252, 128)          24704     \n",
      "_________________________________________________________________\n",
      "activation_8 (Activation)    (None, 252, 128)          0         \n",
      "_________________________________________________________________\n",
      "max_pooling1d_8 (MaxPooling1 (None, 126, 128)          0         \n",
      "_________________________________________________________________\n",
      "flatten_2 (Flatten)          (None, 16128)             0         \n",
      "_________________________________________________________________\n",
      "dense_2 (Dense)              (None, 22)                354838    \n",
      "=================================================================\n",
      "Total params: 387,366\n",
      "Trainable params: 387,366\n",
      "Non-trainable params: 0\n",
      "_________________________________________________________________\n"
     ]
    }
   ],
   "source": [
    "firstModel = get_model()\n",
    "firstModel.summary()"
   ]
  },
  {
   "cell_type": "code",
   "execution_count": 30,
   "metadata": {},
   "outputs": [
    {
     "data": {
      "text/plain": [
       "[<matplotlib.lines.Line2D at 0x7f402e0b46a0>]"
      ]
     },
     "execution_count": 30,
     "metadata": {},
     "output_type": "execute_result"
    },
    {
     "data": {
      "image/png": "[encoded data removed]",
      "text/plain": [
       "<Figure size 432x288 with 1 Axes>"
      ]
     },
     "metadata": {
      "needs_background": "light"
     },
     "output_type": "display_data"
    }
   ],
   "source": [
    "# testing model i\n",
    "# using cross validation\n",
    "y_pred = model.predict(X_test)\n",
    "plt.plot(y_pred[1,:])\n",
    "plt.plot(Y_test[1,:])"
   ]
  },
  {
   "cell_type": "code",
   "execution_count": 17,
   "metadata": {},
   "outputs": [
    {
     "name": "stdout",
     "output_type": "stream",
     "text": [
      "_________________________________________________________________\n",
      "Layer (type)                 Output Shape              Param #   \n",
      "=================================================================\n",
      "separable_conv1d_1 (Separabl (None, 2047, 16)          34        \n",
      "_________________________________________________________________\n",
      "activation_9 (Activation)    (None, 2047, 16)          0         \n",
      "_________________________________________________________________\n",
      "max_pooling1d_9 (MaxPooling1 (None, 1023, 16)          0         \n",
      "_________________________________________________________________\n",
      "separable_conv1d_2 (Separabl (None, 1021, 32)          592       \n",
      "_________________________________________________________________\n",
      "activation_10 (Activation)   (None, 1021, 32)          0         \n",
      "_________________________________________________________________\n",
      "max_pooling1d_10 (MaxPooling (None, 510, 32)           0         \n",
      "_________________________________________________________________\n",
      "separable_conv1d_3 (Separabl (None, 508, 64)           2208      \n",
      "_________________________________________________________________\n",
      "activation_11 (Activation)   (None, 508, 64)           0         \n",
      "_________________________________________________________________\n",
      "max_pooling1d_11 (MaxPooling (None, 254, 64)           0         \n",
      "_________________________________________________________________\n",
      "separable_conv1d_4 (Separabl (None, 252, 128)          8512      \n",
      "_________________________________________________________________\n",
      "activation_12 (Activation)   (None, 252, 128)          0         \n",
      "_________________________________________________________________\n",
      "max_pooling1d_12 (MaxPooling (None, 126, 128)          0         \n",
      "_________________________________________________________________\n",
      "flatten_3 (Flatten)          (None, 16128)             0         \n",
      "_________________________________________________________________\n",
      "dense_3 (Dense)              (None, 22)                354838    \n",
      "=================================================================\n",
      "Total params: 366,184\n",
      "Trainable params: 366,184\n",
      "Non-trainable params: 0\n",
      "_________________________________________________________________\n"
     ]
    }
   ],
   "source": [
    "secondModel = get_model_2()\n",
    "secondModel.summary()"
   ]
  },
  {
   "cell_type": "code",
   "execution_count": 18,
   "metadata": {},
   "outputs": [
    {
     "name": "stdout",
     "output_type": "stream",
     "text": [
      "Train on 17 samples, validate on 5 samples\n",
      "Epoch 1/50\n",
      "17/17 [==============================] - 1s 40ms/step - loss: 26.7218 - acc: 0.0588 - val_loss: 30.9296 - val_acc: 0.2000\n",
      "Epoch 2/50\n",
      "17/17 [==============================] - 0s 4ms/step - loss: 26.5522 - acc: 0.1765 - val_loss: 30.6215 - val_acc: 0.0000e+00\n",
      "Epoch 3/50\n",
      "17/17 [==============================] - 0s 4ms/step - loss: 26.2614 - acc: 0.2353 - val_loss: 30.1205 - val_acc: 0.0000e+00\n",
      "Epoch 4/50\n",
      "17/17 [==============================] - 0s 3ms/step - loss: 25.7960 - acc: 0.1765 - val_loss: 29.3969 - val_acc: 0.0000e+00\n",
      "Epoch 5/50\n",
      "17/17 [==============================] - 0s 4ms/step - loss: 25.1302 - acc: 0.1765 - val_loss: 28.4396 - val_acc: 0.0000e+00\n",
      "Epoch 6/50\n",
      "17/17 [==============================] - 0s 3ms/step - loss: 24.2561 - acc: 0.1176 - val_loss: 27.2407 - val_acc: 0.0000e+00\n",
      "Epoch 7/50\n",
      "17/17 [==============================] - 0s 4ms/step - loss: 23.1690 - acc: 0.0588 - val_loss: 25.7986 - val_acc: 0.0000e+00\n",
      "Epoch 8/50\n",
      "17/17 [==============================] - 0s 4ms/step - loss: 21.8714 - acc: 0.0588 - val_loss: 24.1201 - val_acc: 0.0000e+00\n",
      "Epoch 9/50\n",
      "17/17 [==============================] - 0s 4ms/step - loss: 20.3748 - acc: 0.0588 - val_loss: 22.2246 - val_acc: 0.0000e+00\n",
      "Epoch 10/50\n",
      "17/17 [==============================] - 0s 4ms/step - loss: 18.7032 - acc: 0.0588 - val_loss: 20.1509 - val_acc: 0.0000e+00\n",
      "Epoch 11/50\n",
      "17/17 [==============================] - 0s 4ms/step - loss: 16.9002 - acc: 0.0588 - val_loss: 17.9576 - val_acc: 0.0000e+00\n",
      "Epoch 12/50\n",
      "17/17 [==============================] - 0s 4ms/step - loss: 15.0297 - acc: 0.0588 - val_loss: 15.7262 - val_acc: 0.0000e+00\n",
      "Epoch 13/50\n",
      "17/17 [==============================] - 0s 4ms/step - loss: 13.1797 - acc: 0.0588 - val_loss: 13.5787 - val_acc: 0.0000e+00\n",
      "Epoch 14/50\n",
      "17/17 [==============================] - 0s 4ms/step - loss: 11.4763 - acc: 0.0588 - val_loss: 11.6653 - val_acc: 0.0000e+00\n",
      "Epoch 15/50\n",
      "17/17 [==============================] - 0s 4ms/step - loss: 10.0710 - acc: 0.0588 - val_loss: 10.1693 - val_acc: 0.0000e+00\n",
      "Epoch 16/50\n",
      "17/17 [==============================] - 0s 3ms/step - loss: 9.1378 - acc: 0.1176 - val_loss: 9.2750 - val_acc: 0.0000e+00\n",
      "Epoch 17/50\n",
      "17/17 [==============================] - 0s 4ms/step - loss: 8.8304 - acc: 0.1176 - val_loss: 9.0740 - val_acc: 0.0000e+00\n",
      "Epoch 18/50\n",
      "17/17 [==============================] - 0s 4ms/step - loss: 9.1699 - acc: 0.1176 - val_loss: 9.4087 - val_acc: 0.0000e+00\n",
      "Epoch 19/50\n",
      "17/17 [==============================] - 0s 5ms/step - loss: 9.8872 - acc: 0.1765 - val_loss: 9.8888 - val_acc: 0.0000e+00\n",
      "Epoch 20/50\n",
      "17/17 [==============================] - 0s 3ms/step - loss: 10.5129 - acc: 0.0000e+00 - val_loss: 10.1969 - val_acc: 0.0000e+00\n"
     ]
    }
   ],
   "source": [
    "early_stopping_monitor = EarlyStopping(patience=3)\n",
    "history =secondModel.fit(X_train,Y_train,epochs=50,validation_split =0.2,callbacks=[early_stopping_monitor]) "
   ]
  },
  {
   "cell_type": "code",
   "execution_count": 19,
   "metadata": {},
   "outputs": [
    {
     "data": {
      "image/png": "[encoded data removed]",
      "text/plain": [
       "<Figure size 432x288 with 1 Axes>"
      ]
     },
     "metadata": {
      "needs_background": "light"
     },
     "output_type": "display_data"
    },
    {
     "data": {
      "text/plain": [
       "<Figure size 432x288 with 0 Axes>"
      ]
     },
     "metadata": {},
     "output_type": "display_data"
    }
   ],
   "source": [
    "# summarize history for loss\n",
    "plt.plot(history.history['loss'])\n",
    "plt.plot(history.history['val_loss'])\n",
    "plt.title('model loss')\n",
    "plt.ylabel('loss')\n",
    "plt.xlabel('epoch')\n",
    "plt.legend(['train', 'test'], loc='upper right')\n",
    "plt.show()\n",
    "plt.savefig('model2_loss_50epochs.png')"
   ]
  },
  {
   "cell_type": "code",
   "execution_count": 20,
   "metadata": {},
   "outputs": [],
   "source": [
    "y_hat =secondModel.predict(X_test)"
   ]
  },
  {
   "cell_type": "code",
   "execution_count": 21,
   "metadata": {},
   "outputs": [
    {
     "data": {
      "text/plain": [
       "(6, 22)"
      ]
     },
     "execution_count": 21,
     "metadata": {},
     "output_type": "execute_result"
    }
   ],
   "source": [
    "y_hat.shape"
   ]
  },
  {
   "cell_type": "code",
   "execution_count": 31,
   "metadata": {},
   "outputs": [
    {
     "data": {
      "text/plain": [
       "[<matplotlib.lines.Line2D at 0x7f402e0096a0>]"
      ]
     },
     "execution_count": 31,
     "metadata": {},
     "output_type": "execute_result"
    },
    {
     "data": {
      "image/png": "[encoded data removed]",
      "text/plain": [
       "<Figure size 432x288 with 1 Axes>"
      ]
     },
     "metadata": {
      "needs_background": "light"
     },
     "output_type": "display_data"
    }
   ],
   "source": [
    "plt.plot(y_hat[5,:])\n",
    "plt.plot(Y_test[5,:])"
   ]
  },
  {
   "cell_type": "code",
   "execution_count": 23,
   "metadata": {},
   "outputs": [
    {
     "ename": "ValueError",
     "evalue": "Error when checking input: expected conv1d_5_input to have 3 dimensions, but got array with shape (0, 2048)",
     "output_type": "error",
     "traceback": [
      "\u001b[0;31m---------------------------------------------------------------------------\u001b[0m",
      "\u001b[0;31mValueError\u001b[0m                                Traceback (most recent call last)",
      "\u001b[0;32m<ipython-input-23-ddb2b1f90982>\u001b[0m in \u001b[0;36m<module>\u001b[0;34m\u001b[0m\n\u001b[1;32m      2\u001b[0m \u001b[0;32mfor\u001b[0m \u001b[0mk\u001b[0m \u001b[0;32min\u001b[0m \u001b[0mnp\u001b[0m\u001b[0;34m.\u001b[0m\u001b[0marange\u001b[0m\u001b[0;34m(\u001b[0m\u001b[0;36m10\u001b[0m\u001b[0;34m)\u001b[0m\u001b[0;34m:\u001b[0m\u001b[0;34m\u001b[0m\u001b[0m\n\u001b[1;32m      3\u001b[0m     \u001b[0mk_xtrain\u001b[0m\u001b[0;34m,\u001b[0m \u001b[0mk_ytrain\u001b[0m \u001b[0;34m=\u001b[0m \u001b[0mX\u001b[0m\u001b[0;34m.\u001b[0m\u001b[0mT\u001b[0m\u001b[0;34m[\u001b[0m\u001b[0;34m:\u001b[0m\u001b[0mk\u001b[0m\u001b[0;34m,\u001b[0m\u001b[0;34m:\u001b[0m\u001b[0;34m]\u001b[0m\u001b[0;34m,\u001b[0m\u001b[0mconcs\u001b[0m\u001b[0;34m[\u001b[0m\u001b[0;34m:\u001b[0m\u001b[0mk\u001b[0m\u001b[0;34m,\u001b[0m\u001b[0;34m:\u001b[0m\u001b[0;34m]\u001b[0m\u001b[0;34m\u001b[0m\u001b[0m\n\u001b[0;32m----> 4\u001b[0;31m     \u001b[0mmodel_history\u001b[0m \u001b[0;34m=\u001b[0m\u001b[0mfirstModel\u001b[0m\u001b[0;34m.\u001b[0m\u001b[0mfit\u001b[0m\u001b[0;34m(\u001b[0m\u001b[0mk_xtrain\u001b[0m\u001b[0;34m,\u001b[0m\u001b[0mk_ytrain\u001b[0m\u001b[0;34m,\u001b[0m\u001b[0mepochs\u001b[0m\u001b[0;34m=\u001b[0m\u001b[0;36m50\u001b[0m\u001b[0;34m,\u001b[0m\u001b[0mcallbacks\u001b[0m\u001b[0;34m=\u001b[0m\u001b[0;34m[\u001b[0m\u001b[0mearly_stopping_monitor\u001b[0m\u001b[0;34m]\u001b[0m\u001b[0;34m)\u001b[0m\u001b[0;34m\u001b[0m\u001b[0m\n\u001b[0m\u001b[1;32m      5\u001b[0m     \u001b[0mmodel_history1\u001b[0m \u001b[0;34m=\u001b[0m\u001b[0msecondModel\u001b[0m\u001b[0;34m.\u001b[0m\u001b[0mfit\u001b[0m\u001b[0;34m(\u001b[0m\u001b[0mk_xtrain\u001b[0m\u001b[0;34m,\u001b[0m\u001b[0mk_ytrain\u001b[0m\u001b[0;34m,\u001b[0m\u001b[0mepochs\u001b[0m\u001b[0;34m=\u001b[0m\u001b[0;36m50\u001b[0m\u001b[0;34m,\u001b[0m\u001b[0mcallbacks\u001b[0m\u001b[0;34m=\u001b[0m\u001b[0;34m[\u001b[0m\u001b[0mearly_stopping_monitor\u001b[0m\u001b[0;34m]\u001b[0m\u001b[0;34m)\u001b[0m\u001b[0;34m\u001b[0m\u001b[0m\n\u001b[1;32m      6\u001b[0m \u001b[0;34m\u001b[0m\u001b[0m\n",
      "\u001b[0;32m~/anaconda3/envs/tensorflow/lib/python3.6/site-packages/keras/engine/training.py\u001b[0m in \u001b[0;36mfit\u001b[0;34m(self, x, y, batch_size, epochs, verbose, callbacks, validation_split, validation_data, shuffle, class_weight, sample_weight, initial_epoch, steps_per_epoch, validation_steps, **kwargs)\u001b[0m\n\u001b[1;32m    950\u001b[0m             \u001b[0msample_weight\u001b[0m\u001b[0;34m=\u001b[0m\u001b[0msample_weight\u001b[0m\u001b[0;34m,\u001b[0m\u001b[0;34m\u001b[0m\u001b[0m\n\u001b[1;32m    951\u001b[0m             \u001b[0mclass_weight\u001b[0m\u001b[0;34m=\u001b[0m\u001b[0mclass_weight\u001b[0m\u001b[0;34m,\u001b[0m\u001b[0;34m\u001b[0m\u001b[0m\n\u001b[0;32m--> 952\u001b[0;31m             batch_size=batch_size)\n\u001b[0m\u001b[1;32m    953\u001b[0m         \u001b[0;31m# Prepare validation data.\u001b[0m\u001b[0;34m\u001b[0m\u001b[0;34m\u001b[0m\u001b[0m\n\u001b[1;32m    954\u001b[0m         \u001b[0mdo_validation\u001b[0m \u001b[0;34m=\u001b[0m \u001b[0;32mFalse\u001b[0m\u001b[0;34m\u001b[0m\u001b[0m\n",
      "\u001b[0;32m~/anaconda3/envs/tensorflow/lib/python3.6/site-packages/keras/engine/training.py\u001b[0m in \u001b[0;36m_standardize_user_data\u001b[0;34m(self, x, y, sample_weight, class_weight, check_array_lengths, batch_size)\u001b[0m\n\u001b[1;32m    749\u001b[0m             \u001b[0mfeed_input_shapes\u001b[0m\u001b[0;34m,\u001b[0m\u001b[0;34m\u001b[0m\u001b[0m\n\u001b[1;32m    750\u001b[0m             \u001b[0mcheck_batch_axis\u001b[0m\u001b[0;34m=\u001b[0m\u001b[0;32mFalse\u001b[0m\u001b[0;34m,\u001b[0m  \u001b[0;31m# Don't enforce the batch size.\u001b[0m\u001b[0;34m\u001b[0m\u001b[0m\n\u001b[0;32m--> 751\u001b[0;31m             exception_prefix='input')\n\u001b[0m\u001b[1;32m    752\u001b[0m \u001b[0;34m\u001b[0m\u001b[0m\n\u001b[1;32m    753\u001b[0m         \u001b[0;32mif\u001b[0m \u001b[0my\u001b[0m \u001b[0;32mis\u001b[0m \u001b[0;32mnot\u001b[0m \u001b[0;32mNone\u001b[0m\u001b[0;34m:\u001b[0m\u001b[0;34m\u001b[0m\u001b[0m\n",
      "\u001b[0;32m~/anaconda3/envs/tensorflow/lib/python3.6/site-packages/keras/engine/training_utils.py\u001b[0m in \u001b[0;36mstandardize_input_data\u001b[0;34m(data, names, shapes, check_batch_axis, exception_prefix)\u001b[0m\n\u001b[1;32m    126\u001b[0m                         \u001b[0;34m': expected '\u001b[0m \u001b[0;34m+\u001b[0m \u001b[0mnames\u001b[0m\u001b[0;34m[\u001b[0m\u001b[0mi\u001b[0m\u001b[0;34m]\u001b[0m \u001b[0;34m+\u001b[0m \u001b[0;34m' to have '\u001b[0m \u001b[0;34m+\u001b[0m\u001b[0;34m\u001b[0m\u001b[0m\n\u001b[1;32m    127\u001b[0m                         \u001b[0mstr\u001b[0m\u001b[0;34m(\u001b[0m\u001b[0mlen\u001b[0m\u001b[0;34m(\u001b[0m\u001b[0mshape\u001b[0m\u001b[0;34m)\u001b[0m\u001b[0;34m)\u001b[0m \u001b[0;34m+\u001b[0m \u001b[0;34m' dimensions, but got array '\u001b[0m\u001b[0;34m\u001b[0m\u001b[0m\n\u001b[0;32m--> 128\u001b[0;31m                         'with shape ' + str(data_shape))\n\u001b[0m\u001b[1;32m    129\u001b[0m                 \u001b[0;32mif\u001b[0m \u001b[0;32mnot\u001b[0m \u001b[0mcheck_batch_axis\u001b[0m\u001b[0;34m:\u001b[0m\u001b[0;34m\u001b[0m\u001b[0m\n\u001b[1;32m    130\u001b[0m                     \u001b[0mdata_shape\u001b[0m \u001b[0;34m=\u001b[0m \u001b[0mdata_shape\u001b[0m\u001b[0;34m[\u001b[0m\u001b[0;36m1\u001b[0m\u001b[0;34m:\u001b[0m\u001b[0;34m]\u001b[0m\u001b[0;34m\u001b[0m\u001b[0m\n",
      "\u001b[0;31mValueError\u001b[0m: Error when checking input: expected conv1d_5_input to have 3 dimensions, but got array with shape (0, 2048)"
     ]
    }
   ],
   "source": []
  }
 ],
 "metadata": {
  "kernelspec": {
   "display_name": "Python 3",
   "language": "python",
   "name": "python3"
  },
  "language_info": {
   "codemirror_mode": {
    "name": "ipython",
    "version": 3
   },
   "file_extension": ".py",
   "mimetype": "text/x-python",
   "name": "python",
   "nbconvert_exporter": "python",
   "pygments_lexer": "ipython3",
   "version": "3.6.6"
  }
 },
 "nbformat": 4,
 "nbformat_minor": 2
}
